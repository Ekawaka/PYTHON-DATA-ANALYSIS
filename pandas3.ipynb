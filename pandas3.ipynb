{
  "nbformat": 4,
  "nbformat_minor": 0,
  "metadata": {
    "colab": {
      "provenance": [],
      "authorship_tag": "ABX9TyN+3XoXoJmQPUec5BzY4RIb",
      "include_colab_link": true
    },
    "kernelspec": {
      "name": "python3",
      "display_name": "Python 3"
    },
    "language_info": {
      "name": "python"
    }
  },
  "cells": [
    {
      "cell_type": "markdown",
      "metadata": {
        "id": "view-in-github",
        "colab_type": "text"
      },
      "source": [
        "<a href=\"https://colab.research.google.com/github/Ekawaka/PYTHON-DATA-ANALYSIS/blob/main/pandas3.ipynb\" target=\"_parent\"><img src=\"https://colab.research.google.com/assets/colab-badge.svg\" alt=\"Open In Colab\"/></a>"
      ]
    },
    {
      "cell_type": "markdown",
      "source": [
        "Student Alcohol Consumption\n",
        "Introduction:\n",
        "This time you will download a dataset from the UCI."
      ],
      "metadata": {
        "id": "qjKDBRs6iJip"
      }
    },
    {
      "cell_type": "code",
      "source": [
        "# Step 1. Import the necessary libraries\n",
        "import pandas as pd\n",
        "import numpy as np"
      ],
      "metadata": {
        "id": "Vntry0S0iMRy"
      },
      "execution_count": 1,
      "outputs": []
    },
    {
      "cell_type": "code",
      "source": [
        "# Step 2. Import the dataset from this address.\n",
        "\n",
        "df = pd.read_csv('https://raw.githubusercontent.com/guipsamora/pandas_exercises/master/04_Apply/Students_Alcohol_Consumption/student-mat.csv')\n",
        "\n"
      ],
      "metadata": {
        "id": "tAPIEKLWidqr"
      },
      "execution_count": 9,
      "outputs": []
    },
    {
      "cell_type": "code",
      "source": [
        "#Step 3. Assign it to a variable called df.\n",
        "\n",
        "print(df.head())"
      ],
      "metadata": {
        "colab": {
          "base_uri": "https://localhost:8080/"
        },
        "id": "XHG6a5TVj2GB",
        "outputId": "e75dae0b-7685-4026-caf1-2273af9be285"
      },
      "execution_count": 15,
      "outputs": [
        {
          "output_type": "stream",
          "name": "stdout",
          "text": [
            "  school sex  age address famsize Pstatus  Medu  Fedu     Mjob      Fjob  ...  \\\n",
            "0     GP   F   18       U     GT3       A     4     4  At_home   Teacher  ...   \n",
            "1     GP   F   17       U     GT3       T     1     1  At_home     Other  ...   \n",
            "2     GP   F   15       U     LE3       T     1     1  At_home     Other  ...   \n",
            "3     GP   F   15       U     GT3       T     4     2   Health  Services  ...   \n",
            "4     GP   F   16       U     GT3       T     3     3    Other     Other  ...   \n",
            "\n",
            "  famrel freetime  goout  Dalc  Walc health absences  G1  G2  G3  \n",
            "0      4        3      4     1     1      3        6   5   6   6  \n",
            "1      5        3      3     1     1      3        4   5   5   6  \n",
            "2      4        3      2     2     3      3       10   7   8  10  \n",
            "3      3        2      2     1     1      5        2  15  14  15  \n",
            "4      4        3      2     1     2      5        4   6  10  10  \n",
            "\n",
            "[5 rows x 33 columns]\n"
          ]
        }
      ]
    },
    {
      "cell_type": "code",
      "source": [
        "# Step 4. For the purpose of this exercise slice the dataframe from 'school' until the 'guardian' column\n",
        "\n",
        "df_sliced = df.loc[:, 'school':'guardian']"
      ],
      "metadata": {
        "id": "vjBVvUAWks7r"
      },
      "execution_count": 10,
      "outputs": []
    },
    {
      "cell_type": "code",
      "source": [
        "# Step 5. Create a lambda function that will capitalize strings.\n",
        "\n",
        "capitalize_string = lambda x: x.capitalize()"
      ],
      "metadata": {
        "id": "dyBmfRuIk6-F"
      },
      "execution_count": 11,
      "outputs": []
    },
    {
      "cell_type": "code",
      "source": [
        "# Step 6. Capitalize both Mjob and Fjob\n",
        "\n",
        "df[['Mjob', 'Fjob']] = df[['Mjob', 'Fjob']].applymap(lambda x: x.capitalize())"
      ],
      "metadata": {
        "id": "ZPhIPaHklO9X"
      },
      "execution_count": 12,
      "outputs": []
    },
    {
      "cell_type": "code",
      "source": [
        "# Step 7. Print the last elements of the data set.\n",
        "# This will print the last 5 rows by default\n",
        "\n",
        "print(df.tail())"
      ],
      "metadata": {
        "id": "etwvWqeOlgsU"
      },
      "execution_count": null,
      "outputs": []
    },
    {
      "cell_type": "code",
      "source": [
        "# Step 8. Did you notice the original dataframe is still lowercase? Why is that? Fix it and capitalize Mjob and Fjob.\n",
        "\n",
        "df[['Mjob', 'Fjob']] = df[['Mjob', 'Fjob']].applymap(lambda x: x.capitalize())"
      ],
      "metadata": {
        "id": "I9l5v-iDmOG8"
      },
      "execution_count": 16,
      "outputs": []
    },
    {
      "cell_type": "code",
      "source": [
        "# Step 9. Create a function called majority that returns a boolean value to a new column called legal_drinker (Consider majority as older than 17 years old)\n",
        "\n",
        "def majority(age):\n",
        "    return age > 17\n",
        "\n",
        "df['legal_drinker'] = df['age'].apply(majority)"
      ],
      "metadata": {
        "id": "b5ckoD17mpTR"
      },
      "execution_count": 17,
      "outputs": []
    },
    {
      "cell_type": "code",
      "source": [
        "# Step 10. Multiply every number of the dataset by 10.\n",
        "# I know this makes no sense, don't forget it is just an exercise\n",
        "\n",
        "df = df.applymap(lambda x: x * 10 if isinstance(x, (int, float)) else x)"
      ],
      "metadata": {
        "id": "FhCUQbG4m-Jr"
      },
      "execution_count": 18,
      "outputs": []
    }
  ]
}