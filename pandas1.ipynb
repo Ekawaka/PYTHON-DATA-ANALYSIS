{
  "nbformat": 4,
  "nbformat_minor": 0,
  "metadata": {
    "colab": {
      "provenance": [],
      "authorship_tag": "ABX9TyMO1Y8xnu02RkjK5nBQxSgK",
      "include_colab_link": true
    },
    "kernelspec": {
      "name": "python3",
      "display_name": "Python 3"
    },
    "language_info": {
      "name": "python"
    }
  },
  "cells": [
    {
      "cell_type": "markdown",
      "metadata": {
        "id": "view-in-github",
        "colab_type": "text"
      },
      "source": [
        "<a href=\"https://colab.research.google.com/github/Ekawaka/PYTHON-DATA-ANALYSIS/blob/main/pandas1.ipynb\" target=\"_parent\"><img src=\"https://colab.research.google.com/assets/colab-badge.svg\" alt=\"Open In Colab\"/></a>"
      ]
    },
    {
      "cell_type": "code",
      "execution_count": 4,
      "metadata": {
        "id": "H4tlngrbzDZS"
      },
      "outputs": [],
      "source": [
        "# Step 1. Import the necessary libraries\n",
        "import pandas\n",
        "pandas. __version__\n",
        "\n",
        "import pandas as pd\n"
      ]
    },
    {
      "cell_type": "code",
      "source": [
        "#Step 2. Create a data dictionary that looks like the DataFrame below\n",
        "\n",
        " #evolution: Represents the evolved form of a Pokémon.\n",
        "  #Data type: string\n",
        "\n",
        "# hp: Represents the hit points (health) of a Pokémon.\n",
        "  # Data type: integer\n",
        "\n",
        "# name: Represents the name of a Pokémon.\n",
        "  # Data type: string\n",
        "\n",
        "# pokedex: Indicates whether the Pokémon is included in the Pokédex.\n",
        "  # Data type: string (values: \"yes\" or \"no\")\n",
        "\n",
        "# type: Represents the elemental type of a Pokémon.\n",
        "  # Data type: string"
      ],
      "metadata": {
        "id": "NNJiI-rT0Hlj"
      },
      "execution_count": 5,
      "outputs": []
    },
    {
      "cell_type": "code",
      "source": [
        "# Step 3. Assign it to a variable called pokemon\n",
        "# Creating the DataFrame\n",
        "data = {\n",
        "    'evolution': ['Ivysaur', 'Charmeleon', 'Wartortle', 'Metapod'],\n",
        "    'hp': [45, 39, 44, 45],\n",
        "    'name': ['Bulbasaur', 'Charmander', 'Squirtle', 'Caterpie'],\n",
        "    'pokedex': ['yes', 'no', 'yes', 'no'],\n",
        "    'type': ['grass', 'fire', 'water', 'bug']\n",
        "}\n",
        "\n",
        "pokemon = pd.DataFrame(data)\n",
        "\n",
        "# Displaying the DataFrame\n",
        "print(pokemon)"
      ],
      "metadata": {
        "id": "HjFKVoqP2kVq"
      },
      "execution_count": null,
      "outputs": []
    },
    {
      "cell_type": "code",
      "source": [
        "# Step 4. Ops...it seems the DataFrame columns are in alphabetical order. Place the order of the columns as name, type, hp, evolution, pokedex\n",
        "\n",
        "# Creating the DataFrame\n",
        "data = {\n",
        "    'evolution': ['Ivysaur', 'Charmeleon', 'Wartortle', 'Metapod'],\n",
        "    'hp': [45, 39, 44, 45],\n",
        "    'name': ['Bulbasaur', 'Charmander', 'Squirtle', 'Caterpie'],\n",
        "    'pokedex': ['yes', 'no', 'yes', 'no'],\n",
        "    'type': ['grass', 'fire', 'water', 'bug']\n",
        "}\n",
        "\n",
        "pokemon = pd.DataFrame(data)\n",
        "\n",
        "# Reordering the columns\n",
        "pokemon = pokemon[['name', 'type', 'hp', 'evolution', 'pokedex']]\n",
        "\n",
        "# Displaying the DataFrame\n",
        "print(pokemon)"
      ],
      "metadata": {
        "id": "JMkAL45l3SRh"
      },
      "execution_count": null,
      "outputs": []
    },
    {
      "cell_type": "code",
      "source": [
        "# Step 5. Add another column called place, and insert what you have in mind.\n",
        "\n",
        "# Creating the DataFrame\n",
        "data = {\n",
        "    'evolution': ['Ivysaur', 'Charmeleon', 'Wartortle', 'Metapod'],\n",
        "    'hp': [45, 39, 44, 45],\n",
        "    'name': ['Bulbasaur', 'Charmander', 'Squirtle', 'Caterpie'],\n",
        "    'pokedex': ['yes', 'no', 'yes', 'no'],\n",
        "    'type': ['grass', 'fire', 'water', 'bug']\n",
        "}\n",
        "\n",
        "pokemon = pd.DataFrame(data)\n",
        "\n",
        "# Reordering the columns\n",
        "pokemon = pokemon[['name', 'type', 'hp', 'evolution', 'pokedex']]\n",
        "\n",
        "# Adding a new column called \"place\"\n",
        "pokemon['place'] = ['beach', 'island', 'mountain', 'forest']\n",
        "\n",
        "# Displaying the DataFrame\n",
        "print(pokemon)"
      ],
      "metadata": {
        "id": "UoV9GbRx3mWR"
      },
      "execution_count": null,
      "outputs": []
    },
    {
      "cell_type": "code",
      "source": [
        "# Step 6. Present the type of each column\n",
        "\n",
        "# Creating the DataFrame\n",
        "data = {\n",
        "    'evolution': ['Ivysaur', 'Charmeleon', 'Wartortle', 'Metapod'],\n",
        "    'hp': [45, 39, 44, 45],\n",
        "    'name': ['Bulbasaur', 'Charmander', 'Squirtle', 'Caterpie'],\n",
        "    'pokedex': ['yes', 'no', 'yes', 'no'],\n",
        "    'type': ['grass', 'fire', 'water', 'bug'],\n",
        "    'place': ['beach', 'island', 'mountain', 'forest']\n",
        "}\n",
        "\n",
        "pokemon = pd.DataFrame(data)\n",
        "\n",
        "# Reordering the columns\n",
        "pokemon = pokemon[['name', 'type', 'hp', 'evolution', 'pokedex', 'place']]\n",
        "\n",
        "# Presenting the type of each column\n",
        "print(pokemon.dtypes)"
      ],
      "metadata": {
        "colab": {
          "base_uri": "https://localhost:8080/"
        },
        "id": "NCo515N34cPN",
        "outputId": "604a4ba6-b224-412f-e9a7-24609630949d"
      },
      "execution_count": 9,
      "outputs": [
        {
          "output_type": "stream",
          "name": "stdout",
          "text": [
            "name         object\n",
            "type         object\n",
            "hp            int64\n",
            "evolution    object\n",
            "pokedex      object\n",
            "place        object\n",
            "dtype: object\n"
          ]
        }
      ]
    }
  ]
}