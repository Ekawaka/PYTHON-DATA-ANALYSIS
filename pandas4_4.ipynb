{
  "nbformat": 4,
  "nbformat_minor": 0,
  "metadata": {
    "colab": {
      "provenance": [],
      "authorship_tag": "ABX9TyOZ/96jeQWMVbhpFIjC0LVW",
      "include_colab_link": true
    },
    "kernelspec": {
      "name": "python3",
      "display_name": "Python 3"
    },
    "language_info": {
      "name": "python"
    }
  },
  "cells": [
    {
      "cell_type": "markdown",
      "metadata": {
        "id": "view-in-github",
        "colab_type": "text"
      },
      "source": [
        "<a href=\"https://colab.research.google.com/github/Ekawaka/PYTHON-DATA-ANALYSIS/blob/main/pandas4_4.ipynb\" target=\"_parent\"><img src=\"https://colab.research.google.com/assets/colab-badge.svg\" alt=\"Open In Colab\"/></a>"
      ]
    },
    {
      "cell_type": "markdown",
      "source": [
        "US - Baby Names\n",
        "Introduction:\n",
        "We are going to use a subset of US Baby Names from Kaggle.\n",
        "In the file it will be names from 2004 until 2014"
      ],
      "metadata": {
        "id": "CwQSKVVG1CTk"
      }
    },
    {
      "cell_type": "code",
      "source": [
        "# Step 1. Import the necessary libraries\n",
        "import pandas as pd\n",
        "import numpy as np"
      ],
      "metadata": {
        "id": "RUH2cNM61EwB"
      },
      "execution_count": 2,
      "outputs": []
    },
    {
      "cell_type": "code",
      "source": [
        "# Step 1. Import the necessary libraries\n",
        "\n",
        "df = pd.read_csv('https://raw.githubusercontent.com/guipsamora/pandas_exercises/master/06_Stats/US_Baby_Names/US_Baby_Names_right.csv')\n",
        "\n",
        "print(df.head())"
      ],
      "metadata": {
        "id": "1f-owCPJ1XMz"
      },
      "execution_count": null,
      "outputs": []
    },
    {
      "cell_type": "code",
      "source": [
        "# Step 3. Assign it to a variable called baby_names.\n",
        "\n",
        "baby_names = pd.read_csv('https://raw.githubusercontent.com/guipsamora/pandas_exercises/master/06_Stats/US_Baby_Names/US_Baby_Names_right.csv')\n",
        "\n",
        "print(baby_names.head())"
      ],
      "metadata": {
        "id": "2qksFlas1wCD"
      },
      "execution_count": null,
      "outputs": []
    },
    {
      "cell_type": "code",
      "source": [
        "7 # Step 4. See the first 10 entries\n",
        "print(baby_names.head(10))"
      ],
      "metadata": {
        "id": "_jfoqnck2Cwd"
      },
      "execution_count": null,
      "outputs": []
    },
    {
      "cell_type": "code",
      "source": [
        "#Step 5. Delete the column 'Unnamed: 0' and 'Id'\n",
        "\n",
        "# Drop the 'Unnamed: 0' and 'Id' columns\n",
        "baby_names = baby_names.drop(['Unnamed: 0', 'Id'], axis=1)\n",
        "\n",
        "print(baby_names.head())"
      ],
      "metadata": {
        "id": "HVmgq_Iy2Tnr"
      },
      "execution_count": null,
      "outputs": []
    },
    {
      "cell_type": "code",
      "source": [
        "# Step 6. Is there more male or female names in the dataset?\n",
        "\n",
        "# Count the occurrences of each gender\n",
        "gender_counts = baby_names['Gender'].value_counts()\n",
        "\n",
        "# Print the gender counts\n",
        "print(gender_counts)"
      ],
      "metadata": {
        "id": "yiCQWip_2kV3"
      },
      "execution_count": null,
      "outputs": []
    },
    {
      "cell_type": "code",
      "source": [
        "# Step 7. Group the dataset by name and assign to names\n",
        "\n",
        "# Group the dataset by name\n",
        "names = baby_names.groupby('Name').sum()\n",
        "\n",
        "print(names.head())"
      ],
      "metadata": {
        "id": "UezVo9DT2sCQ"
      },
      "execution_count": null,
      "outputs": []
    },
    {
      "cell_type": "code",
      "source": [
        "# Step 8. How many different names exist in the dataset?\n",
        "\n",
        "num_different_names = len(names)\n",
        "print(\"Number of different names in the dataset:\", num_different_names)"
      ],
      "metadata": {
        "id": "KUi-WFMx2wb2"
      },
      "execution_count": null,
      "outputs": []
    },
    {
      "cell_type": "code",
      "source": [
        "# Step 9. What is the name with most occurrences?\n",
        "\n",
        "# Find the name with the most occurrences\n",
        "most_occurred_name = names['Count'].idxmax()\n",
        "print(\"Name with the most occurrences:\", most_occurred_name)"
      ],
      "metadata": {
        "id": "FumuPwUE21zV"
      },
      "execution_count": null,
      "outputs": []
    },
    {
      "cell_type": "code",
      "source": [
        "# Step 10. How many different names have the least occurrences?\n",
        "\n",
        "# Find the minimum count\n",
        "min_count = names['Count'].min()\n",
        "\n",
        "# Count the number of different names with the minimum count\n",
        "num_names_with_min_count = (names['Count'] == min_count).sum()\n",
        "print(\"Number of different names with the least occurrences:\", num_names_with_min_count)"
      ],
      "metadata": {
        "id": "e8aHs-fp25fz"
      },
      "execution_count": null,
      "outputs": []
    },
    {
      "cell_type": "code",
      "source": [
        "# Step 11. What is the median name occurrence?\n",
        "\n",
        "# Calculate the median name occurrence\n",
        "median_name_occurrence = names['Count'].median()\n",
        "print(\"Median name occurrence:\", median_name_occurrence)"
      ],
      "metadata": {
        "id": "Kkg0eltC29n3"
      },
      "execution_count": null,
      "outputs": []
    },
    {
      "cell_type": "code",
      "source": [
        "# Step 12. What is the standard deviation of names?\n",
        "\n",
        "# Calculate the standard deviation of names' occurrences\n",
        "std_dev_names = names['Count'].std()\n",
        "print(\"Standard deviation of names' occurrences:\", std_dev_names)"
      ],
      "metadata": {
        "id": "1rtgaJ-03DQ0"
      },
      "execution_count": null,
      "outputs": []
    },
    {
      "cell_type": "code",
      "source": [
        "# Step 13. Get a summary with the mean, min, max, std and quartiles.\n",
        "\n",
        "# Get a summary with mean, min, max, std, and quartiles\n",
        "summary = names['Count'].describe()\n",
        "print(summary)"
      ],
      "metadata": {
        "id": "aDRmcolN3Hhh"
      },
      "execution_count": null,
      "outputs": []
    }
  ]
}