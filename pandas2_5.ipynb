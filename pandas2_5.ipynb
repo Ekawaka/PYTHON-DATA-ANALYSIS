{
  "nbformat": 4,
  "nbformat_minor": 0,
  "metadata": {
    "colab": {
      "provenance": [],
      "authorship_tag": "ABX9TyOT5+hewlTk6/P32QoJOO9f",
      "include_colab_link": true
    },
    "kernelspec": {
      "name": "python3",
      "display_name": "Python 3"
    },
    "language_info": {
      "name": "python"
    }
  },
  "cells": [
    {
      "cell_type": "markdown",
      "metadata": {
        "id": "view-in-github",
        "colab_type": "text"
      },
      "source": [
        "<a href=\"https://colab.research.google.com/github/Ekawaka/PYTHON-DATA-ANALYSIS/blob/main/pandas2_5.ipynb\" target=\"_parent\"><img src=\"https://colab.research.google.com/assets/colab-badge.svg\" alt=\"Open In Colab\"/></a>"
      ]
    },
    {
      "cell_type": "markdown",
      "source": [
        "Regiment\n",
        "Introduction:\n",
        "Special thanks to: http://chrisalbon.com/ for sharing the dataset and materials"
      ],
      "metadata": {
        "id": "1a_VIec0TzU9"
      }
    },
    {
      "cell_type": "code",
      "source": [
        "# Step 1. Import the necessary libraries\n",
        "import pandas as pd"
      ],
      "metadata": {
        "id": "paGTPmKHT3Pa"
      },
      "execution_count": 1,
      "outputs": []
    },
    {
      "cell_type": "code",
      "source": [
        "# Step 2. Create the DataFrame with the following values:\n",
        "raw_data = {'regiment': ['Nighthawks', 'Nighthawks', 'Nighthawks', 'Nighthawks', 'Dragoons', 'Dragoons', 'Dragoons', 'Dragoons', 'Scouts', 'Scouts', 'Scouts', 'Scouts'],\n",
        "        'company': ['1st', '1st', '2nd', '2nd', '1st', '1st', '2nd', '2nd','1st', '1st', '2nd', '2nd'],\n",
        "        'name': ['Miller', 'Jacobson', 'Ali', 'Milner', 'Cooze', 'Jacon', 'Ryaner', 'Sone', 'Sloan', 'Piger', 'Riani', 'Ali'],\n",
        "        'preTestScore': [4, 24, 31, 2, 3, 4, 24, 31, 2, 3, 2, 3],\n",
        "        'postTestScore': [25, 94, 57, 62, 70, 25, 94, 57, 62, 70, 62, 70]}"
      ],
      "metadata": {
        "id": "zQgszSY4pt5N"
      },
      "execution_count": 2,
      "outputs": []
    },
    {
      "cell_type": "code",
      "source": [
        "# Step 3. Assign it to a variable called regiment.\n",
        "# Don't forget to name each column\n",
        "\n",
        "# Create the DataFrame and assign it to the variable regiment\n",
        "regiment = pd.DataFrame(raw_data)\n",
        "\n",
        "# Display the DataFrame\n",
        "print(regiment)"
      ],
      "metadata": {
        "colab": {
          "base_uri": "https://localhost:8080/"
        },
        "id": "crTdlX4Hp4hd",
        "outputId": "c6929780-7df8-4575-a569-bd394f4faeed"
      },
      "execution_count": 3,
      "outputs": [
        {
          "output_type": "stream",
          "name": "stdout",
          "text": [
            "      regiment company      name  preTestScore  postTestScore\n",
            "0   Nighthawks     1st    Miller             4             25\n",
            "1   Nighthawks     1st  Jacobson            24             94\n",
            "2   Nighthawks     2nd       Ali            31             57\n",
            "3   Nighthawks     2nd    Milner             2             62\n",
            "4     Dragoons     1st     Cooze             3             70\n",
            "5     Dragoons     1st     Jacon             4             25\n",
            "6     Dragoons     2nd    Ryaner            24             94\n",
            "7     Dragoons     2nd      Sone            31             57\n",
            "8       Scouts     1st     Sloan             2             62\n",
            "9       Scouts     1st     Piger             3             70\n",
            "10      Scouts     2nd     Riani             2             62\n",
            "11      Scouts     2nd       Ali             3             70\n"
          ]
        }
      ]
    },
    {
      "cell_type": "code",
      "source": [
        "# Step 4. What is the mean preTestScore from the regiment Nighthawks?\n",
        "\n",
        "# Filter the DataFrame for rows where the 'regiment' column is equal to \"Nighthawks\"\n",
        "nighthawks_scores = regiment[regiment['regiment'] == 'Nighthawks']\n",
        "\n",
        "# Calculate the mean preTestScore for the regiment \"Nighthawks\"\n",
        "mean_preTestScore = nighthawks_scores['preTestScore'].mean()\n",
        "\n",
        "# Print the mean preTestScore\n",
        "print(\"Mean preTestScore for the regiment Nighthawks:\", mean_preTestScore)"
      ],
      "metadata": {
        "colab": {
          "base_uri": "https://localhost:8080/"
        },
        "id": "IUusN9enqTDv",
        "outputId": "28655d00-69a4-4ca1-9493-2ee6ac3a46b8"
      },
      "execution_count": 4,
      "outputs": [
        {
          "output_type": "stream",
          "name": "stdout",
          "text": [
            "Mean preTestScore for the regiment Nighthawks: 15.25\n"
          ]
        }
      ]
    },
    {
      "cell_type": "code",
      "source": [
        "# Step 5. Present general statistics by company\n",
        "\n",
        "# Group the data by company and calculate the descriptive statistics\n",
        "company_statistics = regiment.groupby('company').describe()\n",
        "\n",
        "# Print the general statistics by company\n",
        "print(company_statistics)"
      ],
      "metadata": {
        "colab": {
          "base_uri": "https://localhost:8080/"
        },
        "id": "UrOMBdUlqkWF",
        "outputId": "0ac9d7ba-77a0-4b72-e233-825cb6842d46"
      },
      "execution_count": 5,
      "outputs": [
        {
          "output_type": "stream",
          "name": "stdout",
          "text": [
            "        preTestScore                                                      \\\n",
            "               count       mean        std  min   25%   50%    75%   max   \n",
            "company                                                                    \n",
            "1st              6.0   6.666667   8.524475  2.0  3.00   3.5   4.00  24.0   \n",
            "2nd              6.0  15.500000  14.652645  2.0  2.25  13.5  29.25  31.0   \n",
            "\n",
            "        postTestScore                                                       \n",
            "                count       mean        std   min    25%   50%   75%   max  \n",
            "company                                                                     \n",
            "1st               6.0  57.666667  27.485754  25.0  34.25  66.0  70.0  94.0  \n",
            "2nd               6.0  67.000000  14.057027  57.0  58.25  62.0  68.0  94.0  \n"
          ]
        }
      ]
    },
    {
      "cell_type": "code",
      "source": [
        "# Step 6. What is the mean of each company's preTestScore?\n",
        "\n",
        "# Group the data by company and calculate the mean of preTestScore for each group\n",
        "mean_preTestScore_by_company = regiment.groupby('company')['preTestScore'].mean()\n",
        "\n",
        "# Print the mean of each company's preTestScore\n",
        "print(\"Mean of each company's preTestScore:\")\n",
        "print(mean_preTestScore_by_company)"
      ],
      "metadata": {
        "colab": {
          "base_uri": "https://localhost:8080/"
        },
        "id": "Qcbbf0OvquKJ",
        "outputId": "7f30ec96-ef79-42c8-bb47-9048fcc7bada"
      },
      "execution_count": 7,
      "outputs": [
        {
          "output_type": "stream",
          "name": "stdout",
          "text": [
            "Mean of each company's preTestScore:\n",
            "company\n",
            "1st     6.666667\n",
            "2nd    15.500000\n",
            "Name: preTestScore, dtype: float64\n"
          ]
        }
      ]
    },
    {
      "cell_type": "code",
      "source": [
        "# Step 7. Present the mean preTestScores grouped by regiment and company\n",
        "\n",
        "# Group the data by both regiment and company and calculate the mean of preTestScore for each group\n",
        "mean_preTestScores_grouped = regiment.groupby(['regiment', 'company'])['preTestScore'].mean()\n",
        "\n",
        "# Print the mean preTestScores grouped by regiment and company\n",
        "print(\"Mean preTestScores grouped by regiment and company:\")\n",
        "print(mean_preTestScores_grouped)"
      ],
      "metadata": {
        "colab": {
          "base_uri": "https://localhost:8080/"
        },
        "id": "PVlKxIumq5sr",
        "outputId": "90684880-63a9-4fae-8c73-fe89fcaa781b"
      },
      "execution_count": 8,
      "outputs": [
        {
          "output_type": "stream",
          "name": "stdout",
          "text": [
            "Mean preTestScores grouped by regiment and company:\n",
            "regiment    company\n",
            "Dragoons    1st         3.5\n",
            "            2nd        27.5\n",
            "Nighthawks  1st        14.0\n",
            "            2nd        16.5\n",
            "Scouts      1st         2.5\n",
            "            2nd         2.5\n",
            "Name: preTestScore, dtype: float64\n"
          ]
        }
      ]
    },
    {
      "cell_type": "code",
      "source": [
        "# Step 8. Present the mean preTestScores grouped by regiment and company without heirarchical indexing\n",
        "\n",
        "# Group the data by both regiment and company and calculate the mean of preTestScore for each group\n",
        "mean_preTestScores_grouped = regiment.groupby(['regiment', 'company'])['preTestScore'].mean().reset_index()\n",
        "\n",
        "# Print the mean preTestScores grouped by regiment and company without hierarchical indexing\n",
        "print(\"Mean preTestScores grouped by regiment and company without hierarchical indexing:\")\n",
        "print(mean_preTestScores_grouped)"
      ],
      "metadata": {
        "colab": {
          "base_uri": "https://localhost:8080/"
        },
        "id": "Re6V5cO0rHYK",
        "outputId": "64eb1157-e1b4-4556-8e9c-fec706ef90aa"
      },
      "execution_count": 9,
      "outputs": [
        {
          "output_type": "stream",
          "name": "stdout",
          "text": [
            "Mean preTestScores grouped by regiment and company without hierarchical indexing:\n",
            "     regiment company  preTestScore\n",
            "0    Dragoons     1st           3.5\n",
            "1    Dragoons     2nd          27.5\n",
            "2  Nighthawks     1st          14.0\n",
            "3  Nighthawks     2nd          16.5\n",
            "4      Scouts     1st           2.5\n",
            "5      Scouts     2nd           2.5\n"
          ]
        }
      ]
    },
    {
      "cell_type": "code",
      "source": [
        "# Step 9. Group the entire dataframe by regiment and company\n",
        "\n",
        "# Group the entire DataFrame by both regiment and company\n",
        "grouped_dataframe = regiment.groupby(['regiment', 'company'])\n",
        "\n",
        "# Print the grouped DataFrame\n",
        "for group, data in grouped_dataframe:\n",
        "    print(\"\\nGroup:\", group)\n",
        "    print(data)"
      ],
      "metadata": {
        "colab": {
          "base_uri": "https://localhost:8080/"
        },
        "id": "Ldux9zVUrYav",
        "outputId": "1bab5a86-3265-48cb-c574-a5d98a6204b9"
      },
      "execution_count": 10,
      "outputs": [
        {
          "output_type": "stream",
          "name": "stdout",
          "text": [
            "\n",
            "Group: ('Dragoons', '1st')\n",
            "   regiment company   name  preTestScore  postTestScore\n",
            "4  Dragoons     1st  Cooze             3             70\n",
            "5  Dragoons     1st  Jacon             4             25\n",
            "\n",
            "Group: ('Dragoons', '2nd')\n",
            "   regiment company    name  preTestScore  postTestScore\n",
            "6  Dragoons     2nd  Ryaner            24             94\n",
            "7  Dragoons     2nd    Sone            31             57\n",
            "\n",
            "Group: ('Nighthawks', '1st')\n",
            "     regiment company      name  preTestScore  postTestScore\n",
            "0  Nighthawks     1st    Miller             4             25\n",
            "1  Nighthawks     1st  Jacobson            24             94\n",
            "\n",
            "Group: ('Nighthawks', '2nd')\n",
            "     regiment company    name  preTestScore  postTestScore\n",
            "2  Nighthawks     2nd     Ali            31             57\n",
            "3  Nighthawks     2nd  Milner             2             62\n",
            "\n",
            "Group: ('Scouts', '1st')\n",
            "  regiment company   name  preTestScore  postTestScore\n",
            "8   Scouts     1st  Sloan             2             62\n",
            "9   Scouts     1st  Piger             3             70\n",
            "\n",
            "Group: ('Scouts', '2nd')\n",
            "   regiment company   name  preTestScore  postTestScore\n",
            "10   Scouts     2nd  Riani             2             62\n",
            "11   Scouts     2nd    Ali             3             70\n"
          ]
        }
      ]
    },
    {
      "cell_type": "code",
      "source": [
        "# Step 10. What is the number of observations in each regiment and company\n",
        "\n",
        "# Group the data by both regiment and company and count the number of observations in each group\n",
        "observations_count = regiment.groupby(['regiment', 'company']).size()\n",
        "\n",
        "# Print the number of observations in each regiment and company\n",
        "print(\"Number of observations in each regiment and company:\")\n",
        "print(observations_count)"
      ],
      "metadata": {
        "colab": {
          "base_uri": "https://localhost:8080/"
        },
        "id": "FwbCYY5wrmd4",
        "outputId": "fdc770fb-fb8b-4ba6-ffad-d6f3a6d49bcc"
      },
      "execution_count": 11,
      "outputs": [
        {
          "output_type": "stream",
          "name": "stdout",
          "text": [
            "Number of observations in each regiment and company:\n",
            "regiment    company\n",
            "Dragoons    1st        2\n",
            "            2nd        2\n",
            "Nighthawks  1st        2\n",
            "            2nd        2\n",
            "Scouts      1st        2\n",
            "            2nd        2\n",
            "dtype: int64\n"
          ]
        }
      ]
    },
    {
      "cell_type": "code",
      "source": [
        "# Step 11. Iterate over a group and print the name and the whole data from the regiment\n",
        "\n",
        "# Group the data by regiment\n",
        "grouped_regiments = regiment.groupby('regiment')\n",
        "\n",
        "# Iterate over each group and print the name and the whole data from the regiment\n",
        "for regiment_name, regiment_data in grouped_regiments:\n",
        "    print(\"\\nRegiment:\", regiment_name)\n",
        "    print(regiment_data)"
      ],
      "metadata": {
        "colab": {
          "base_uri": "https://localhost:8080/"
        },
        "id": "H1h_UTHgr4lT",
        "outputId": "893858c6-a7b2-45d3-c7ff-6cccc7be1854"
      },
      "execution_count": 12,
      "outputs": [
        {
          "output_type": "stream",
          "name": "stdout",
          "text": [
            "\n",
            "Regiment: Dragoons\n",
            "   regiment company    name  preTestScore  postTestScore\n",
            "4  Dragoons     1st   Cooze             3             70\n",
            "5  Dragoons     1st   Jacon             4             25\n",
            "6  Dragoons     2nd  Ryaner            24             94\n",
            "7  Dragoons     2nd    Sone            31             57\n",
            "\n",
            "Regiment: Nighthawks\n",
            "     regiment company      name  preTestScore  postTestScore\n",
            "0  Nighthawks     1st    Miller             4             25\n",
            "1  Nighthawks     1st  Jacobson            24             94\n",
            "2  Nighthawks     2nd       Ali            31             57\n",
            "3  Nighthawks     2nd    Milner             2             62\n",
            "\n",
            "Regiment: Scouts\n",
            "   regiment company   name  preTestScore  postTestScore\n",
            "8    Scouts     1st  Sloan             2             62\n",
            "9    Scouts     1st  Piger             3             70\n",
            "10   Scouts     2nd  Riani             2             62\n",
            "11   Scouts     2nd    Ali             3             70\n"
          ]
        }
      ]
    }
  ]
}