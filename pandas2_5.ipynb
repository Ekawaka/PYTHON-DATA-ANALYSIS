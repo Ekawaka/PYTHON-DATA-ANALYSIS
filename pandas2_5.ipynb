{
  "nbformat": 4,
  "nbformat_minor": 0,
  "metadata": {
    "colab": {
      "provenance": [],
      "authorship_tag": "ABX9TyNNiN9Cu8qHSmSayflcd7dR",
      "include_colab_link": true
    },
    "kernelspec": {
      "name": "python3",
      "display_name": "Python 3"
    },
    "language_info": {
      "name": "python"
    }
  },
  "cells": [
    {
      "cell_type": "markdown",
      "metadata": {
        "id": "view-in-github",
        "colab_type": "text"
      },
      "source": [
        "<a href=\"https://colab.research.google.com/github/Ekawaka/PYTHON-DATA-ANALYSIS/blob/main/pandas2_5.ipynb\" target=\"_parent\"><img src=\"https://colab.research.google.com/assets/colab-badge.svg\" alt=\"Open In Colab\"/></a>"
      ]
    },
    {
      "cell_type": "markdown",
      "source": [
        "Regiment\n",
        "Introduction:\n",
        "Special thanks to: http://chrisalbon.com/ for sharing the dataset and materials"
      ],
      "metadata": {
        "id": "1a_VIec0TzU9"
      }
    },
    {
      "cell_type": "code",
      "source": [
        "# Step 1. Import the necessary libraries\n",
        "import pandas as pd"
      ],
      "metadata": {
        "id": "paGTPmKHT3Pa"
      },
      "execution_count": null,
      "outputs": []
    }
  ]
}