{
  "nbformat": 4,
  "nbformat_minor": 0,
  "metadata": {
    "colab": {
      "provenance": [],
      "authorship_tag": "ABX9TyOH15ufr1R1Y4lirsAKG01P",
      "include_colab_link": true
    },
    "kernelspec": {
      "name": "python3",
      "display_name": "Python 3"
    },
    "language_info": {
      "name": "python"
    }
  },
  "cells": [
    {
      "cell_type": "markdown",
      "metadata": {
        "id": "view-in-github",
        "colab_type": "text"
      },
      "source": [
        "<a href=\"https://colab.research.google.com/github/Ekawaka/PYTHON-DATA-ANALYSIS/blob/main/Numpy2.ipynb\" target=\"_parent\"><img src=\"https://colab.research.google.com/assets/colab-badge.svg\" alt=\"Open In Colab\"/></a>"
      ]
    },
    {
      "cell_type": "code",
      "execution_count": 46,
      "metadata": {
        "id": "FV7NE2SMcKjN"
      },
      "outputs": [],
      "source": [
        "import numpy as np"
      ]
    },
    {
      "cell_type": "code",
      "source": [
        "# 16. How to add a border (filled with 0's) around an existing array?\n",
        "existing_array = np.array([[9,8,7],\n",
        "                          [6,5,4],\n",
        "                          [3,2,1]])\n",
        "# Get shape of the existing array\n",
        "rows, columns = existing_array.shape\n",
        "# Define the size od the new array with border\n",
        "new_rows = rows + 2\n",
        "new_columns = columns + 2\n",
        "# create a new array filled with zeros\n",
        "new_array = np.zeros((new_rows, new_columns))\n",
        "# copy the existing array into the centre of the new array\n",
        "existing_array = new_array[1:-1, 1:-1]\n",
        "print(existing_array)\n",
        "print(new_array)\n",
        "\n"
      ],
      "metadata": {
        "id": "_0f_mNFgeLJS"
      },
      "execution_count": null,
      "outputs": []
    },
    {
      "cell_type": "code",
      "source": [
        "# 17.  What is the result of the following expression?\n",
        "0 * np.nan\n",
        "np.nan == np.nan\n",
        "np.inf > np.nan\n",
        "np.nan - np.nan\n",
        "np.nan in set([np.nan])\n",
        "0.3 == 3 * 0.1"
      ],
      "metadata": {
        "colab": {
          "base_uri": "https://localhost:8080/"
        },
        "id": "9jLDYd3ziH25",
        "outputId": "1f2573af-1035-4b31-8de6-25b6aeb0129a"
      },
      "execution_count": 7,
      "outputs": [
        {
          "output_type": "execute_result",
          "data": {
            "text/plain": [
              "False"
            ]
          },
          "metadata": {},
          "execution_count": 7
        }
      ]
    },
    {
      "cell_type": "code",
      "source": [
        "# 18. Create a 5x5 matrix with values 1,2,3,4 just below the diagonal\n",
        "\n",
        "# Create a 5x5 matrix filled with zeros\n",
        "matrix = np.zeros((5,5))\n",
        "# set values 1,2,3 and 4 just below the diagonal\n",
        "np.fill_diagonal(matrix[1:], [1,2,3,4])\n",
        "print(matrix)\n",
        "\n"
      ],
      "metadata": {
        "colab": {
          "base_uri": "https://localhost:8080/"
        },
        "id": "HkNg3wDrjLet",
        "outputId": "687c911e-95e2-4c1b-f824-69a53be3180f"
      },
      "execution_count": 8,
      "outputs": [
        {
          "output_type": "stream",
          "name": "stdout",
          "text": [
            "[[0. 0. 0. 0. 0.]\n",
            " [1. 0. 0. 0. 0.]\n",
            " [0. 2. 0. 0. 0.]\n",
            " [0. 0. 3. 0. 0.]\n",
            " [0. 0. 0. 4. 0.]]\n"
          ]
        }
      ]
    },
    {
      "cell_type": "code",
      "source": [
        "# 19. Create a 8x8 matrix and fill it with a checkerboard pattern\n",
        "# Create a 8x8 matrix and filled with zeros\n",
        "matrix = np.zeros((8,8), dtype=int)\n",
        "\n",
        "# Fill the matrix with checkerboard pattern\n",
        "matrix[::2, ::2] = 1 # fill even rows and even columns with 1\n",
        "matrix[1::2, 1::2] = 1 # fill odd rows and odd columns with 1\n",
        "print(matrix)"
      ],
      "metadata": {
        "colab": {
          "base_uri": "https://localhost:8080/"
        },
        "id": "S3BTcT0uErwP",
        "outputId": "96cd9715-ebe5-4264-f6a2-83fcbc8f217a"
      },
      "execution_count": 9,
      "outputs": [
        {
          "output_type": "stream",
          "name": "stdout",
          "text": [
            "[[1 0 1 0 1 0 1 0]\n",
            " [0 1 0 1 0 1 0 1]\n",
            " [1 0 1 0 1 0 1 0]\n",
            " [0 1 0 1 0 1 0 1]\n",
            " [1 0 1 0 1 0 1 0]\n",
            " [0 1 0 1 0 1 0 1]\n",
            " [1 0 1 0 1 0 1 0]\n",
            " [0 1 0 1 0 1 0 1]]\n"
          ]
        }
      ]
    },
    {
      "cell_type": "code",
      "source": [
        "# 20. Consider a (6,7,8) shape array, what is the index (x,y,z) of the 100th element\n",
        "\n",
        "# Define the shape of array\n",
        "shape = (6,7,8)\n",
        "\n",
        "# Calculate the flat index of the 100th element\n",
        "flat_index = 100-1 # since indexing starts from 0, we then substract 1\n",
        "\n",
        "# Determine the indices (x,y,z) from flat index\n",
        "x_index = flat_index // (shape[1] * shape[2])\n",
        "yz_remainder = flat_index % (shape[1] * shape[2])\n",
        "y_index = yz_remainder // shape[2]\n",
        "z_index = yz_remainder % shape[2]\n",
        "\n",
        "print(\"Index(x,y,z) of the 100th element\", (x_index, y_index, z_index))"
      ],
      "metadata": {
        "colab": {
          "base_uri": "https://localhost:8080/"
        },
        "id": "ZStB6ua_Eys6",
        "outputId": "dc5a01e0-c90b-4302-a50c-618edb570e35"
      },
      "execution_count": 11,
      "outputs": [
        {
          "output_type": "stream",
          "name": "stdout",
          "text": [
            "Index(x,y,z) of the 100th element (1, 5, 3)\n"
          ]
        }
      ]
    },
    {
      "cell_type": "code",
      "source": [
        "# 21. Create a checkerboard 8x8 matrix using the tile function\n",
        "\n",
        "# Define 2x2 checkerboard pattern\n",
        "checkerboard_pattern = np.array([[0,1],[1,0]])\n",
        "\n",
        "# using tile function to create an 8x8 checkerboard matrix\n",
        "checkerboard_8x8 = np.tile(checkerboard_pattern, (4,4))\n",
        "print(checkerboard_8x8)"
      ],
      "metadata": {
        "colab": {
          "base_uri": "https://localhost:8080/"
        },
        "id": "ahp2J_RJFOkU",
        "outputId": "51e0572d-a140-4ec4-af1a-9401ccfa0e86"
      },
      "execution_count": 13,
      "outputs": [
        {
          "output_type": "stream",
          "name": "stdout",
          "text": [
            "[[0 1 0 1 0 1 0 1]\n",
            " [1 0 1 0 1 0 1 0]\n",
            " [0 1 0 1 0 1 0 1]\n",
            " [1 0 1 0 1 0 1 0]\n",
            " [0 1 0 1 0 1 0 1]\n",
            " [1 0 1 0 1 0 1 0]\n",
            " [0 1 0 1 0 1 0 1]\n",
            " [1 0 1 0 1 0 1 0]]\n"
          ]
        }
      ]
    },
    {
      "cell_type": "code",
      "source": [
        "# 22. Normalize a 5x5 random matrix\n",
        "# Create a 5x5 random matrix\n",
        "random_matrix = np.random.rand(5,5)\n",
        "\n",
        "# Normolize the matrix to the range [0,1]\n",
        "normalized_matrix = (random_matrix - random_matrix.min()) / (random_matrix.max() - random_matrix.min())\n",
        "\n",
        "# Normolize the matrix using z_score normalization\n",
        "z_score_normalized_matrix = (random_matrix - random_matrix.mean()) / (random_matrix.std())\n",
        "\n",
        "print(normalized_matrix)\n",
        "print(z_score_normalized_matrix)\n"
      ],
      "metadata": {
        "colab": {
          "base_uri": "https://localhost:8080/"
        },
        "id": "cFyBLpZ4FQlh",
        "outputId": "f16fb551-61a3-4cd2-df75-691f175234ee"
      },
      "execution_count": 17,
      "outputs": [
        {
          "output_type": "stream",
          "name": "stdout",
          "text": [
            "[[-0.46827972  0.29192281 -0.09238754 -0.82264392  1.4007917 ]\n",
            " [ 0.7022819  -0.20943794 -1.07497831  0.51353166 -0.78041248]\n",
            " [-0.99298146 -1.17386203  0.07957659 -0.51070681  1.71025429]\n",
            " [-0.16880667  1.99960707  1.85521946 -0.95088278 -0.57067075]\n",
            " [ 1.54725848 -0.75804068 -1.05382962  0.48383334 -0.95635661]]\n"
          ]
        }
      ]
    },
    {
      "cell_type": "code",
      "source": [
        "# 23. Create a custom dtype that describes a color as four unsigned bytes (RGBA)\n",
        "\n",
        "# Define custom dtype for RGBA color\n",
        "rgba_dtype = np.dtype([('R', np.uint8),\n",
        "                       ('G', np.uint8),\n",
        "                       ('B', np.uint8),\n",
        "                       ('A', np.uint8)])\n",
        "# example RGBA color\n",
        "color = np.array((234, 126, 56, 234), dtype=rgba_dtype)\n",
        "\n",
        "print(\"RGBA color:\", color)"
      ],
      "metadata": {
        "colab": {
          "base_uri": "https://localhost:8080/"
        },
        "id": "EZI3kcbSFZXw",
        "outputId": "e238638d-648c-4351-d18a-a3921ab61761"
      },
      "execution_count": 18,
      "outputs": [
        {
          "output_type": "stream",
          "name": "stdout",
          "text": [
            "RGBA color: (234, 126, 56, 234)\n"
          ]
        }
      ]
    },
    {
      "cell_type": "code",
      "source": [
        "# 24. Multiply a 5x3 matrix by a 3x2 matrix (real matrix product)\n",
        "\n",
        "# Create a 5x3 matrix\n",
        "matrix_a = np.random.rand(5,3)\n",
        "\n",
        "# Create a 3x2 matrix\n",
        "matrix_b = np.random.rand(3,2)\n",
        "\n",
        "# Multiplication\n",
        "result = np.dot(matrix_a, matrix_b)\n",
        "\n",
        "print(result)\n"
      ],
      "metadata": {
        "colab": {
          "base_uri": "https://localhost:8080/"
        },
        "id": "v_ge1l64Fl6t",
        "outputId": "2a466224-eee4-4369-ee18-b7023cb5ab65"
      },
      "execution_count": 19,
      "outputs": [
        {
          "output_type": "stream",
          "name": "stdout",
          "text": [
            "[[1.11536861 0.58747301]\n",
            " [1.36131879 1.20762851]\n",
            " [0.96865858 0.75933482]\n",
            " [1.27249724 0.90463821]\n",
            " [2.30379917 1.68791552]]\n"
          ]
        }
      ]
    },
    {
      "cell_type": "code",
      "source": [
        "# 25. Given a 1D array, negate all elements which are between 3 and 8, in place.\n",
        "# Create a 1D array\n",
        "arr = np.array([1,2,3,4,5,6,7,8,9,10])\n",
        "\n",
        "# Negate elements between 3 and 8 (inclusive) in place\n",
        "arr[(arr >= 3) & (arr <= 8)] *= -1\n",
        "\n",
        "print = (\"Result:\", arr)\n",
        "\n"
      ],
      "metadata": {
        "id": "CMhT2t5HFz5M"
      },
      "execution_count": 31,
      "outputs": []
    },
    {
      "cell_type": "code",
      "source": [
        "# 26. What is the output of the following script?\n",
        "# Author: Jake VanderPlas\n",
        "from numpy import *\n",
        "#'print(sum(range(5), -1))':\n",
        "\n",
        "#'print(sum(range(5), -1))':\n"
      ],
      "metadata": {
        "id": "0HTjgAL5GCt9"
      },
      "execution_count": 37,
      "outputs": []
    },
    {
      "cell_type": "code",
      "source": [
        "# 27. Consider an integer vector Z, which of these expressions are legal?\n",
        "Z**Z\n",
        "2 << Z >> 2\n",
        "Z <- Z\n",
        "1j*Z\n",
        "Z/1/1\n",
        "Z<Z>Z"
      ],
      "metadata": {
        "id": "Eo9RwJ4hGeaa"
      },
      "execution_count": null,
      "outputs": []
    },
    {
      "cell_type": "code",
      "source": [
        "# 28. What are the result of the following expressions?\n",
        "np.array(0) / np.array(0)\n",
        "np.array(0) // np.array(0)\n",
        "np.array([np.nan]).astype(int).astype(float)"
      ],
      "metadata": {
        "id": "xkrfMNuzHErO"
      },
      "execution_count": null,
      "outputs": []
    },
    {
      "cell_type": "code",
      "source": [
        "# 29. How to round away from zero a float array ?\n",
        "# Float array\n",
        "float_array = np.array([-3.5, -2.7, -1.8, -0.9, 0.9, 1.8, 2.7, 3.5])\n",
        "\n",
        "# Round away from zero\n",
        "rounded_array = np.where(float_array >= 0, np.ceil(float_array), np.floor(float_array))\n",
        "print(rounded_array)"
      ],
      "metadata": {
        "colab": {
          "base_uri": "https://localhost:8080/",
          "height": 185
        },
        "id": "WiKeaMwyHHgY",
        "outputId": "13553666-83e1-4383-9cae-d68d743f3071"
      },
      "execution_count": 48,
      "outputs": [
        {
          "output_type": "error",
          "ename": "TypeError",
          "evalue": "'tuple' object is not callable",
          "traceback": [
            "\u001b[0;31m---------------------------------------------------------------------------\u001b[0m",
            "\u001b[0;31mTypeError\u001b[0m                                 Traceback (most recent call last)",
            "\u001b[0;32m<ipython-input-48-65d4bae4e2b9>\u001b[0m in \u001b[0;36m<cell line: 7>\u001b[0;34m()\u001b[0m\n\u001b[1;32m      5\u001b[0m \u001b[0;31m# Round away from zero\u001b[0m\u001b[0;34m\u001b[0m\u001b[0;34m\u001b[0m\u001b[0m\n\u001b[1;32m      6\u001b[0m \u001b[0mrounded_array\u001b[0m \u001b[0;34m=\u001b[0m \u001b[0mnp\u001b[0m\u001b[0;34m.\u001b[0m\u001b[0mwhere\u001b[0m\u001b[0;34m(\u001b[0m\u001b[0mfloat_array\u001b[0m \u001b[0;34m>=\u001b[0m \u001b[0;36m0\u001b[0m\u001b[0;34m,\u001b[0m \u001b[0mnp\u001b[0m\u001b[0;34m.\u001b[0m\u001b[0mceil\u001b[0m\u001b[0;34m(\u001b[0m\u001b[0mfloat_array\u001b[0m\u001b[0;34m)\u001b[0m\u001b[0;34m,\u001b[0m \u001b[0mnp\u001b[0m\u001b[0;34m.\u001b[0m\u001b[0mfloor\u001b[0m\u001b[0;34m(\u001b[0m\u001b[0mfloat_array\u001b[0m\u001b[0;34m)\u001b[0m\u001b[0;34m)\u001b[0m\u001b[0;34m\u001b[0m\u001b[0;34m\u001b[0m\u001b[0m\n\u001b[0;32m----> 7\u001b[0;31m \u001b[0mprint\u001b[0m\u001b[0;34m(\u001b[0m\u001b[0mrounded_array\u001b[0m\u001b[0;34m)\u001b[0m\u001b[0;34m\u001b[0m\u001b[0;34m\u001b[0m\u001b[0m\n\u001b[0m",
            "\u001b[0;31mTypeError\u001b[0m: 'tuple' object is not callable"
          ]
        }
      ]
    },
    {
      "cell_type": "code",
      "source": [
        "# 30. How to find common values between two arrays?\n",
        "\n",
        "# Define two arrays\n",
        "array1 = np.array([1, 2, 3, 4, 5])\n",
        "array2 = np.array([3, 4, 5, 6, 7])\n",
        "\n",
        "# Find common values between the two arrays\n",
        "common_values = np.intersect1d(array1, array2)\n",
        "\n",
        "print(common_values)"
      ],
      "metadata": {
        "colab": {
          "base_uri": "https://localhost:8080/",
          "height": 185
        },
        "id": "Jk0qrO7oHW1L",
        "outputId": "41d65380-4a9d-486a-b3f3-c37401103764"
      },
      "execution_count": 50,
      "outputs": [
        {
          "output_type": "error",
          "ename": "TypeError",
          "evalue": "'tuple' object is not callable",
          "traceback": [
            "\u001b[0;31m---------------------------------------------------------------------------\u001b[0m",
            "\u001b[0;31mTypeError\u001b[0m                                 Traceback (most recent call last)",
            "\u001b[0;32m<ipython-input-50-cdc31aca4394>\u001b[0m in \u001b[0;36m<cell line: 10>\u001b[0;34m()\u001b[0m\n\u001b[1;32m      8\u001b[0m \u001b[0mcommon_values\u001b[0m \u001b[0;34m=\u001b[0m \u001b[0mnp\u001b[0m\u001b[0;34m.\u001b[0m\u001b[0mintersect1d\u001b[0m\u001b[0;34m(\u001b[0m\u001b[0marray1\u001b[0m\u001b[0;34m,\u001b[0m \u001b[0marray2\u001b[0m\u001b[0;34m)\u001b[0m\u001b[0;34m\u001b[0m\u001b[0;34m\u001b[0m\u001b[0m\n\u001b[1;32m      9\u001b[0m \u001b[0;34m\u001b[0m\u001b[0m\n\u001b[0;32m---> 10\u001b[0;31m \u001b[0mprint\u001b[0m\u001b[0;34m(\u001b[0m\u001b[0mcommon_values\u001b[0m\u001b[0;34m)\u001b[0m\u001b[0;34m\u001b[0m\u001b[0;34m\u001b[0m\u001b[0m\n\u001b[0m",
            "\u001b[0;31mTypeError\u001b[0m: 'tuple' object is not callable"
          ]
        }
      ]
    }
  ]
}