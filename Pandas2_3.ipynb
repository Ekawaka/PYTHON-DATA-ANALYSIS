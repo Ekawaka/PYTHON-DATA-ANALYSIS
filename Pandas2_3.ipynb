{
  "nbformat": 4,
  "nbformat_minor": 0,
  "metadata": {
    "colab": {
      "provenance": [],
      "authorship_tag": "ABX9TyO3zNKVVcyoA2FZztKtmV0M",
      "include_colab_link": true
    },
    "kernelspec": {
      "name": "python3",
      "display_name": "Python 3"
    },
    "language_info": {
      "name": "python"
    }
  },
  "cells": [
    {
      "cell_type": "markdown",
      "metadata": {
        "id": "view-in-github",
        "colab_type": "text"
      },
      "source": [
        "<a href=\"https://colab.research.google.com/github/Ekawaka/PYTHON-DATA-ANALYSIS/blob/main/Pandas2_3.ipynb\" target=\"_parent\"><img src=\"https://colab.research.google.com/assets/colab-badge.svg\" alt=\"Open In Colab\"/></a>"
      ]
    },
    {
      "cell_type": "markdown",
      "source": [
        "Introduction:\n",
        "GroupBy can be summarized as Split-Apply-Combine.\n",
        "\n",
        "Special thanks to: https://github.com/justmarkham for sharing the dataset and materials.\n",
        "\n",
        "Check out this Diagram"
      ],
      "metadata": {
        "id": "COEjC7j8MFZz"
      }
    },
    {
      "cell_type": "code",
      "source": [
        "# Step 1. Import the necessary libraries\n",
        "\n",
        "import pandas as pd"
      ],
      "metadata": {
        "id": "s_y0EQSrMJyH"
      },
      "execution_count": 11,
      "outputs": []
    },
    {
      "cell_type": "code",
      "source": [
        "# Step 2. Import the dataset from this address.\n",
        "\n",
        "df = pd.read_csv('https://raw.githubusercontent.com/justmarkham/DAT8/master/data/drinks.csv')\n",
        "\n",
        "# df contains your dataset and you can perform operations on it\n",
        "print(df.head())"
      ],
      "metadata": {
        "id": "t2yHtde2MgZI",
        "colab": {
          "base_uri": "https://localhost:8080/"
        },
        "outputId": "8391ab3a-130e-4f00-dfc3-195f401fc6ab"
      },
      "execution_count": 12,
      "outputs": [
        {
          "output_type": "stream",
          "name": "stdout",
          "text": [
            "       country  beer_servings  spirit_servings  wine_servings  \\\n",
            "0  Afghanistan              0                0              0   \n",
            "1      Albania             89              132             54   \n",
            "2      Algeria             25                0             14   \n",
            "3      Andorra            245              138            312   \n",
            "4       Angola            217               57             45   \n",
            "\n",
            "   total_litres_of_pure_alcohol continent  \n",
            "0                           0.0        AS  \n",
            "1                           4.9        EU  \n",
            "2                           0.7        AF  \n",
            "3                          12.4        EU  \n",
            "4                           5.9        AF  \n"
          ]
        }
      ]
    },
    {
      "cell_type": "code",
      "source": [
        "# Step 3. Assign it to a variable called drinks.\n",
        "\n",
        "drinks = pd.read_csv('https://raw.githubusercontent.com/justmarkham/DAT8/master/data/drinks.csv')\n",
        "\n",
        "print(drinks.head())\n"
      ],
      "metadata": {
        "colab": {
          "base_uri": "https://localhost:8080/"
        },
        "id": "WLjXeGS_Ns4g",
        "outputId": "85365f38-e9b7-4d74-a0eb-c75de80fcdac"
      },
      "execution_count": 14,
      "outputs": [
        {
          "output_type": "stream",
          "name": "stdout",
          "text": [
            "       country  beer_servings  spirit_servings  wine_servings  \\\n",
            "0  Afghanistan              0                0              0   \n",
            "1      Albania             89              132             54   \n",
            "2      Algeria             25                0             14   \n",
            "3      Andorra            245              138            312   \n",
            "4       Angola            217               57             45   \n",
            "\n",
            "   total_litres_of_pure_alcohol continent  \n",
            "0                           0.0        AS  \n",
            "1                           4.9        EU  \n",
            "2                           0.7        AF  \n",
            "3                          12.4        EU  \n",
            "4                           5.9        AF  \n"
          ]
        }
      ]
    },
    {
      "cell_type": "code",
      "source": [
        "# Step 4. Which continent drinks more beer on average?\n",
        "\n",
        "# Group the data by continent and calculate the mean beer servings\n",
        "beer_by_continent = drinks.groupby('continent')['beer_servings'].mean()\n",
        "\n",
        "# Find the continent with the highest average beer servings\n",
        "continent_with_most_beer = beer_by_continent.idxmax()\n",
        "\n",
        "# Display the result\n",
        "print(f\"The continent that drinks the most beer on average is {continent_with_most_beer} with an average of {beer_by_continent[continent_with_most_beer]} beer servings.\")"
      ],
      "metadata": {
        "colab": {
          "base_uri": "https://localhost:8080/"
        },
        "id": "0rGkXK4xOtmP",
        "outputId": "dc4d77f9-fe50-44c4-bd97-3ce209aa58c4"
      },
      "execution_count": 7,
      "outputs": [
        {
          "output_type": "stream",
          "name": "stdout",
          "text": [
            "The continent that drinks the most beer on average is EU with an average of 193.77777777777777 beer servings.\n"
          ]
        }
      ]
    },
    {
      "cell_type": "code",
      "source": [
        "# Step 5. For each continent print the statistics for wine consumption.\n",
        "\n",
        "# Group the data by continent and calculate the statistics for wine consumption\n",
        "wine_statistics_by_continent = drinks.groupby('continent')['wine_servings'].describe()\n",
        "\n",
        "# Display the statistics for wine consumption for each continent\n",
        "print(wine_statistics_by_continent)"
      ],
      "metadata": {
        "id": "A1exc3NcO48m"
      },
      "execution_count": null,
      "outputs": []
    },
    {
      "cell_type": "code",
      "source": [
        "# Step 6. Print the mean alcohol consumption per continent for every column\n",
        "\n",
        "# Group the data by continent and calculate the mean for each column\n",
        "mean_alcohol_consumption = drinks.groupby('continent').mean()\n",
        "\n",
        "# Display the mean alcohol consumption per continent for every column\n",
        "print(mean_alcohol_consumption)"
      ],
      "metadata": {
        "id": "h5L5NHGZO_7k"
      },
      "execution_count": null,
      "outputs": []
    },
    {
      "cell_type": "code",
      "source": [
        "# Step 7. Print the median alcohol consumption per continent for every column\n",
        "\n",
        "# Group the data by continent and calculate the median for each column\n",
        "median_alcohol_consumption = drinks.groupby('continent').median()\n",
        "\n",
        "# Display the median alcohol consumption per continent for every column\n",
        "print(median_alcohol_consumption)"
      ],
      "metadata": {
        "id": "EYSyyz4bPDpF"
      },
      "execution_count": null,
      "outputs": []
    },
    {
      "cell_type": "code",
      "source": [
        "# Step 8. Print the mean, min and max values for spirit consumption.\n",
        "#This time output a DataFrame\n",
        "\n",
        "# Calculate mean, min, and max values for spirit consumption\n",
        "spirit_stats = drinks['spirit_servings'].agg(['mean', 'min', 'max'])\n",
        "\n",
        "# Create a DataFrame to display the statistics\n",
        "spirit_stats_df = pd.DataFrame(spirit_stats, columns=['Spirit Consumption'])\n",
        "\n",
        "# Display the DataFrame\n",
        "print(spirit_stats_df)"
      ],
      "metadata": {
        "colab": {
          "base_uri": "https://localhost:8080/"
        },
        "id": "KzJ6zz-wPHmr",
        "outputId": "30f3f03c-9a06-4fbc-fd34-6d8ef2275500"
      },
      "execution_count": 17,
      "outputs": [
        {
          "output_type": "stream",
          "name": "stdout",
          "text": [
            "Empty DataFrame\n",
            "Columns: [Spirit Consumption]\n",
            "Index: []\n"
          ]
        }
      ]
    }
  ]
}