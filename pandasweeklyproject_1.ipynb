{
  "nbformat": 4,
  "nbformat_minor": 0,
  "metadata": {
    "colab": {
      "provenance": [],
      "authorship_tag": "ABX9TyMtvlKy3XKbxhyjUQkBV61+",
      "include_colab_link": true
    },
    "kernelspec": {
      "name": "python3",
      "display_name": "Python 3"
    },
    "language_info": {
      "name": "python"
    }
  },
  "cells": [
    {
      "cell_type": "markdown",
      "metadata": {
        "id": "view-in-github",
        "colab_type": "text"
      },
      "source": [
        "<a href=\"https://colab.research.google.com/github/Ekawaka/PYTHON-DATA-ANALYSIS/blob/main/pandasweeklyproject_1.ipynb\" target=\"_parent\"><img src=\"https://colab.research.google.com/assets/colab-badge.svg\" alt=\"Open In Colab\"/></a>"
      ]
    },
    {
      "cell_type": "markdown",
      "source": [
        "Apple Stock\n",
        "Introduction:\n",
        "We are going to use Apple's stock price."
      ],
      "metadata": {
        "id": "QaclkyXC6xkL"
      }
    },
    {
      "cell_type": "code",
      "source": [
        "# Step 1. Import the necessary libraries\n",
        "\n",
        "import pandas as pd\n",
        "import yfinance as yf"
      ],
      "metadata": {
        "id": "uKIWmmFA65Zh"
      },
      "execution_count": 1,
      "outputs": []
    },
    {
      "cell_type": "code",
      "source": [
        "# Step 2. Import the dataset from this address\n",
        "\n",
        "data = pd.read_csv('https://raw.githubusercontent.com/guipsamora/pandas_exercises/master/09_Time_Series/Apple_Stock/appl_1980_2014.csv')\n",
        "\n",
        "print(data.head())"
      ],
      "metadata": {
        "colab": {
          "base_uri": "https://localhost:8080/"
        },
        "id": "vFx0KqQV7bo6",
        "outputId": "1ce84137-178c-4717-b5d8-77d1c9942aba"
      },
      "execution_count": 3,
      "outputs": [
        {
          "output_type": "stream",
          "name": "stdout",
          "text": [
            "         Date   Open   High    Low  Close    Volume  Adj Close\n",
            "0  2014-07-08  96.27  96.80  93.92  95.35  65130000      95.35\n",
            "1  2014-07-07  94.14  95.99  94.10  95.97  56305400      95.97\n",
            "2  2014-07-03  93.67  94.10  93.20  94.03  22891800      94.03\n",
            "3  2014-07-02  93.87  94.06  93.09  93.48  28420900      93.48\n",
            "4  2014-07-01  93.52  94.07  93.13  93.52  38170200      93.52\n"
          ]
        }
      ]
    },
    {
      "cell_type": "code",
      "source": [
        "# Step 3. Assign it to a variable apple"
      ],
      "metadata": {
        "id": "aNLywho07wuN"
      },
      "execution_count": null,
      "outputs": []
    },
    {
      "cell_type": "code",
      "source": [
        "# Step 4. Check out the type of the columns"
      ],
      "metadata": {
        "id": "VbOD83e472mm"
      },
      "execution_count": null,
      "outputs": []
    },
    {
      "cell_type": "code",
      "source": [
        "# Step 5. Transform the Date column as a datetime type"
      ],
      "metadata": {
        "id": "tjm6nifl78yL"
      },
      "execution_count": null,
      "outputs": []
    },
    {
      "cell_type": "code",
      "source": [
        "# Step 6. Set the date as the index"
      ],
      "metadata": {
        "id": "p6R0BIqM8LGG"
      },
      "execution_count": null,
      "outputs": []
    },
    {
      "cell_type": "code",
      "source": [
        "# Step 7. Is there any duplicate dates?"
      ],
      "metadata": {
        "id": "4QVsELtw8RDX"
      },
      "execution_count": null,
      "outputs": []
    },
    {
      "cell_type": "code",
      "source": [
        "# Step 8. Ops...it seems the index is from the most recent date. Make the first entry the oldest date."
      ],
      "metadata": {
        "id": "-FhKGsG88bhx"
      },
      "execution_count": null,
      "outputs": []
    },
    {
      "cell_type": "code",
      "source": [
        "# Step 9. Get the last business day of each month"
      ],
      "metadata": {
        "id": "OU4t0kUM8fyt"
      },
      "execution_count": null,
      "outputs": []
    },
    {
      "cell_type": "code",
      "source": [
        "# Step 10. What is the difference in days between the first day and the oldest"
      ],
      "metadata": {
        "id": "jFz7UJ7v8ltW"
      },
      "execution_count": null,
      "outputs": []
    },
    {
      "cell_type": "code",
      "source": [
        "# Step 11. How many months in the data we have?"
      ],
      "metadata": {
        "id": "2rPNzeO08qGl"
      },
      "execution_count": null,
      "outputs": []
    },
    {
      "cell_type": "code",
      "source": [
        "# Step 12. Plot the 'Adj Close' value. Set the size of the figure to 13.5 x 9 inches"
      ],
      "metadata": {
        "id": "pjFbNG2B8xYR"
      },
      "execution_count": null,
      "outputs": []
    }
  ]
}