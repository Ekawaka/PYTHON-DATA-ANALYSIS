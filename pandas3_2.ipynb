{
  "nbformat": 4,
  "nbformat_minor": 0,
  "metadata": {
    "colab": {
      "provenance": [],
      "authorship_tag": "ABX9TyNC4hebS4UhxZcthmQb8vxB",
      "include_colab_link": true
    },
    "kernelspec": {
      "name": "python3",
      "display_name": "Python 3"
    },
    "language_info": {
      "name": "python"
    }
  },
  "cells": [
    {
      "cell_type": "markdown",
      "metadata": {
        "id": "view-in-github",
        "colab_type": "text"
      },
      "source": [
        "<a href=\"https://colab.research.google.com/github/Ekawaka/PYTHON-DATA-ANALYSIS/blob/main/pandas3_2.ipynb\" target=\"_parent\"><img src=\"https://colab.research.google.com/assets/colab-badge.svg\" alt=\"Open In Colab\"/></a>"
      ]
    },
    {
      "cell_type": "markdown",
      "source": [
        "MPG Cars\n",
        "Introduction:\n",
        "The following exercise utilizes data from UC Irvine Machine Learning Repository"
      ],
      "metadata": {
        "id": "PhPgyQ2dxVZ1"
      }
    },
    {
      "cell_type": "code",
      "source": [
        "#Step 1. Import the necessary libraries\n",
        "\n",
        "import pandas as pd\n",
        "import numpy as np\n",
        "import seaborn as sns"
      ],
      "metadata": {
        "id": "F3hWQPw4xYDl"
      },
      "execution_count": 1,
      "outputs": []
    },
    {
      "cell_type": "code",
      "source": [
        "# Step 2. Import the first dataset cars1 and cars2.\n",
        "\n",
        "df = pd.read_csv('https://raw.githubusercontent.com/guipsamora/pandas_exercises/master/05_Merge/Auto_MPG/cars1.csv')\n",
        "\n",
        "df = pd.read_csv('https://raw.githubusercontent.com/guipsamora/pandas_exercises/master/05_Merge/Auto_MPG/cars2.csv')"
      ],
      "metadata": {
        "id": "hxVKTG_Mxs3L"
      },
      "execution_count": 2,
      "outputs": []
    },
    {
      "cell_type": "code",
      "source": [
        "# Step 3. Assign each to a variable called cars1 and cars2\n",
        "\n",
        "cars1 = pd.read_csv('https://raw.githubusercontent.com/guipsamora/pandas_exercises/master/05_Merge/Auto_MPG/cars1.csv')\n",
        "cars2 = pd.read_csv('https://raw.githubusercontent.com/guipsamora/pandas_exercises/master/05_Merge/Auto_MPG/cars2.csv')"
      ],
      "metadata": {
        "id": "5U3rkzG5ySjT"
      },
      "execution_count": 3,
      "outputs": []
    },
    {
      "cell_type": "code",
      "source": [
        "print(cars1.head())\n",
        "print(cars2.head())"
      ],
      "metadata": {
        "id": "HeOTWLnk039e"
      },
      "execution_count": null,
      "outputs": []
    },
    {
      "cell_type": "code",
      "source": [
        "# Step 4. Oops, it seems our first dataset has some unnamed blank columns, fix cars1\n",
        "\n",
        "cars1 = cars1.dropna(axis=1, how='all')\n",
        "\n",
        "print(cars1)"
      ],
      "metadata": {
        "colab": {
          "base_uri": "https://localhost:8080/"
        },
        "id": "cOiSDGgpyehz",
        "outputId": "c43b5116-6776-4aa4-d10e-d020dce4cffa"
      },
      "execution_count": 14,
      "outputs": [
        {
          "output_type": "stream",
          "name": "stdout",
          "text": [
            "      mpg  cylinders  displacement horsepower  weight  acceleration  model  \\\n",
            "0    18.0          8           307        130    3504          12.0     70   \n",
            "1    15.0          8           350        165    3693          11.5     70   \n",
            "2    18.0          8           318        150    3436          11.0     70   \n",
            "3    16.0          8           304        150    3433          12.0     70   \n",
            "4    17.0          8           302        140    3449          10.5     70   \n",
            "..    ...        ...           ...        ...     ...           ...    ...   \n",
            "193  24.0          6           200         81    3012          17.6     76   \n",
            "194  22.5          6           232         90    3085          17.6     76   \n",
            "195  29.0          4            85         52    2035          22.2     76   \n",
            "196  24.5          4            98         60    2164          22.1     76   \n",
            "197  29.0          4            90         70    1937          14.2     76   \n",
            "\n",
            "     origin                        car  \n",
            "0         1  chevrolet chevelle malibu  \n",
            "1         1          buick skylark 320  \n",
            "2         1         plymouth satellite  \n",
            "3         1              amc rebel sst  \n",
            "4         1                ford torino  \n",
            "..      ...                        ...  \n",
            "193       1              ford maverick  \n",
            "194       1                 amc hornet  \n",
            "195       1         chevrolet chevette  \n",
            "196       1            chevrolet woody  \n",
            "197       2                  vw rabbit  \n",
            "\n",
            "[198 rows x 9 columns]\n"
          ]
        }
      ]
    },
    {
      "cell_type": "code",
      "source": [
        "# Step 5. What is the number of observations in each dataset?\n",
        "\n",
        "num_obs_cars1 = cars1.shape[0]\n",
        "num_obs_cars2 = cars2.shape[0]\n",
        "\n",
        "print(\"Number of observations in cars1:\", num_obs_cars1)\n",
        "print(\"Number of observations in cars2:\", num_obs_cars2)"
      ],
      "metadata": {
        "colab": {
          "base_uri": "https://localhost:8080/"
        },
        "id": "nkhEddoYy1By",
        "outputId": "27af1361-c8a9-409b-f243-5254b611fc07"
      },
      "execution_count": 5,
      "outputs": [
        {
          "output_type": "stream",
          "name": "stdout",
          "text": [
            "Number of observations in cars1: 198\n",
            "Number of observations in cars2: 200\n"
          ]
        }
      ]
    },
    {
      "cell_type": "code",
      "source": [
        "# Step 6. Join cars1 and cars2 into a single DataFrame called cars\n",
        "\n",
        "cars = pd.concat([cars1, cars2], ignore_index=True)\n",
        "\n",
        "print(cars)"
      ],
      "metadata": {
        "colab": {
          "base_uri": "https://localhost:8080/"
        },
        "id": "DNISE9oOzLI9",
        "outputId": "08d84a49-4ed1-4b48-a074-4172a5b24a14"
      },
      "execution_count": 11,
      "outputs": [
        {
          "output_type": "stream",
          "name": "stdout",
          "text": [
            "      mpg  cylinders  displacement horsepower  weight  acceleration  model  \\\n",
            "0    18.0          8           307        130    3504          12.0     70   \n",
            "1    15.0          8           350        165    3693          11.5     70   \n",
            "2    18.0          8           318        150    3436          11.0     70   \n",
            "3    16.0          8           304        150    3433          12.0     70   \n",
            "4    17.0          8           302        140    3449          10.5     70   \n",
            "..    ...        ...           ...        ...     ...           ...    ...   \n",
            "393  27.0          4           140         86    2790          15.6     82   \n",
            "394  44.0          4            97         52    2130          24.6     82   \n",
            "395  32.0          4           135         84    2295          11.6     82   \n",
            "396  28.0          4           120         79    2625          18.6     82   \n",
            "397  31.0          4           119         82    2720          19.4     82   \n",
            "\n",
            "     origin                        car  \n",
            "0         1  chevrolet chevelle malibu  \n",
            "1         1          buick skylark 320  \n",
            "2         1         plymouth satellite  \n",
            "3         1              amc rebel sst  \n",
            "4         1                ford torino  \n",
            "..      ...                        ...  \n",
            "393       1            ford mustang gl  \n",
            "394       2                  vw pickup  \n",
            "395       1              dodge rampage  \n",
            "396       1                ford ranger  \n",
            "397       1                 chevy s-10  \n",
            "\n",
            "[398 rows x 9 columns]\n"
          ]
        }
      ]
    },
    {
      "cell_type": "code",
      "source": [
        "# Step 7. Oops, there is a column missing, called owners. Create a random number Series from 15,000 to 73,000.\n",
        "\n",
        "# Create a random number Series for 'owners'\n",
        "owners = np.random.randint(15000, 73001, size=len(cars))\n",
        "\n",
        "# Assign the Series to the 'owners' column in the 'cars' DataFrame\n",
        "cars['owners'] = owners\n",
        "print(owners)"
      ],
      "metadata": {
        "colab": {
          "base_uri": "https://localhost:8080/"
        },
        "id": "hcoqw3fszp8q",
        "outputId": "6bf807cf-22b8-4454-eba4-571ae974d642"
      },
      "execution_count": 12,
      "outputs": [
        {
          "output_type": "stream",
          "name": "stdout",
          "text": [
            "[25472 40257 24147 56670 34698 51107 54278 20994 17814 44279 42444 67800\n",
            " 46456 40548 17974 40814 64369 66996 58339 44436 34907 67492 34323 59064\n",
            " 53747 24949 62926 44397 25316 33332 30723 58734 52357 25602 21877 24744\n",
            " 62210 45381 53790 43567 41972 28246 67372 36711 42283 32293 66126 54143\n",
            " 50884 56135 28771 69129 44865 61537 41032 18248 63702 53963 55524 53124\n",
            " 52499 55439 55815 55875 40916 26473 44438 49187 34038 57659 51956 37566\n",
            " 53004 52917 18652 39183 25028 23767 42110 21976 71592 35301 37973 15896\n",
            " 54370 35509 21774 37357 70270 19556 59667 40265 48731 23783 34644 61664\n",
            " 20832 41972 30963 29166 16269 26227 42953 50928 30846 22794 47393 65374\n",
            " 19928 35860 28241 23182 62876 68751 63482 69411 61820 52540 66743 61978\n",
            " 32843 39595 33358 46161 33921 60699 48838 53269 59670 63278 49608 49585\n",
            " 67065 55684 54682 41619 35072 46844 21359 24466 55486 24085 58960 31737\n",
            " 69275 25141 25995 48705 55080 70810 63310 41591 30067 68573 26544 60429\n",
            " 30794 63371 58593 28107 53207 37413 21600 65471 46425 64859 16280 47299\n",
            " 38536 32884 66421 24092 21145 41191 17832 41568 60190 60667 36508 34229\n",
            " 65626 46677 33413 38786 21885 50014 58141 48224 37642 46968 29732 35045\n",
            " 18740 68617 16357 65694 20764 39150 20492 37297 26337 15200 32582 36913\n",
            " 42146 34892 71242 54163 49731 30493 60448 15386 17921 25532 16477 46711\n",
            " 49356 50522 41036 45499 27439 67204 58223 72967 33672 57532 17367 27924\n",
            " 33030 28411 56200 16216 26591 33486 72960 66348 45966 43425 22436 71160\n",
            " 65985 18680 26683 25357 67840 54527 59132 71974 50693 43221 50630 15741\n",
            " 31711 50919 31619 50463 58235 59991 72766 33221 67097 43762 27383 48021\n",
            " 51720 44627 60143 28808 26930 42072 36724 48393 24992 26193 57694 55240\n",
            " 30788 64515 24900 59590 42612 71714 23530 33201 19494 57883 47318 64355\n",
            " 69172 54694 23889 63472 35989 66681 33377 55781 50346 72534 37002 22826\n",
            " 45528 18104 65857 21122 33694 55352 65236 32005 44418 56809 25371 17905\n",
            " 63547 70217 27067 43133 61506 64537 40181 68694 39373 71075 58694 59970\n",
            " 55000 28738 31468 26720 44122 35970 36332 47015 44695 57207 63132 36153\n",
            " 67292 53313 37302 45258 56610 52057 50792 50263 72032 26878 41454 40616\n",
            " 60349 57614 19221 49934 62010 71262 27796 57121 44250 16783 55616 54166\n",
            " 30857 27266 67992 33635 32604 34859 66204 35230 62309 31375 66137 71348\n",
            " 26651 61143 71790 71849 27375 27011 59985 39193 64270 66854 44149 44382\n",
            " 71801 17092 61328 70240 67973 22256 37691 20817 71697 50378 48708 46091\n",
            " 40128 44445]\n"
          ]
        }
      ]
    },
    {
      "cell_type": "code",
      "source": [
        "# Step 8. Add the column owners to cars\n",
        "\n",
        "# Create a random number Series for 'owners'\n",
        "owners = np.random.randint(15000, 73001, size=len(cars))\n",
        "\n",
        "# Add the 'owners' column to the 'cars' DataFrame\n",
        "cars['owners'] = owners\n",
        "print(owners)"
      ],
      "metadata": {
        "colab": {
          "base_uri": "https://localhost:8080/"
        },
        "id": "HqloDoiJ0G2C",
        "outputId": "34ef4c6a-b048-447f-f086-d8526d7b93bb"
      },
      "execution_count": 13,
      "outputs": [
        {
          "output_type": "stream",
          "name": "stdout",
          "text": [
            "[66222 27756 66462 53511 42048 66292 35672 21324 33168 48352 70908 24892\n",
            " 22961 71179 62477 59601 53388 28123 43011 62404 43727 40429 16250 65747\n",
            " 33607 55827 54693 23874 31128 66083 66267 65734 46142 30594 54389 37673\n",
            " 59013 37873 29759 36615 31043 19084 35279 15829 54879 38073 16760 18802\n",
            " 70541 32630 72614 50926 53672 46917 55024 52719 41773 46025 52993 59693\n",
            " 49613 39497 61050 33772 53040 68297 53994 64403 37064 43525 62492 17062\n",
            " 29344 63626 25267 68041 67526 62832 50566 65156 38777 29221 17063 60649\n",
            " 36961 41166 63965 59465 71642 16120 37956 51313 71181 33522 16065 72138\n",
            " 25057 19308 61933 53124 43706 37306 66646 50095 52476 46769 70917 51534\n",
            " 67402 62232 69896 57404 23293 69564 66424 34779 50212 33159 71907 46385\n",
            " 40720 41162 62712 43777 47707 30757 55238 21803 23128 45553 31473 60144\n",
            " 44374 70696 23084 59988 36328 59230 68473 65809 21821 51919 53016 31957\n",
            " 66707 44958 26930 35653 58760 54209 64507 43139 57741 51070 64275 48975\n",
            " 48470 23266 34917 33273 44070 24144 70807 31302 62183 33709 65954 31881\n",
            " 52267 57080 21800 22420 29233 37934 40885 30860 18750 61218 47793 30803\n",
            " 25163 15589 39592 39300 66949 44247 37210 45792 27978 63780 40472 15216\n",
            " 44003 53688 27703 22350 28508 23347 29634 41124 30425 65170 29343 17337\n",
            " 18466 64579 31721 29767 31075 70301 49465 39972 38578 38498 25297 45360\n",
            " 68590 66008 52582 65519 28369 46648 60442 15844 71445 53389 70769 16246\n",
            " 44468 20640 58888 64915 21098 32965 71470 27966 22466 48719 15262 40846\n",
            " 25934 59020 68131 40587 16198 45721 63429 27115 29967 33826 58774 34556\n",
            " 64863 32255 34050 48623 34572 37216 15045 58163 70527 24993 54683 52062\n",
            " 53809 19562 65861 68128 36827 25320 67450 23162 21368 59125 34571 48352\n",
            " 36736 15281 71753 71765 71505 40682 44295 46796 69534 72595 17369 30058\n",
            " 40106 71080 62369 60020 69190 53706 43314 26883 30906 22867 59359 48315\n",
            " 22502 48097 20014 18190 16515 51852 34099 35063 70779 51931 39394 18966\n",
            " 29526 72983 68416 62278 43742 49298 67957 49143 43196 24158 61167 60123\n",
            " 59788 44285 44056 57533 29007 57980 33771 65346 21303 22744 64703 48977\n",
            " 55749 51007 45000 21081 46293 25630 32158 44295 69819 15994 53114 35950\n",
            " 53212 49572 37388 53898 61170 15907 31984 47264 36147 67533 52756 66907\n",
            " 28469 38259 50772 25059 30689 43441 48062 22561 43145 64017 27684 44245\n",
            " 59947 40923 42251 22443 60133 49392 19762 67352 32261 24388 26118 22491\n",
            " 43914 21116 47818 72838 65721 49594 52282 19115 28515 57133 44016 20948\n",
            " 59555 35054]\n"
          ]
        }
      ]
    }
  ]
}