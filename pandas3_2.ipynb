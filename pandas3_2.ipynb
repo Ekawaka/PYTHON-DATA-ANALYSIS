{
  "nbformat": 4,
  "nbformat_minor": 0,
  "metadata": {
    "colab": {
      "provenance": [],
      "authorship_tag": "ABX9TyOsr3TaUHcrutBXvlDL89rg",
      "include_colab_link": true
    },
    "kernelspec": {
      "name": "python3",
      "display_name": "Python 3"
    },
    "language_info": {
      "name": "python"
    }
  },
  "cells": [
    {
      "cell_type": "markdown",
      "metadata": {
        "id": "view-in-github",
        "colab_type": "text"
      },
      "source": [
        "<a href=\"https://colab.research.google.com/github/Ekawaka/PYTHON-DATA-ANALYSIS/blob/main/pandas3_2.ipynb\" target=\"_parent\"><img src=\"https://colab.research.google.com/assets/colab-badge.svg\" alt=\"Open In Colab\"/></a>"
      ]
    },
    {
      "cell_type": "markdown",
      "source": [
        "MPG Cars\n",
        "Introduction:\n",
        "The following exercise utilizes data from UC Irvine Machine Learning Repository"
      ],
      "metadata": {
        "id": "PhPgyQ2dxVZ1"
      }
    },
    {
      "cell_type": "code",
      "source": [
        "#Step 1. Import the necessary libraries\n",
        "\n",
        "import pandas as pd\n",
        "import numpy as np\n",
        "import seaborn as sns"
      ],
      "metadata": {
        "id": "F3hWQPw4xYDl"
      },
      "execution_count": 1,
      "outputs": []
    },
    {
      "cell_type": "code",
      "source": [
        "# Step 2. Import the first dataset cars1 and cars2.\n",
        "\n",
        "df = pd.read_csv('https://raw.githubusercontent.com/guipsamora/pandas_exercises/master/05_Merge/Auto_MPG/cars1.csv')\n",
        "\n",
        "df = pd.read_csv('https://raw.githubusercontent.com/guipsamora/pandas_exercises/master/05_Merge/Auto_MPG/cars2.csv')"
      ],
      "metadata": {
        "id": "hxVKTG_Mxs3L"
      },
      "execution_count": 2,
      "outputs": []
    },
    {
      "cell_type": "code",
      "source": [
        "# Step 3. Assign each to a variable called cars1 and cars2\n",
        "\n",
        "cars1 = pd.read_csv('https://raw.githubusercontent.com/guipsamora/pandas_exercises/master/05_Merge/Auto_MPG/cars1.csv')\n",
        "cars2 = pd.read_csv('https://raw.githubusercontent.com/guipsamora/pandas_exercises/master/05_Merge/Auto_MPG/cars2.csv')"
      ],
      "metadata": {
        "id": "5U3rkzG5ySjT"
      },
      "execution_count": 3,
      "outputs": []
    },
    {
      "cell_type": "code",
      "source": [
        "print(cars1.head())\n",
        "print(cars2.head())"
      ],
      "metadata": {
        "id": "HeOTWLnk039e"
      },
      "execution_count": null,
      "outputs": []
    },
    {
      "cell_type": "code",
      "source": [
        "# Step 4. Oops, it seems our first dataset has some unnamed blank columns, fix cars1\n",
        "\n",
        "cars1 = cars1.dropna(axis=1, how='all')"
      ],
      "metadata": {
        "id": "cOiSDGgpyehz"
      },
      "execution_count": 4,
      "outputs": []
    },
    {
      "cell_type": "code",
      "source": [
        "# Step 5. What is the number of observations in each dataset?\n",
        "\n",
        "num_obs_cars1 = cars1.shape[0]\n",
        "num_obs_cars2 = cars2.shape[0]\n",
        "\n",
        "print(\"Number of observations in cars1:\", num_obs_cars1)\n",
        "print(\"Number of observations in cars2:\", num_obs_cars2)"
      ],
      "metadata": {
        "colab": {
          "base_uri": "https://localhost:8080/"
        },
        "id": "nkhEddoYy1By",
        "outputId": "27af1361-c8a9-409b-f243-5254b611fc07"
      },
      "execution_count": 5,
      "outputs": [
        {
          "output_type": "stream",
          "name": "stdout",
          "text": [
            "Number of observations in cars1: 198\n",
            "Number of observations in cars2: 200\n"
          ]
        }
      ]
    },
    {
      "cell_type": "code",
      "source": [
        "# Step 6. Join cars1 and cars2 into a single DataFrame called cars\n",
        "\n",
        "cars = pd.concat([cars1, cars2], ignore_index=True)"
      ],
      "metadata": {
        "id": "DNISE9oOzLI9"
      },
      "execution_count": 6,
      "outputs": []
    },
    {
      "cell_type": "code",
      "source": [
        "# Step 7. Oops, there is a column missing, called owners. Create a random number Series from 15,000 to 73,000.\n",
        "\n",
        "# Create a random number Series for 'owners'\n",
        "owners = np.random.randint(15000, 73001, size=len(cars))\n",
        "\n",
        "# Assign the Series to the 'owners' column in the 'cars' DataFrame\n",
        "cars['owners'] = owners"
      ],
      "metadata": {
        "id": "hcoqw3fszp8q"
      },
      "execution_count": 7,
      "outputs": []
    },
    {
      "cell_type": "code",
      "source": [
        "# Step 8. Add the column owners to cars\n",
        "\n",
        "# Create a random number Series for 'owners'\n",
        "owners = np.random.randint(15000, 73001, size=len(cars))\n",
        "\n",
        "# Add the 'owners' column to the 'cars' DataFrame\n",
        "cars['owners'] = owners"
      ],
      "metadata": {
        "id": "HqloDoiJ0G2C"
      },
      "execution_count": 8,
      "outputs": []
    }
  ]
}