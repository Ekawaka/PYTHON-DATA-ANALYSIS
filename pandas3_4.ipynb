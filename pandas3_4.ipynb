{
  "nbformat": 4,
  "nbformat_minor": 0,
  "metadata": {
    "colab": {
      "provenance": [],
      "authorship_tag": "ABX9TyMiPJJhakJ+irDfIdI1TNLH",
      "include_colab_link": true
    },
    "kernelspec": {
      "name": "python3",
      "display_name": "Python 3"
    },
    "language_info": {
      "name": "python"
    }
  },
  "cells": [
    {
      "cell_type": "markdown",
      "metadata": {
        "id": "view-in-github",
        "colab_type": "text"
      },
      "source": [
        "<a href=\"https://colab.research.google.com/github/Ekawaka/PYTHON-DATA-ANALYSIS/blob/main/pandas3_4.ipynb\" target=\"_parent\"><img src=\"https://colab.research.google.com/assets/colab-badge.svg\" alt=\"Open In Colab\"/></a>"
      ]
    },
    {
      "cell_type": "markdown",
      "source": [
        "Housing Market\n",
        "Introduction:\n",
        "This time we will create our own dataset with fictional numbers to describe a house market. As we are going to create random data don't try to reason of the numbers."
      ],
      "metadata": {
        "id": "kz61gGW87Wbf"
      }
    },
    {
      "cell_type": "code",
      "source": [
        "# Step 1. Import the necessary libraries\n",
        "import pandas as pd\n",
        "import numpy as np\n"
      ],
      "metadata": {
        "id": "tDXvMPuY7Y2q"
      },
      "execution_count": 1,
      "outputs": []
    },
    {
      "cell_type": "code",
      "source": [
        "# Step 2. Create 3 differents Series, each of length 100, as follows:\n",
        "#The first a random number from 1 to 4\n",
        "#The second a random number from 1 to 3\n",
        "#The third a random number from 10,000 to 30,000\n",
        "\n",
        " #Create Series with random numbers\n",
        "series1 = pd.Series(np.random.randint(1, 5, size=100))\n",
        "series2 = pd.Series(np.random.randint(1, 4, size=100))\n",
        "series3 = pd.Series(np.random.randint(10000, 30001, size=100))\n",
        "print(series1)\n",
        "print(series2)\n",
        "print(series3)"
      ],
      "metadata": {
        "id": "ourAk54U7l7K"
      },
      "execution_count": null,
      "outputs": []
    },
    {
      "cell_type": "code",
      "source": [
        "# Step 3. Let's create a DataFrame by joinning the Series by column\n",
        "\n",
        "# Create DataFrame by joining the Series by column\n",
        "df = pd.DataFrame({'Series1': series1, 'Series2': series2, 'Series3': series3})\n",
        "\n",
        "# Display the DataFrame\n",
        "print(df)"
      ],
      "metadata": {
        "id": "Q3X-pQPf8lp0"
      },
      "execution_count": null,
      "outputs": []
    },
    {
      "cell_type": "code",
      "source": [
        "# Step 4. Change the name of the columns to bedrs, bathrs, price_sqr_meter\n",
        "\n",
        "# Rename the columns\n",
        "df.rename(columns={'Series1': 'bedrs', 'Series2': 'bathrs', 'Series3': 'price_sqr_meter'}, inplace=True)\n",
        "\n",
        "# Display the DataFrame with updated column names\n",
        "print(df)"
      ],
      "metadata": {
        "id": "esQulKcN81kf"
      },
      "execution_count": null,
      "outputs": []
    },
    {
      "cell_type": "code",
      "source": [
        "# Step 5. Create a one column DataFrame with the values of the 3 Series and assign it to 'bigcolumn'\n",
        "\n",
        "# Concatenate the three Series vertically\n",
        "bigcolumn = pd.concat([series1, series2, series3], axis=0)\n",
        "\n",
        "# Convert the result to a DataFrame with one column\n",
        "bigcolumn = pd.DataFrame(bigcolumn, columns=['bigcolumn'])\n",
        "\n",
        "# Display the DataFrame\n",
        "print(bigcolumn)"
      ],
      "metadata": {
        "id": "Pu_soJKp9IA9"
      },
      "execution_count": null,
      "outputs": []
    },
    {
      "cell_type": "code",
      "source": [
        "# Step 6. Oops, it seems it is going only until index 99. Is it true?\n",
        "\n",
        "#Yes,  correct. The index of bigcolumn goes up to 99 because the Series have 100 elements each.\n"
      ],
      "metadata": {
        "id": "UbnBMmpw9oSe"
      },
      "execution_count": null,
      "outputs": []
    },
    {
      "cell_type": "code",
      "source": [
        "#Step 7. Reindex the DataFrame so it goes from 0 to 299\n",
        "\n",
        "# Reset the index of the DataFrame\n",
        "bigcolumn.reset_index(drop=True, inplace=True)\n",
        "\n",
        "# Display the DataFrame\n",
        "print(bigcolumn)"
      ],
      "metadata": {
        "colab": {
          "base_uri": "https://localhost:8080/"
        },
        "id": "YJYoZa-3EU5F",
        "outputId": "614e25ae-f1dc-48e2-ab27-1772bc8c829c"
      },
      "execution_count": 9,
      "outputs": [
        {
          "output_type": "stream",
          "name": "stdout",
          "text": [
            "     bigcolumn\n",
            "0            3\n",
            "1            3\n",
            "2            2\n",
            "3            2\n",
            "4            4\n",
            "..         ...\n",
            "295      21657\n",
            "296      16739\n",
            "297      20869\n",
            "298      25748\n",
            "299      29983\n",
            "\n",
            "[300 rows x 1 columns]\n"
          ]
        }
      ]
    }
  ]
}