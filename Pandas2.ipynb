{
  "nbformat": 4,
  "nbformat_minor": 0,
  "metadata": {
    "colab": {
      "provenance": [],
      "authorship_tag": "ABX9TyNWVoixjKVhs1+28OAyDTwH",
      "include_colab_link": true
    },
    "kernelspec": {
      "name": "python3",
      "display_name": "Python 3"
    },
    "language_info": {
      "name": "python"
    }
  },
  "cells": [
    {
      "cell_type": "markdown",
      "metadata": {
        "id": "view-in-github",
        "colab_type": "text"
      },
      "source": [
        "<a href=\"https://colab.research.google.com/github/Ekawaka/PYTHON-DATA-ANALYSIS/blob/main/Pandas2.ipynb\" target=\"_parent\"><img src=\"https://colab.research.google.com/assets/colab-badge.svg\" alt=\"Open In Colab\"/></a>"
      ]
    },
    {
      "cell_type": "markdown",
      "source": [
        "Ex1 - Filtering and Sorting Data"
      ],
      "metadata": {
        "id": "nM4BG7UGMa3q"
      }
    },
    {
      "cell_type": "code",
      "source": [
        "# Step 1. Import the necessary libraries\n",
        "\n",
        "import pandas as pd"
      ],
      "metadata": {
        "id": "1JbRtX7MMrsb"
      },
      "execution_count": 1,
      "outputs": []
    },
    {
      "cell_type": "code",
      "source": [
        "# Step 2. Import the dataset from this address  https://github.com/justmarkham\n",
        "\n",
        "url = \"https://github.com/justmarkham\"\n",
        "\n",
        "# Read the dataset into a pandas DataFrame\n",
        "df = pd.read_csv(url, sep='|')\n",
        "\n",
        "# df contains your dataset and you can perform operations on it\n",
        "print(df.head())"
      ],
      "metadata": {
        "id": "8s7Dor-rM8yA"
      },
      "execution_count": null,
      "outputs": []
    },
    {
      "cell_type": "code",
      "source": [
        "# Step 3. Assign it to a variable called chipo.\n",
        "\n",
        "url = \"https://github.com/justmarkham\"\n",
        "\n",
        "# Read the dataset into a pandas DataFrame and assign it to variable 'chipo'\n",
        "chipo = pd.read_csv(url, sep='\\t')\n",
        "\n",
        "# Now, 'chipo' contains your dataset and you can perform operations on it\n",
        "print(chipo.head())"
      ],
      "metadata": {
        "colab": {
          "base_uri": "https://localhost:8080/"
        },
        "id": "avgQacCTOhwI",
        "outputId": "e6538ad2-09bd-4b3a-a9e4-7d81e00bf8ac"
      },
      "execution_count": 6,
      "outputs": [
        {
          "output_type": "stream",
          "name": "stdout",
          "text": [
            "                                     <!DOCTYPE html>\n",
            "0                                              <html\n",
            "1                                          lang=\"en\"\n",
            "2    data-color-mode=\"auto\" data-light-theme=\"lig...\n",
            "3    data-a11y-animated-images=\"system\" data-a11y...\n",
            "4                                                  >\n"
          ]
        }
      ]
    },
    {
      "cell_type": "code",
      "source": [
        "# Step 4. How many products cost more than $10.00?\n",
        "\n",
        "# Convert item_price to numeric after removing the '$' symbol\n",
        "chipo['item_price'] = chipo['item_price'].replace('[\\$,]', '', regex=True).astype(float)\n",
        "\n",
        "# Filter the dataset for products costing more than $10.00\n",
        "expensive_items = chipo[chipo['item_price'] > 10.00]\n",
        "\n",
        "# Count the number of products costing more than $10.00\n",
        "num_expensive_items = len(expensive_items)\n",
        "\n",
        "print(\"Number of products costing more than $10.00:\", num_expensive_items)"
      ],
      "metadata": {
        "id": "lHyMvXNNPYWp"
      },
      "execution_count": null,
      "outputs": []
    },
    {
      "cell_type": "code",
      "source": [
        "# Step 5. What is the price of each item?\n",
        "# print a data frame with only two columns item_name and item_price\n",
        "\n",
        "# Select only 'item_name' and 'item_price' columns\n",
        "item_prices = chipo[['item_name', 'item_price']]\n",
        "\n",
        "# Remove duplicate rows to get unique item prices\n",
        "item_prices = item_prices.drop_duplicates()\n",
        "\n",
        "# Display the DataFrame\n",
        "print(item_prices)"
      ],
      "metadata": {
        "id": "vSagHqAiQ-LR"
      },
      "execution_count": null,
      "outputs": []
    },
    {
      "cell_type": "code",
      "source": [
        "# Step 6. Sort by the name of the item"
      ],
      "metadata": {
        "id": "p6-gjnF7RktS"
      },
      "execution_count": null,
      "outputs": []
    },
    {
      "cell_type": "code",
      "source": [
        "# Step 7. What was the quantity of the most expensive item ordered?"
      ],
      "metadata": {
        "id": "v5fAiTqHRreq"
      },
      "execution_count": null,
      "outputs": []
    },
    {
      "cell_type": "code",
      "source": [
        "# Step 8. How many times was a Veggie Salad Bowl ordered?"
      ],
      "metadata": {
        "id": "_o3vr-ZLR1rA"
      },
      "execution_count": null,
      "outputs": []
    },
    {
      "cell_type": "code",
      "source": [
        "# Step 9. How many times did someone order more than one Canned Soda?\n"
      ],
      "metadata": {
        "id": "bIrDB6vvR8ZT"
      },
      "execution_count": null,
      "outputs": []
    },
    {
      "cell_type": "code",
      "source": [],
      "metadata": {
        "id": "ycMfllPVSGT7"
      },
      "execution_count": null,
      "outputs": []
    }
  ]
}