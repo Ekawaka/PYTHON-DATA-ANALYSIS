{
  "nbformat": 4,
  "nbformat_minor": 0,
  "metadata": {
    "colab": {
      "provenance": [],
      "authorship_tag": "ABX9TyOkJuPdW/09mh6CZBHQTd6a",
      "include_colab_link": true
    },
    "kernelspec": {
      "name": "python3",
      "display_name": "Python 3"
    },
    "language_info": {
      "name": "python"
    }
  },
  "cells": [
    {
      "cell_type": "markdown",
      "metadata": {
        "id": "view-in-github",
        "colab_type": "text"
      },
      "source": [
        "<a href=\"https://colab.research.google.com/github/Ekawaka/PYTHON-DATA-ANALYSIS/blob/main/Pandas2.ipynb\" target=\"_parent\"><img src=\"https://colab.research.google.com/assets/colab-badge.svg\" alt=\"Open In Colab\"/></a>"
      ]
    },
    {
      "cell_type": "markdown",
      "source": [
        "Ex1 - Filtering and Sorting Data"
      ],
      "metadata": {
        "id": "nM4BG7UGMa3q"
      }
    },
    {
      "cell_type": "code",
      "source": [
        "# Step 1. Import the necessary libraries\n",
        "\n",
        "import pandas as pdd"
      ],
      "metadata": {
        "id": "1JbRtX7MMrsb"
      },
      "execution_count": 9,
      "outputs": []
    },
    {
      "cell_type": "code",
      "source": [
        "# Step 2. Import the dataset from this address  https://github.com/justmarkham\n",
        "\n",
        "\n",
        "# Read the dataset into a pandas DataFrame\n",
        "dff1 = pdd.read_table(\"https://raw.githubusercontent.com/justmarkham/DAT8/master/data/chipotle.tsv\")\n",
        "\n",
        "# df contains your dataset and you can perform operations on it\n",
        "print(dff1.head())"
      ],
      "metadata": {
        "id": "8s7Dor-rM8yA",
        "outputId": "1fe1198a-286c-4d82-89cd-97bd21043853",
        "colab": {
          "base_uri": "https://localhost:8080/"
        }
      },
      "execution_count": 11,
      "outputs": [
        {
          "output_type": "stream",
          "name": "stdout",
          "text": [
            "   order_id  quantity                              item_name  \\\n",
            "0         1         1           Chips and Fresh Tomato Salsa   \n",
            "1         1         1                                   Izze   \n",
            "2         1         1                       Nantucket Nectar   \n",
            "3         1         1  Chips and Tomatillo-Green Chili Salsa   \n",
            "4         2         2                           Chicken Bowl   \n",
            "5         3         1                           Chicken Bowl   \n",
            "6         3         1                          Side of Chips   \n",
            "7         4         1                          Steak Burrito   \n",
            "8         4         1                       Steak Soft Tacos   \n",
            "9         5         1                          Steak Burrito   \n",
            "\n",
            "                                  choice_description item_price  \n",
            "0                                                NaN     $2.39   \n",
            "1                                       [Clementine]     $3.39   \n",
            "2                                            [Apple]     $3.39   \n",
            "3                                                NaN     $2.39   \n",
            "4  [Tomatillo-Red Chili Salsa (Hot), [Black Beans...    $16.98   \n",
            "5  [Fresh Tomato Salsa (Mild), [Rice, Cheese, Sou...    $10.98   \n",
            "6                                                NaN     $1.69   \n",
            "7  [Tomatillo Red Chili Salsa, [Fajita Vegetables...    $11.75   \n",
            "8  [Tomatillo Green Chili Salsa, [Pinto Beans, Ch...     $9.25   \n",
            "9  [Fresh Tomato Salsa, [Rice, Black Beans, Pinto...     $9.25   \n"
          ]
        }
      ]
    },
    {
      "cell_type": "code",
      "source": [
        "# Step 3. Assign it to a variable called chipo.\n",
        "\n",
        "\n",
        "# Read the dataset into a pandas DataFrame and assign it to variable 'chipo'\n",
        "chipo =  pdd.read_table(\"https://raw.githubusercontent.com/justmarkham/DAT8/master/data/chipotle.tsv\")\n",
        "\n",
        "# Now, 'chipo' contains your dataset and you can perform operations on it\n",
        "print(chipo.head())"
      ],
      "metadata": {
        "colab": {
          "base_uri": "https://localhost:8080/"
        },
        "id": "avgQacCTOhwI",
        "outputId": "b179ddf2-4e48-428a-e00d-fec313bd0fa1"
      },
      "execution_count": 12,
      "outputs": [
        {
          "output_type": "stream",
          "name": "stdout",
          "text": [
            "   order_id  quantity                              item_name  \\\n",
            "0         1         1           Chips and Fresh Tomato Salsa   \n",
            "1         1         1                                   Izze   \n",
            "2         1         1                       Nantucket Nectar   \n",
            "3         1         1  Chips and Tomatillo-Green Chili Salsa   \n",
            "4         2         2                           Chicken Bowl   \n",
            "\n",
            "                                  choice_description item_price  \n",
            "0                                                NaN     $2.39   \n",
            "1                                       [Clementine]     $3.39   \n",
            "2                                            [Apple]     $3.39   \n",
            "3                                                NaN     $2.39   \n",
            "4  [Tomatillo-Red Chili Salsa (Hot), [Black Beans...    $16.98   \n"
          ]
        }
      ]
    },
    {
      "cell_type": "code",
      "source": [
        "# Step 4. How many products cost more than $10.00?\n",
        "\n",
        "# Convert item_price to numeric after removing the '$' symbol\n",
        "chipo['item_price'] = chipo['item_price'].replace('[\\$,]', '', regex=True).astype(float)\n",
        "\n",
        "# Filter the dataset for products costing more than $10.00\n",
        "expensive_items = chipo[chipo['item_price'] > 10.00]\n",
        "\n",
        "# Count the number of products costing more than $10.00\n",
        "num_expensive_items = len(expensive_items)\n",
        "\n",
        "print(\"Number of products costing more than $10.00:\", num_expensive_items)"
      ],
      "metadata": {
        "id": "lHyMvXNNPYWp",
        "colab": {
          "base_uri": "https://localhost:8080/"
        },
        "outputId": "291db2dd-8817-4465-a7f0-b1f3488c8b6c"
      },
      "execution_count": 13,
      "outputs": [
        {
          "output_type": "stream",
          "name": "stdout",
          "text": [
            "Number of products costing more than $10.00: 1130\n"
          ]
        }
      ]
    },
    {
      "cell_type": "code",
      "source": [
        "# Step 5. What is the price of each item?\n",
        "# print a data frame with only two columns item_name and item_price\n",
        "\n",
        "# Select only 'item_name' and 'item_price' columns\n",
        "item_prices = chipo[['item_name', 'item_price']]\n",
        "\n",
        "# Remove duplicate rows to get unique item prices\n",
        "item_prices = item_prices.drop_duplicates()\n",
        "\n",
        "# Display the DataFrame\n",
        "print(item_prices)"
      ],
      "metadata": {
        "id": "vSagHqAiQ-LR",
        "colab": {
          "base_uri": "https://localhost:8080/"
        },
        "outputId": "2f73b935-bc33-4589-f99f-84746978a74a"
      },
      "execution_count": 14,
      "outputs": [
        {
          "output_type": "stream",
          "name": "stdout",
          "text": [
            "                                  item_name  item_price\n",
            "0              Chips and Fresh Tomato Salsa        2.39\n",
            "1                                      Izze        3.39\n",
            "2                          Nantucket Nectar        3.39\n",
            "3     Chips and Tomatillo-Green Chili Salsa        2.39\n",
            "4                              Chicken Bowl       16.98\n",
            "...                                     ...         ...\n",
            "4237                    Chips and Guacamole        8.50\n",
            "4354                       Steak Soft Tacos       18.50\n",
            "4489                    Chips and Guacamole       17.80\n",
            "4509                                  Chips        1.99\n",
            "4510                          Barbacoa Bowl       11.49\n",
            "\n",
            "[209 rows x 2 columns]\n"
          ]
        }
      ]
    },
    {
      "cell_type": "code",
      "source": [
        "# Step 6. Sort by the name of the item\n",
        "\n",
        "# Sort the DataFrame by the name of the item\n",
        "chipo_sorted = chipo.sort_values(by='item_name')\n",
        "\n",
        "# Display the sorted DataFrame\n",
        "print(chipo_sorted)"
      ],
      "metadata": {
        "id": "p6-gjnF7RktS",
        "colab": {
          "base_uri": "https://localhost:8080/"
        },
        "outputId": "915056b1-17c3-4bee-a17f-b2f87e08be80"
      },
      "execution_count": 15,
      "outputs": [
        {
          "output_type": "stream",
          "name": "stdout",
          "text": [
            "      order_id  quantity          item_name  \\\n",
            "3389      1360         2  6 Pack Soft Drink   \n",
            "341        148         1  6 Pack Soft Drink   \n",
            "1849       749         1  6 Pack Soft Drink   \n",
            "1860       754         1  6 Pack Soft Drink   \n",
            "2713      1076         1  6 Pack Soft Drink   \n",
            "...        ...       ...                ...   \n",
            "2384       948         1  Veggie Soft Tacos   \n",
            "781        322         1  Veggie Soft Tacos   \n",
            "2851      1132         1  Veggie Soft Tacos   \n",
            "1699       688         1  Veggie Soft Tacos   \n",
            "1395       567         1  Veggie Soft Tacos   \n",
            "\n",
            "                                     choice_description  item_price  \n",
            "3389                                        [Diet Coke]       12.98  \n",
            "341                                         [Diet Coke]        6.49  \n",
            "1849                                             [Coke]        6.49  \n",
            "1860                                        [Diet Coke]        6.49  \n",
            "2713                                             [Coke]        6.49  \n",
            "...                                                 ...         ...  \n",
            "2384  [Roasted Chili Corn Salsa, [Fajita Vegetables,...        8.75  \n",
            "781   [Fresh Tomato Salsa, [Black Beans, Cheese, Sou...        8.75  \n",
            "2851  [Roasted Chili Corn Salsa (Medium), [Black Bea...        8.49  \n",
            "1699  [Fresh Tomato Salsa, [Fajita Vegetables, Rice,...       11.25  \n",
            "1395  [Fresh Tomato Salsa (Mild), [Pinto Beans, Rice...        8.49  \n",
            "\n",
            "[4622 rows x 5 columns]\n"
          ]
        }
      ]
    },
    {
      "cell_type": "code",
      "source": [
        "# Step 7. What was the quantity of the most expensive item ordered?\n",
        "\n",
        "\n",
        "# Find the most expensive item\n",
        "most_expensive_item = chipo.loc[chipo['item_price'].idxmax()]\n",
        "\n",
        "# Get the quantity of the most expensive item\n",
        "quantity_of_most_expensive_item = most_expensive_item['quantity']\n",
        "\n",
        "print(\"Quantity of the most expensive item ordered:\", quantity_of_most_expensive_item)"
      ],
      "metadata": {
        "id": "v5fAiTqHRreq",
        "colab": {
          "base_uri": "https://localhost:8080/"
        },
        "outputId": "a363ada8-85c0-488a-af49-0a17263c2e0a"
      },
      "execution_count": 19,
      "outputs": [
        {
          "output_type": "stream",
          "name": "stdout",
          "text": [
            "Quantity of the most expensive item ordered: 15\n"
          ]
        }
      ]
    },
    {
      "cell_type": "code",
      "source": [
        "# Step 8. How many times was a Veggie Salad Bowl ordered?\n",
        "\n",
        "# Filter the DataFrame for rows where the item_name is 'Veggie Salad Bowl'\n",
        "veggie_salad_bowl_orders = chipo[chipo['item_name'] == 'Veggie Salad Bowl']\n",
        "\n",
        "# Count the number of rows in the filtered DataFrame\n",
        "number_of_veggie_salad_bowl_orders = veggie_salad_bowl_orders.shape[0]\n",
        "\n",
        "print(\"Number of times a Veggie Salad Bowl was ordered:\", number_of_veggie_salad_bowl_orders)"
      ],
      "metadata": {
        "id": "_o3vr-ZLR1rA",
        "colab": {
          "base_uri": "https://localhost:8080/"
        },
        "outputId": "9f7406e6-2d53-4d05-df13-d6608822ba0b"
      },
      "execution_count": 20,
      "outputs": [
        {
          "output_type": "stream",
          "name": "stdout",
          "text": [
            "Number of times a Veggie Salad Bowl was ordered: 18\n"
          ]
        }
      ]
    },
    {
      "cell_type": "code",
      "source": [
        "# Step 9. How many times did someone order more than one Canned Soda?\n",
        "\n",
        "# Filter the DataFrame for rows where the item_name is 'Canned Soda' and the quantity is greater than 1\n",
        "canned_soda_multiple_orders = chipo[(chipo['item_name'] == 'Canned Soda') & (chipo['quantity'] > 1)]\n",
        "\n",
        "# Count the number of rows in the filtered DataFrame\n",
        "number_of_canned_soda_multiple_orders = canned_soda_multiple_orders.shape[0]\n",
        "\n",
        "print(\"Number of times someone ordered more than one Canned Soda:\", number_of_canned_soda_multiple_orders)"
      ],
      "metadata": {
        "id": "bIrDB6vvR8ZT",
        "colab": {
          "base_uri": "https://localhost:8080/"
        },
        "outputId": "244f1937-8e99-4e51-8e10-2c1536d23cd4"
      },
      "execution_count": 21,
      "outputs": [
        {
          "output_type": "stream",
          "name": "stdout",
          "text": [
            "Number of times someone ordered more than one Canned Soda: 20\n"
          ]
        }
      ]
    },
    {
      "cell_type": "code",
      "source": [],
      "metadata": {
        "id": "ycMfllPVSGT7"
      },
      "execution_count": null,
      "outputs": []
    }
  ]
}