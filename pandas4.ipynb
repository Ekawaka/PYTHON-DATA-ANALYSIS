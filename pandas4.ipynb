{
  "nbformat": 4,
  "nbformat_minor": 0,
  "metadata": {
    "colab": {
      "provenance": [],
      "authorship_tag": "ABX9TyMi1xOFG7ZKex6XiDvAcgRj",
      "include_colab_link": true
    },
    "kernelspec": {
      "name": "python3",
      "display_name": "Python 3"
    },
    "language_info": {
      "name": "python"
    }
  },
  "cells": [
    {
      "cell_type": "markdown",
      "metadata": {
        "id": "view-in-github",
        "colab_type": "text"
      },
      "source": [
        "<a href=\"https://colab.research.google.com/github/Ekawaka/PYTHON-DATA-ANALYSIS/blob/main/pandas4.ipynb\" target=\"_parent\"><img src=\"https://colab.research.google.com/assets/colab-badge.svg\" alt=\"Open In Colab\"/></a>"
      ]
    },
    {
      "cell_type": "markdown",
      "source": [
        "Ex2 - Getting and Knowing your Data\n",
        "This time we are going to pull data directly from the internet. Special thanks to: https://github.com/justmarkham for sharing the dataset and materials."
      ],
      "metadata": {
        "id": "B0iIwRfaHGqa"
      }
    },
    {
      "cell_type": "code",
      "source": [
        "# Step 1. Import the necessary libraries\n",
        "\n",
        "import pandas as pd\n",
        "import numpy as np"
      ],
      "metadata": {
        "id": "WM5wu-NlHJMh"
      },
      "execution_count": 1,
      "outputs": []
    },
    {
      "cell_type": "code",
      "source": [
        "# Step 2. Import the dataset from this address.\n",
        "\n",
        "df = pd.read_table('https://raw.githubusercontent.com/justmarkham/DAT8/master/data/chipotle.tsv')\n",
        "\n",
        "print(df.head())"
      ],
      "metadata": {
        "colab": {
          "base_uri": "https://localhost:8080/"
        },
        "id": "wrftMbJUHmNU",
        "outputId": "ae5acbf8-0e33-4b1c-9c2a-889e0fb2fc92"
      },
      "execution_count": 3,
      "outputs": [
        {
          "output_type": "stream",
          "name": "stdout",
          "text": [
            "   order_id  quantity                              item_name  \\\n",
            "0         1         1           Chips and Fresh Tomato Salsa   \n",
            "1         1         1                                   Izze   \n",
            "2         1         1                       Nantucket Nectar   \n",
            "3         1         1  Chips and Tomatillo-Green Chili Salsa   \n",
            "4         2         2                           Chicken Bowl   \n",
            "\n",
            "                                  choice_description item_price  \n",
            "0                                                NaN     $2.39   \n",
            "1                                       [Clementine]     $3.39   \n",
            "2                                            [Apple]     $3.39   \n",
            "3                                                NaN     $2.39   \n",
            "4  [Tomatillo-Red Chili Salsa (Hot), [Black Beans...    $16.98   \n"
          ]
        }
      ]
    },
    {
      "cell_type": "code",
      "source": [
        "# Step 3. Assign it to a variable called chipo.\n",
        "\n",
        "chipo = pd.read_table('https://raw.githubusercontent.com/justmarkham/DAT8/master/data/chipotle.tsv')\n",
        "\n",
        "print(chipo.head())"
      ],
      "metadata": {
        "id": "nT_45zgJH6R4"
      },
      "execution_count": null,
      "outputs": []
    },
    {
      "cell_type": "code",
      "source": [
        "#Step 4. See the first 10 entries\n",
        "\n",
        "print(chipo.head(10))"
      ],
      "metadata": {
        "id": "zZX-OG1_IJoM"
      },
      "execution_count": null,
      "outputs": []
    },
    {
      "cell_type": "code",
      "source": [
        "# Step 5. What is the number of observations in the dataset?\n",
        "\n",
        "num_observations = chipo.shape[0]\n",
        "print(\"Number of observations in the dataset:\", num_observations)\n",
        "\n",
        "num_observations = len(chipo)\n",
        "print(\"Number of observations in the dataset:\", num_observations)"
      ],
      "metadata": {
        "colab": {
          "base_uri": "https://localhost:8080/"
        },
        "id": "LKp7cCy0JAFU",
        "outputId": "02c5dcff-a709-40d1-a2fd-094053e43c24"
      },
      "execution_count": 7,
      "outputs": [
        {
          "output_type": "stream",
          "name": "stdout",
          "text": [
            "Number of observations in the dataset: 4622\n",
            "Number of observations in the dataset: 4622\n"
          ]
        }
      ]
    },
    {
      "cell_type": "code",
      "source": [
        "# Step 6. What is the number of columns in the dataset?\n",
        "\n",
        "num_columns = chipo.shape[1]\n",
        "print(\"Number of columns in the dataset:\", num_columns)"
      ],
      "metadata": {
        "colab": {
          "base_uri": "https://localhost:8080/"
        },
        "id": "XTzi-ZL2JfV1",
        "outputId": "c7866480-7b93-4b5f-b068-2f28036f83bd"
      },
      "execution_count": 8,
      "outputs": [
        {
          "output_type": "stream",
          "name": "stdout",
          "text": [
            "Number of columns in the dataset: 5\n"
          ]
        }
      ]
    },
    {
      "cell_type": "code",
      "source": [
        "# Step 7. Print the name of all the columns.\n",
        "print(\"Names of all the columns:\")\n",
        "print(chipo.columns)"
      ],
      "metadata": {
        "colab": {
          "base_uri": "https://localhost:8080/"
        },
        "id": "VN8klo4tJvgt",
        "outputId": "23545d4c-330e-49ea-d78f-7610fdc9104f"
      },
      "execution_count": 9,
      "outputs": [
        {
          "output_type": "stream",
          "name": "stdout",
          "text": [
            "Names of all the columns:\n",
            "Index(['order_id', 'quantity', 'item_name', 'choice_description',\n",
            "       'item_price'],\n",
            "      dtype='object')\n"
          ]
        }
      ]
    },
    {
      "cell_type": "code",
      "source": [
        "# Step 8. How is the dataset indexed?\n",
        "print(\"Index of the dataset:\")\n",
        "print(chipo.index)"
      ],
      "metadata": {
        "colab": {
          "base_uri": "https://localhost:8080/"
        },
        "id": "W22F2GNIJ9F4",
        "outputId": "2d10c35b-375d-483a-b43a-e2b5bd4caaa0"
      },
      "execution_count": 11,
      "outputs": [
        {
          "output_type": "stream",
          "name": "stdout",
          "text": [
            "Index of the dataset:\n",
            "RangeIndex(start=0, stop=4622, step=1)\n"
          ]
        }
      ]
    },
    {
      "cell_type": "code",
      "source": [
        "# Step 9. Which was the most-ordered item?\n",
        "\n",
        "# Group the data by item name and sum up the quantities ordered for each item\n",
        "most_ordered_item = chipo.groupby('item_name')['quantity'].sum()\n",
        "\n",
        "# Find the item with the highest total quantity ordered\n",
        "most_ordered_item = most_ordered_item.idxmax()\n",
        "\n",
        "print(\"The most-ordered item is:\", most_ordered_item)"
      ],
      "metadata": {
        "colab": {
          "base_uri": "https://localhost:8080/"
        },
        "id": "rPw2eUhQLZA_",
        "outputId": "4a93772b-ca2e-4cc7-d0e2-532f4f3c0605"
      },
      "execution_count": 12,
      "outputs": [
        {
          "output_type": "stream",
          "name": "stdout",
          "text": [
            "The most-ordered item is: Chicken Bowl\n"
          ]
        }
      ]
    },
    {
      "cell_type": "code",
      "source": [
        "# Step 10. For the most-ordered item, how many items were ordered?\n",
        "\n",
        "# Filter the DataFrame for the most-ordered item\n",
        "most_ordered_item_data = chipo[chipo['item_name'] == most_ordered_item]\n",
        "\n",
        "# Sum up the quantities ordered for the most-ordered item\n",
        "num_items_ordered = most_ordered_item_data['quantity'].sum()\n",
        "\n",
        "print(\"Number of\", most_ordered_item, \"ordered:\", num_items_ordered)"
      ],
      "metadata": {
        "id": "93bMR46GLp9L"
      },
      "execution_count": null,
      "outputs": []
    },
    {
      "cell_type": "code",
      "source": [
        "# Step 11. What was the most ordered item in the choice_description column?\n",
        "# Group the data by choice description and sum up the quantities ordered for each description\n",
        "most_ordered_choice = chipo.groupby('choice_description')['quantity'].sum()\n",
        "\n",
        "# Find the choice description with the highest total quantity ordered\n",
        "most_ordered_choice = most_ordered_choice.idxmax()\n",
        "\n",
        "print(\"The most-ordered item in the choice_description column is:\", most_ordered_choice)"
      ],
      "metadata": {
        "colab": {
          "base_uri": "https://localhost:8080/"
        },
        "id": "0TQZ9MwKMJCW",
        "outputId": "dee22133-eb1c-4ec5-f370-465102323d09"
      },
      "execution_count": 14,
      "outputs": [
        {
          "output_type": "stream",
          "name": "stdout",
          "text": [
            "The most-ordered item in the choice_description column is: [Diet Coke]\n"
          ]
        }
      ]
    },
    {
      "cell_type": "code",
      "source": [
        "# Step 12. How many items were orderd in total?\n",
        "\n",
        "# Sum up the quantities ordered for all items in the dataset\n",
        "total_items_ordered = chipo['quantity'].sum()\n",
        "\n",
        "print(\"Total number of items ordered:\", total_items_ordered)"
      ],
      "metadata": {
        "colab": {
          "base_uri": "https://localhost:8080/"
        },
        "id": "ZM_9H0WjMg5T",
        "outputId": "75f83239-d2f0-4cf2-db37-9a030fb87583"
      },
      "execution_count": 15,
      "outputs": [
        {
          "output_type": "stream",
          "name": "stdout",
          "text": [
            "Total number of items ordered: 4972\n"
          ]
        }
      ]
    },
    {
      "cell_type": "code",
      "source": [
        "# Step 13. Turn the item price into a float\n",
        "\n",
        "# Remove the dollar sign ('$') from the item_price column and convert to float\n",
        "chipo['item_price'] = chipo['item_price'].str.replace('$', '').astype(float)"
      ],
      "metadata": {
        "id": "1QFHLG1rM55Y"
      },
      "execution_count": 16,
      "outputs": []
    },
    {
      "cell_type": "code",
      "source": [
        "# Step 13.a. Check the item price type\n",
        "\n",
        "item_price_type = chipo['item_price'].dtype\n",
        "\n",
        "print(\"Data type of the 'item_price' column:\", item_price_type)"
      ],
      "metadata": {
        "colab": {
          "base_uri": "https://localhost:8080/"
        },
        "id": "2hR-tgWQNKVV",
        "outputId": "60fac576-1778-4c7b-e68e-f7e28df0871b"
      },
      "execution_count": 17,
      "outputs": [
        {
          "output_type": "stream",
          "name": "stdout",
          "text": [
            "Data type of the 'item_price' column: float64\n"
          ]
        }
      ]
    },
    {
      "cell_type": "code",
      "source": [
        "# Step 13.b. Create a lambda function and change the type of item price\n",
        "\n",
        "#Check if the values in 'item_price' column are already floats\n",
        "if not chipo['item_price'].dtype == float:\n",
        "    # Create a lambda function to convert item_price to float\n",
        "    convert_to_float = lambda x: float(x[1:])\n",
        "\n",
        "    # Apply the lambda function to the 'item_price' column\n",
        "    chipo['item_price'] = chipo['item_price'].apply(convert_to_float)"
      ],
      "metadata": {
        "id": "k8Cpr7QxNcpP"
      },
      "execution_count": 29,
      "outputs": []
    },
    {
      "cell_type": "code",
      "source": [
        "# Step 13.c. Check the item price type\n",
        "\n",
        "item_price_type = chipo['item_price'].dtype\n",
        "\n",
        "print(\"Data type of the 'item_price' column:\", item_price_type)"
      ],
      "metadata": {
        "colab": {
          "base_uri": "https://localhost:8080/"
        },
        "id": "JSXBK5bLN9ko",
        "outputId": "f1a1bfdf-2464-49ae-fe99-96b0fabd763d"
      },
      "execution_count": 19,
      "outputs": [
        {
          "output_type": "stream",
          "name": "stdout",
          "text": [
            "Data type of the 'item_price' column: float64\n"
          ]
        }
      ]
    },
    {
      "cell_type": "code",
      "source": [
        "# Step 14. How much was the revenue for the period in the dataset?\n",
        "\n",
        "# Calculate revenue by multiplying quantity and item price, and then summing up the results\n",
        "revenue = (chipo['quantity'] * chipo['item_price']).sum()\n",
        "\n",
        "print(\"Revenue for the period in the dataset:\", revenue)"
      ],
      "metadata": {
        "colab": {
          "base_uri": "https://localhost:8080/"
        },
        "id": "ASvE3z0cOOi-",
        "outputId": "beaf642c-bb16-49b9-9994-4bc4c3210084"
      },
      "execution_count": 20,
      "outputs": [
        {
          "output_type": "stream",
          "name": "stdout",
          "text": [
            "Revenue for the period in the dataset: 39237.02\n"
          ]
        }
      ]
    },
    {
      "cell_type": "code",
      "source": [
        "#Step 15. How many orders were made in the period?\n",
        "\n",
        "# Count the number of unique order IDs\n",
        "num_orders = chipo['order_id'].nunique()\n",
        "\n",
        "print(\"Number of orders made in the period:\", num_orders)"
      ],
      "metadata": {
        "colab": {
          "base_uri": "https://localhost:8080/"
        },
        "id": "PV52Ke-OOk1E",
        "outputId": "9ea3a893-8036-4cab-de24-d5d9fc66590f"
      },
      "execution_count": 21,
      "outputs": [
        {
          "output_type": "stream",
          "name": "stdout",
          "text": [
            "Number of orders made in the period: 1834\n"
          ]
        }
      ]
    },
    {
      "cell_type": "code",
      "source": [
        "# Step 16. What is the average revenue amount per order?\n",
        "\n",
        "# Calculate average revenue amount per order\n",
        "average_revenue_per_order = revenue / num_orders\n",
        "\n",
        "print(\"Average revenue amount per order:\", average_revenue_per_order)\n",
        "\n",
        "\n",
        "# Group the data by order ID and calculate the revenue for each order\n",
        "order_revenue = chipo.groupby('order_id')[['quantity', 'item_price']].agg({'quantity': 'sum', 'item_price': 'sum'})\n",
        "\n",
        "# Calculate the average revenue amount per order\n",
        "average_revenue_per_order = order_revenue['item_price'].mean()\n",
        "\n",
        "print(\"Average revenue amount per order:\", average_revenue_per_order)"
      ],
      "metadata": {
        "colab": {
          "base_uri": "https://localhost:8080/"
        },
        "id": "5L0g3qW_O6Vm",
        "outputId": "54a31468-5b54-44bb-dca3-5852b25ba216"
      },
      "execution_count": 25,
      "outputs": [
        {
          "output_type": "stream",
          "name": "stdout",
          "text": [
            "Average revenue amount per order: 21.39423118865867\n",
            "Average revenue amount per order: 18.811428571428568\n"
          ]
        }
      ]
    },
    {
      "cell_type": "code",
      "source": [
        "# Step 17. How many different items are sold?\n",
        "\n",
        "# Count the number of unique item names\n",
        "num_unique_items = chipo['item_name'].nunique()\n",
        "\n",
        "print(\"Number of different items sold:\", num_unique_items)"
      ],
      "metadata": {
        "colab": {
          "base_uri": "https://localhost:8080/"
        },
        "id": "Qk7LyTfUPlCx",
        "outputId": "93e09826-78f1-4dd6-c7c6-3e695d57b72e"
      },
      "execution_count": 24,
      "outputs": [
        {
          "output_type": "stream",
          "name": "stdout",
          "text": [
            "Number of different items sold: 50\n"
          ]
        }
      ]
    }
  ]
}