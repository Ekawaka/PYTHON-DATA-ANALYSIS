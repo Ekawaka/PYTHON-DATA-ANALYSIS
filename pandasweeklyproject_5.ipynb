{
  "nbformat": 4,
  "nbformat_minor": 0,
  "metadata": {
    "colab": {
      "provenance": [],
      "authorship_tag": "ABX9TyM29rjRwrV4xt9rQajm3nJp",
      "include_colab_link": true
    },
    "kernelspec": {
      "name": "python3",
      "display_name": "Python 3"
    },
    "language_info": {
      "name": "python"
    }
  },
  "cells": [
    {
      "cell_type": "markdown",
      "metadata": {
        "id": "view-in-github",
        "colab_type": "text"
      },
      "source": [
        "<a href=\"https://colab.research.google.com/github/Ekawaka/PYTHON-DATA-ANALYSIS/blob/main/pandasweeklyproject_5.ipynb\" target=\"_parent\"><img src=\"https://colab.research.google.com/assets/colab-badge.svg\" alt=\"Open In Colab\"/></a>"
      ]
    },
    {
      "cell_type": "markdown",
      "source": [
        "Wine\n",
        "Introduction:\n",
        "This exercise is a adaptation from the UCI Wine dataset. The only pupose is to practice deleting data with pandas."
      ],
      "metadata": {
        "id": "o9aZbNY2NI5F"
      }
    },
    {
      "cell_type": "code",
      "source": [
        "# Step 1. Import the necessary libraries\n",
        "import pandas as pd\n",
        "import numpy as np"
      ],
      "metadata": {
        "id": "bZle0EHVNU2t"
      },
      "execution_count": 11,
      "outputs": []
    },
    {
      "cell_type": "code",
      "source": [
        "# Step 2. Import the dataset from this address.\n",
        "\n",
        "data = pd.read_csv('https://archive.ics.uci.edu/ml/machine-learning-databases/wine/wine.data')"
      ],
      "metadata": {
        "id": "Y2yqHBLbNg6D"
      },
      "execution_count": 2,
      "outputs": []
    },
    {
      "cell_type": "code",
      "source": [
        "# Step 3. Assign it to a variable called wine\n",
        "\n",
        "wine = pd.read_csv('https://archive.ics.uci.edu/ml/machine-learning-databases/wine/wine.data')"
      ],
      "metadata": {
        "id": "D1QpK09_N4wr"
      },
      "execution_count": 3,
      "outputs": []
    },
    {
      "cell_type": "code",
      "source": [
        "# Step 4. Delete the first, fourth, seventh, nineth, eleventh, thirteenth and fourteenth columns\n",
        "\n",
        "# Deleting specified columns\n",
        "wine.drop(wine.columns[[0, 3, 6, 8, 10, 12, 13]], axis=1, inplace=True)"
      ],
      "metadata": {
        "id": "yf8MwYwnOTxc"
      },
      "execution_count": 4,
      "outputs": []
    },
    {
      "cell_type": "code",
      "source": [
        "# Step 5. Assign the columns as below:\n",
        "#The attributes are (donated by Riccardo Leardi, riclea '@' anchem.unige.it):\n",
        "\n",
        "# alcohol\n",
        "# malic_acid\n",
        "# alcalinity_of_ash\n",
        "# magnesium\n",
        "# flavanoids\n",
        "# proanthocyanins\n",
        "# hue\n",
        "\n",
        "# Assigning new column names\n",
        "wine.columns = ['alcohol', 'malic_acid', 'alcalinity_of_ash', 'magnesium', 'flavanoids', 'proanthocyanins', 'hue']"
      ],
      "metadata": {
        "id": "JcNHUzYHOgUA"
      },
      "execution_count": 5,
      "outputs": []
    },
    {
      "cell_type": "code",
      "source": [
        "# Step 6. Set the values of the first 3 rows from alcohol as NaN\n",
        "\n",
        "# Setting the values of the first 3 rows of the 'alcohol' column to NaN\n",
        "wine.loc[:2, 'alcohol'] = float('nan')"
      ],
      "metadata": {
        "id": "RsVAZvZhPEJf"
      },
      "execution_count": 6,
      "outputs": []
    },
    {
      "cell_type": "code",
      "source": [
        "# Step 7. Now set the value of the rows 3 and 4 of magnesium as NaN\n",
        "\n",
        "# Setting the values of the rows 3 and 4 of the 'magnesium' column to NaN\n",
        "wine.loc[2:3, 'magnesium'] = float('nan')"
      ],
      "metadata": {
        "id": "pzRQrJ0RPYK1"
      },
      "execution_count": 7,
      "outputs": []
    },
    {
      "cell_type": "code",
      "source": [
        "# Step 8. Fill the value of NaN with the number 10 in alcohol and 100 in magnesium\n",
        "\n",
        "# Filling NaN values with specified values\n",
        "wine['alcohol'].fillna(10, inplace=True)\n",
        "wine['magnesium'].fillna(100, inplace=True)"
      ],
      "metadata": {
        "id": "qpVo2NJcPm3v"
      },
      "execution_count": 8,
      "outputs": []
    },
    {
      "cell_type": "code",
      "source": [
        "# Step 9. Count the number of missing values\n",
        "\n",
        "# Counting the number of missing values\n",
        "missing_values_count = wine.isnull().sum()\n",
        "\n",
        "print(\"Number of missing values:\")\n",
        "print(missing_values_count)"
      ],
      "metadata": {
        "id": "FfXZliLWP1Bw"
      },
      "execution_count": null,
      "outputs": []
    },
    {
      "cell_type": "code",
      "source": [
        "# Step 10. Create an array of 10 random numbers up until 10\n",
        "\n",
        "# Creating an array of 10 random numbers up to 10\n",
        "random_numbers = np.random.randint(10, size=10)\n",
        "\n",
        "print(\"Array of random numbers:\", random_numbers)"
      ],
      "metadata": {
        "id": "AkBXCxEoQHTs"
      },
      "execution_count": null,
      "outputs": []
    },
    {
      "cell_type": "code",
      "source": [
        "# Step 11. Use random numbers you generated as an index and assign NaN value to each of cell.\n",
        "\n",
        "# Using random numbers as index and assigning NaN value to each corresponding cell\n",
        "for index in random_numbers:\n",
        "    wine.iloc[index] = np.nan"
      ],
      "metadata": {
        "id": "-9jQQMJXQhpf"
      },
      "execution_count": 13,
      "outputs": []
    },
    {
      "cell_type": "code",
      "source": [
        "# Step 12. How many missing values do we have?\n",
        "\n",
        "# Counting the number of missing values\n",
        "missing_values_count = wine.isnull().sum().sum()\n",
        "\n",
        "print(\"Number of missing values:\", missing_values_count)"
      ],
      "metadata": {
        "id": "ipouI_uuQweQ"
      },
      "execution_count": null,
      "outputs": []
    },
    {
      "cell_type": "code",
      "source": [
        "# Step 13. Delete the rows that contain missing values\n",
        "\n",
        "# Deleting rows with missing values\n",
        "wine.dropna(inplace=True)"
      ],
      "metadata": {
        "id": "7w-f48okRBEi"
      },
      "execution_count": 15,
      "outputs": []
    },
    {
      "cell_type": "code",
      "source": [
        "# Step 14. Print only the non-null values in alcohol\n",
        "\n",
        "# Printing only the non-null values in the 'alcohol' column\n",
        "print(wine[wine['alcohol'].notnull()]['alcohol'])"
      ],
      "metadata": {
        "id": "VevqFYyyRM2k"
      },
      "execution_count": null,
      "outputs": []
    },
    {
      "cell_type": "code",
      "source": [
        "# Step 15. Reset the index, so it starts with 0 again\n",
        "\n",
        "# Resetting the index\n",
        "wine.reset_index(drop=True, inplace=True)"
      ],
      "metadata": {
        "id": "JEN_hKitRgkn"
      },
      "execution_count": 17,
      "outputs": []
    }
  ]
}