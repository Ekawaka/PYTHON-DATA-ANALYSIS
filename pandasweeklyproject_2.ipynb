{
  "nbformat": 4,
  "nbformat_minor": 0,
  "metadata": {
    "colab": {
      "provenance": [],
      "authorship_tag": "ABX9TyPo+uVqr88bJEBPCcEahdHn",
      "include_colab_link": true
    },
    "kernelspec": {
      "name": "python3",
      "display_name": "Python 3"
    },
    "language_info": {
      "name": "python"
    }
  },
  "cells": [
    {
      "cell_type": "markdown",
      "metadata": {
        "id": "view-in-github",
        "colab_type": "text"
      },
      "source": [
        "<a href=\"https://colab.research.google.com/github/Ekawaka/PYTHON-DATA-ANALYSIS/blob/main/pandasweeklyproject_2.ipynb\" target=\"_parent\"><img src=\"https://colab.research.google.com/assets/colab-badge.svg\" alt=\"Open In Colab\"/></a>"
      ]
    },
    {
      "cell_type": "markdown",
      "source": [
        "Getting Financial Data - Google Finance\n",
        "Introduction:\n",
        "This time you will get data from a website."
      ],
      "metadata": {
        "id": "_GZ9_2wv9nFu"
      }
    },
    {
      "cell_type": "code",
      "source": [
        "pip install yfinance"
      ],
      "metadata": {
        "colab": {
          "base_uri": "https://localhost:8080/"
        },
        "id": "rr6DupEjVIN1",
        "outputId": "b882db8a-3a6c-4abc-d713-bb6ed6019fb6"
      },
      "execution_count": 2,
      "outputs": [
        {
          "output_type": "stream",
          "name": "stdout",
          "text": [
            "Requirement already satisfied: yfinance in /usr/local/lib/python3.10/dist-packages (0.2.37)\n",
            "Requirement already satisfied: pandas>=1.3.0 in /usr/local/lib/python3.10/dist-packages (from yfinance) (2.0.3)\n",
            "Requirement already satisfied: numpy>=1.16.5 in /usr/local/lib/python3.10/dist-packages (from yfinance) (1.25.2)\n",
            "Requirement already satisfied: requests>=2.31 in /usr/local/lib/python3.10/dist-packages (from yfinance) (2.31.0)\n",
            "Requirement already satisfied: multitasking>=0.0.7 in /usr/local/lib/python3.10/dist-packages (from yfinance) (0.0.11)\n",
            "Requirement already satisfied: lxml>=4.9.1 in /usr/local/lib/python3.10/dist-packages (from yfinance) (4.9.4)\n",
            "Requirement already satisfied: appdirs>=1.4.4 in /usr/local/lib/python3.10/dist-packages (from yfinance) (1.4.4)\n",
            "Requirement already satisfied: pytz>=2022.5 in /usr/local/lib/python3.10/dist-packages (from yfinance) (2023.4)\n",
            "Requirement already satisfied: frozendict>=2.3.4 in /usr/local/lib/python3.10/dist-packages (from yfinance) (2.4.1)\n",
            "Requirement already satisfied: peewee>=3.16.2 in /usr/local/lib/python3.10/dist-packages (from yfinance) (3.17.1)\n",
            "Requirement already satisfied: beautifulsoup4>=4.11.1 in /usr/local/lib/python3.10/dist-packages (from yfinance) (4.12.3)\n",
            "Requirement already satisfied: html5lib>=1.1 in /usr/local/lib/python3.10/dist-packages (from yfinance) (1.1)\n",
            "Requirement already satisfied: soupsieve>1.2 in /usr/local/lib/python3.10/dist-packages (from beautifulsoup4>=4.11.1->yfinance) (2.5)\n",
            "Requirement already satisfied: six>=1.9 in /usr/local/lib/python3.10/dist-packages (from html5lib>=1.1->yfinance) (1.16.0)\n",
            "Requirement already satisfied: webencodings in /usr/local/lib/python3.10/dist-packages (from html5lib>=1.1->yfinance) (0.5.1)\n",
            "Requirement already satisfied: python-dateutil>=2.8.2 in /usr/local/lib/python3.10/dist-packages (from pandas>=1.3.0->yfinance) (2.8.2)\n",
            "Requirement already satisfied: tzdata>=2022.1 in /usr/local/lib/python3.10/dist-packages (from pandas>=1.3.0->yfinance) (2024.1)\n",
            "Requirement already satisfied: charset-normalizer<4,>=2 in /usr/local/lib/python3.10/dist-packages (from requests>=2.31->yfinance) (3.3.2)\n",
            "Requirement already satisfied: idna<4,>=2.5 in /usr/local/lib/python3.10/dist-packages (from requests>=2.31->yfinance) (3.6)\n",
            "Requirement already satisfied: urllib3<3,>=1.21.1 in /usr/local/lib/python3.10/dist-packages (from requests>=2.31->yfinance) (2.0.7)\n",
            "Requirement already satisfied: certifi>=2017.4.17 in /usr/local/lib/python3.10/dist-packages (from requests>=2.31->yfinance) (2024.2.2)\n"
          ]
        }
      ]
    },
    {
      "cell_type": "code",
      "source": [
        "# Step 1. Import the necessary libraries\n",
        "import yfinance as yf\n",
        "import pandas as pd\n"
      ],
      "metadata": {
        "id": "6dlLMv3-9pdV"
      },
      "execution_count": 6,
      "outputs": []
    },
    {
      "cell_type": "code",
      "source": [
        "# Step 2. Create your time range (start and end variables). The start date should be 01/01/2015 and the end should today (whatever your today is)\n",
        "\n",
        "# Define a start date and end date\n",
        "\n",
        "start_date = '2015-01-01'\n",
        "end_date = '2024-04-16'"
      ],
      "metadata": {
        "id": "6Axi2m3p9zV6"
      },
      "execution_count": 3,
      "outputs": []
    },
    {
      "cell_type": "code",
      "source": [
        "# Step 3. Select the Apple, Tesla, Twitter, IBM, LinkedIn stocks symbols and assign them to a variable called stocks\n",
        "\n",
        "# Define a ticker symbol and assign them to a variable called stocks\n",
        "stocks = ['AAPL', 'TSLA', 'TWTR', 'IBM', 'LNKD']"
      ],
      "metadata": {
        "id": "ftMw2ZDA93tP"
      },
      "execution_count": 4,
      "outputs": []
    },
    {
      "cell_type": "code",
      "source": [
        "# Step 4. Read the data from google, assign to df and print it\n",
        "\n",
        "# Downloading data from Google and assigning it to df\n",
        "df = yf.download(stocks, start='2015-01-01', end='2024-04-16')\n",
        "\n",
        "# Printing the DataFrame\n",
        "print(df)"
      ],
      "metadata": {
        "id": "NXqdpbNJ99ub",
        "colab": {
          "base_uri": "https://localhost:8080/"
        },
        "outputId": "6d92c733-e80c-4516-af50-6e07556c150f"
      },
      "execution_count": 7,
      "outputs": [
        {
          "output_type": "stream",
          "name": "stderr",
          "text": [
            "[*********************100%%**********************]  5 of 5 completed\n",
            "ERROR:yfinance:\n",
            "2 Failed downloads:\n",
            "ERROR:yfinance:['LNKD']: Exception('%ticker%: No price data found, symbol may be delisted (1d 2015-01-01 -> 2024-04-16)')\n",
            "ERROR:yfinance:['TWTR']: Exception('%ticker%: No timezone found, symbol may be delisted')\n"
          ]
        },
        {
          "output_type": "stream",
          "name": "stdout",
          "text": [
            "Price        Adj Close                                         Close  \\\n",
            "Ticker            AAPL         IBM LNKD        TSLA TWTR        AAPL   \n",
            "Date                                                                   \n",
            "2015-01-02   24.435272  103.354858  NaN   14.620667  NaN   27.332500   \n",
            "2015-01-05   23.746889  101.728531  NaN   14.006000  NaN   26.562500   \n",
            "2015-01-06   23.749130   99.534645  NaN   14.085333  NaN   26.565001   \n",
            "2015-01-07   24.082140   98.884148  NaN   14.063333  NaN   26.937500   \n",
            "2015-01-08   25.007427  101.033379  NaN   14.041333  NaN   27.972500   \n",
            "...                ...         ...  ...         ...  ...         ...   \n",
            "2024-04-09  169.669998  189.309998  NaN  176.880005  NaN  169.669998   \n",
            "2024-04-10  167.779999  186.039993  NaN  171.759995  NaN  167.779999   \n",
            "2024-04-11  175.039993  185.899994  NaN  174.600006  NaN  175.039993   \n",
            "2024-04-12  176.550003  182.270004  NaN  171.050003  NaN  176.550003   \n",
            "2024-04-15  172.690002  181.250000  NaN  161.479996  NaN  172.690002   \n",
            "\n",
            "Price                                         ...        Open              \\\n",
            "Ticker             IBM LNKD        TSLA TWTR  ...        AAPL         IBM   \n",
            "Date                                          ...                           \n",
            "2015-01-02  154.933075  NaN   14.620667  NaN  ...   27.847500  154.216064   \n",
            "2015-01-05  152.495224  NaN   14.006000  NaN  ...   27.072500  154.177826   \n",
            "2015-01-06  149.206497  NaN   14.085333  NaN  ...   26.635000  152.648178   \n",
            "2015-01-07  148.231354  NaN   14.063333  NaN  ...   26.799999  150.286804   \n",
            "2015-01-08  151.453156  NaN   14.041333  NaN  ...   27.307501  149.369019   \n",
            "...                ...  ...         ...  ...  ...         ...         ...   \n",
            "2024-04-09  189.309998  NaN  176.880005  NaN  ...  168.699997  190.539993   \n",
            "2024-04-10  186.039993  NaN  171.759995  NaN  ...  168.800003  187.419998   \n",
            "2024-04-11  185.899994  NaN  174.600006  NaN  ...  168.339996  186.039993   \n",
            "2024-04-12  182.270004  NaN  171.050003  NaN  ...  174.259995  184.000000   \n",
            "2024-04-15  181.250000  NaN  161.479996  NaN  ...  175.360001  185.570007   \n",
            "\n",
            "Price                                Volume                                \n",
            "Ticker     LNKD        TSLA TWTR       AAPL      IBM LNKD       TSLA TWTR  \n",
            "Date                                                                       \n",
            "2015-01-02  NaN   14.858000  NaN  212818400  5779673  NaN   71466000  NaN  \n",
            "2015-01-05  NaN   14.303333  NaN  257142000  5104898  NaN   80527500  NaN  \n",
            "2015-01-06  NaN   14.004000  NaN  263188400  6429448  NaN   93928500  NaN  \n",
            "2015-01-07  NaN   14.223333  NaN  160423600  4918083  NaN   44526000  NaN  \n",
            "2015-01-08  NaN   14.187333  NaN  237458000  4431693  NaN   51637500  NaN  \n",
            "...         ...         ...  ...        ...      ...  ...        ...  ...  \n",
            "2024-04-09  NaN  172.910004  NaN   42451200  2794200  NaN  103232700  NaN  \n",
            "2024-04-10  NaN  173.039993  NaN   49709300  3081700  NaN   84532400  NaN  \n",
            "2024-04-11  NaN  172.550003  NaN   91070300  2861700  NaN   94516000  NaN  \n",
            "2024-04-12  NaN  172.339996  NaN  101593300  3545100  NaN   64506600  NaN  \n",
            "2024-04-15  NaN  170.240005  NaN   73531800  3528100  NaN  100245300  NaN  \n",
            "\n",
            "[2336 rows x 30 columns]\n"
          ]
        }
      ]
    },
    {
      "cell_type": "code",
      "source": [
        "# Step 5. What is the type of structure of df ?\n",
        "\n",
        "# Checking the type of structure of df\n",
        "df_type = type(df)\n",
        "\n",
        "print(\"Type of structure of df:\", df_type)"
      ],
      "metadata": {
        "id": "y1C69fnR-CiE",
        "colab": {
          "base_uri": "https://localhost:8080/"
        },
        "outputId": "3ba08f5b-5f54-43e3-a12b-dd9af7a36578"
      },
      "execution_count": 8,
      "outputs": [
        {
          "output_type": "stream",
          "name": "stdout",
          "text": [
            "Type of structure of df: <class 'pandas.core.frame.DataFrame'>\n"
          ]
        }
      ]
    },
    {
      "cell_type": "code",
      "source": [
        "# Step 6. Print all the Items axis values\n",
        "#To learn more about the Panel structure go to documentation\n",
        "\n",
        " #Printing all the Items axis values\n",
        "items_axis_values = df.columns\n",
        "\n",
        "print(\"Items axis values:\")\n",
        "print(items_axis_values)"
      ],
      "metadata": {
        "id": "aHtEIRN_-H0m",
        "colab": {
          "base_uri": "https://localhost:8080/"
        },
        "outputId": "4bf5d2aa-3778-4e24-b589-d69c4200655f"
      },
      "execution_count": 9,
      "outputs": [
        {
          "output_type": "stream",
          "name": "stdout",
          "text": [
            "Items axis values:\n",
            "MultiIndex([('Adj Close', 'AAPL'),\n",
            "            ('Adj Close',  'IBM'),\n",
            "            ('Adj Close', 'LNKD'),\n",
            "            ('Adj Close', 'TSLA'),\n",
            "            ('Adj Close', 'TWTR'),\n",
            "            (    'Close', 'AAPL'),\n",
            "            (    'Close',  'IBM'),\n",
            "            (    'Close', 'LNKD'),\n",
            "            (    'Close', 'TSLA'),\n",
            "            (    'Close', 'TWTR'),\n",
            "            (     'High', 'AAPL'),\n",
            "            (     'High',  'IBM'),\n",
            "            (     'High', 'LNKD'),\n",
            "            (     'High', 'TSLA'),\n",
            "            (     'High', 'TWTR'),\n",
            "            (      'Low', 'AAPL'),\n",
            "            (      'Low',  'IBM'),\n",
            "            (      'Low', 'LNKD'),\n",
            "            (      'Low', 'TSLA'),\n",
            "            (      'Low', 'TWTR'),\n",
            "            (     'Open', 'AAPL'),\n",
            "            (     'Open',  'IBM'),\n",
            "            (     'Open', 'LNKD'),\n",
            "            (     'Open', 'TSLA'),\n",
            "            (     'Open', 'TWTR'),\n",
            "            (   'Volume', 'AAPL'),\n",
            "            (   'Volume',  'IBM'),\n",
            "            (   'Volume', 'LNKD'),\n",
            "            (   'Volume', 'TSLA'),\n",
            "            (   'Volume', 'TWTR')],\n",
            "           names=['Price', 'Ticker'])\n"
          ]
        }
      ]
    },
    {
      "cell_type": "code",
      "source": [
        "# Step 7. Good, now we know the data avaiable. Create a dataFrame called vol, with the Volume values.\n",
        "\n",
        "# Creating a DataFrame called vol with Volume values\n",
        "vol = df['Volume'].copy()\n",
        "\n",
        "print(vol)"
      ],
      "metadata": {
        "id": "oyW6m4GZ-SWY",
        "colab": {
          "base_uri": "https://localhost:8080/"
        },
        "outputId": "cca3252b-4b4e-4121-fbc7-33dbf9234072"
      },
      "execution_count": 10,
      "outputs": [
        {
          "output_type": "stream",
          "name": "stdout",
          "text": [
            "Ticker           AAPL      IBM  LNKD       TSLA  TWTR\n",
            "Date                                                 \n",
            "2015-01-02  212818400  5779673   NaN   71466000   NaN\n",
            "2015-01-05  257142000  5104898   NaN   80527500   NaN\n",
            "2015-01-06  263188400  6429448   NaN   93928500   NaN\n",
            "2015-01-07  160423600  4918083   NaN   44526000   NaN\n",
            "2015-01-08  237458000  4431693   NaN   51637500   NaN\n",
            "...               ...      ...   ...        ...   ...\n",
            "2024-04-09   42451200  2794200   NaN  103232700   NaN\n",
            "2024-04-10   49709300  3081700   NaN   84532400   NaN\n",
            "2024-04-11   91070300  2861700   NaN   94516000   NaN\n",
            "2024-04-12  101593300  3545100   NaN   64506600   NaN\n",
            "2024-04-15   73531800  3528100   NaN  100245300   NaN\n",
            "\n",
            "[2336 rows x 5 columns]\n"
          ]
        }
      ]
    },
    {
      "cell_type": "code",
      "source": [
        "# Step 8. Aggregate the data of Volume to weekly\n",
        "#Hint: Be careful to not sum data from the same week of 2015 and other years.\n",
        "\n",
        "# Aggregating the Volume data to weekly frequency\n",
        "weekly_vol = df['Volume'].resample('W').sum()\n",
        "\n",
        "print(weekly_vol)"
      ],
      "metadata": {
        "id": "GO-D4uIF-Tzk",
        "colab": {
          "base_uri": "https://localhost:8080/"
        },
        "outputId": "a81bf39a-1c67-4511-cc4e-a3184086a364"
      },
      "execution_count": 11,
      "outputs": [
        {
          "output_type": "stream",
          "name": "stdout",
          "text": [
            "Ticker            AAPL       IBM  LNKD       TSLA  TWTR\n",
            "Date                                                   \n",
            "2015-01-04   212818400   5779673   0.0   71466000   0.0\n",
            "2015-01-11  1133010000  25578884   0.0  340644000   0.0\n",
            "2015-01-18  1216906400  24329751   0.0  461988000   0.0\n",
            "2015-01-25   794948000  32682062   0.0  243175500   0.0\n",
            "2015-02-01  1863370800  34442689   0.0  235803000   0.0\n",
            "...                ...       ...   ...        ...   ...\n",
            "2024-03-24   361530400  23967800   0.0  417965200   0.0\n",
            "2024-03-31   237622700  15383300   0.0  346873600   0.0\n",
            "2024-04-07   239021300  12881500   0.0  545575500   0.0\n",
            "2024-04-14   322249600  14961000   0.0  451211000   0.0\n",
            "2024-04-21    73531800   3528100   0.0  100245300   0.0\n",
            "\n",
            "[486 rows x 5 columns]\n"
          ]
        }
      ]
    },
    {
      "cell_type": "code",
      "source": [
        "# Step 9. Find all the volume traded in the year of 2015\n",
        "\n",
        "volume_2015 = df.loc['2015', 'Volume'].sum()\n",
        "\n",
        "print(\"Volume traded in the year 2015:\", volume_2015)"
      ],
      "metadata": {
        "id": "BEPjNYp7-b5a",
        "colab": {
          "base_uri": "https://localhost:8080/"
        },
        "outputId": "34d311fc-84ee-4d78-ad87-8362bf7f9e69"
      },
      "execution_count": 12,
      "outputs": [
        {
          "output_type": "stream",
          "name": "stdout",
          "text": [
            "Volume traded in the year 2015: Ticker\n",
            "AAPL    5.226420e+10\n",
            "IBM     1.156439e+09\n",
            "LNKD    0.000000e+00\n",
            "TSLA    1.632327e+10\n",
            "TWTR    0.000000e+00\n",
            "dtype: float64\n"
          ]
        }
      ]
    }
  ]
}