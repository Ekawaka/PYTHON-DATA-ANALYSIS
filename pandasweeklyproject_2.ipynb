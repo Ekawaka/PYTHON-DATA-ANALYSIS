{
  "nbformat": 4,
  "nbformat_minor": 0,
  "metadata": {
    "colab": {
      "provenance": [],
      "authorship_tag": "ABX9TyNXUjQUie7z4po/lRmeh0TK",
      "include_colab_link": true
    },
    "kernelspec": {
      "name": "python3",
      "display_name": "Python 3"
    },
    "language_info": {
      "name": "python"
    }
  },
  "cells": [
    {
      "cell_type": "markdown",
      "metadata": {
        "id": "view-in-github",
        "colab_type": "text"
      },
      "source": [
        "<a href=\"https://colab.research.google.com/github/Ekawaka/PYTHON-DATA-ANALYSIS/blob/main/pandasweeklyproject_2.ipynb\" target=\"_parent\"><img src=\"https://colab.research.google.com/assets/colab-badge.svg\" alt=\"Open In Colab\"/></a>"
      ]
    },
    {
      "cell_type": "markdown",
      "source": [
        "Getting Financial Data - Google Finance\n",
        "Introduction:\n",
        "This time you will get data from a website."
      ],
      "metadata": {
        "id": "_GZ9_2wv9nFu"
      }
    },
    {
      "cell_type": "code",
      "source": [
        "# Step 1. Import the necessary libraries"
      ],
      "metadata": {
        "id": "6dlLMv3-9pdV"
      },
      "execution_count": null,
      "outputs": []
    },
    {
      "cell_type": "code",
      "source": [
        "# Step 2. Create your time range (start and end variables). The start date should be 01/01/2015 and the end should today (whatever your today is)"
      ],
      "metadata": {
        "id": "6Axi2m3p9zV6"
      },
      "execution_count": null,
      "outputs": []
    },
    {
      "cell_type": "code",
      "source": [
        "# Step 3. Select the Apple, Tesla, Twitter, IBM, LinkedIn stocks symbols and assign them to a variable called stocks"
      ],
      "metadata": {
        "id": "ftMw2ZDA93tP"
      },
      "execution_count": null,
      "outputs": []
    },
    {
      "cell_type": "code",
      "source": [
        "# Step 4. Read the data from google, assign to df and print it"
      ],
      "metadata": {
        "id": "NXqdpbNJ99ub"
      },
      "execution_count": null,
      "outputs": []
    },
    {
      "cell_type": "code",
      "source": [
        "# Step 5. What is the type of structure of df ?"
      ],
      "metadata": {
        "id": "y1C69fnR-CiE"
      },
      "execution_count": null,
      "outputs": []
    },
    {
      "cell_type": "code",
      "source": [
        "# Step 6. Print all the Items axis values\n",
        "#To learn more about the Panel structure go to documentation"
      ],
      "metadata": {
        "id": "aHtEIRN_-H0m"
      },
      "execution_count": null,
      "outputs": []
    },
    {
      "cell_type": "code",
      "source": [
        "# Step 7. Good, now we know the data avaiable. Create a dataFrame called vol, with the Volume values."
      ],
      "metadata": {
        "id": "oyW6m4GZ-SWY"
      },
      "execution_count": null,
      "outputs": []
    },
    {
      "cell_type": "code",
      "source": [
        "# Step 8. Aggregate the data of Volume to weekly\n",
        "#Hint: Be careful to not sum data from the same week of 2015 and other years."
      ],
      "metadata": {
        "id": "GO-D4uIF-Tzk"
      },
      "execution_count": null,
      "outputs": []
    },
    {
      "cell_type": "code",
      "source": [
        "# Step 9. Find all the volume traded in the year of 2015"
      ],
      "metadata": {
        "id": "BEPjNYp7-b5a"
      },
      "execution_count": null,
      "outputs": []
    }
  ]
}