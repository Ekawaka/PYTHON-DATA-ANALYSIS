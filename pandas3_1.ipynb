{
  "nbformat": 4,
  "nbformat_minor": 0,
  "metadata": {
    "colab": {
      "provenance": [],
      "authorship_tag": "ABX9TyMny9uATeC8Kxj9hvE4LQba",
      "include_colab_link": true
    },
    "kernelspec": {
      "name": "python3",
      "display_name": "Python 3"
    },
    "language_info": {
      "name": "python"
    }
  },
  "cells": [
    {
      "cell_type": "markdown",
      "metadata": {
        "id": "view-in-github",
        "colab_type": "text"
      },
      "source": [
        "<a href=\"https://colab.research.google.com/github/Ekawaka/PYTHON-DATA-ANALYSIS/blob/main/pandas3_1.ipynb\" target=\"_parent\"><img src=\"https://colab.research.google.com/assets/colab-badge.svg\" alt=\"Open In Colab\"/></a>"
      ]
    },
    {
      "cell_type": "markdown",
      "source": [
        "United States - Crime Rates - 1960 - 2014\n",
        "Introduction:\n",
        "This time you will create a data\n",
        "\n",
        "Special thanks to: https://github.com/justmarkham for sharing the dataset and materials."
      ],
      "metadata": {
        "id": "wxdibkzFoSXq"
      }
    },
    {
      "cell_type": "code",
      "source": [
        "# Step 1. Import the necessary libraries\n",
        "import pandas as pd\n",
        "import numpy as np"
      ],
      "metadata": {
        "id": "grA-LEsLoUyX"
      },
      "execution_count": 10,
      "outputs": []
    },
    {
      "cell_type": "code",
      "source": [
        "# Step 2. Import the dataset from this address.\n",
        "\n",
        "df = pd.read_csv('https://raw.githubusercontent.com/guipsamora/pandas_exercises/master/04_Apply/US_Crime_Rates/US_Crime_Rates_1960_2014.csv')\n",
        "print(df.head())"
      ],
      "metadata": {
        "colab": {
          "base_uri": "https://localhost:8080/"
        },
        "id": "s27opMw2qqEr",
        "outputId": "bb611ad1-536f-47b9-c2d5-2b39f48b47f9"
      },
      "execution_count": 16,
      "outputs": [
        {
          "output_type": "stream",
          "name": "stdout",
          "text": [
            "   Year  Population    Total  Violent  Property  Murder  Forcible_Rape  \\\n",
            "0  1960   179323175  3384200   288460   3095700    9110          17190   \n",
            "1  1961   182992000  3488000   289390   3198600    8740          17220   \n",
            "2  1962   185771000  3752200   301510   3450700    8530          17550   \n",
            "3  1963   188483000  4109500   316970   3792500    8640          17650   \n",
            "4  1964   191141000  4564600   364220   4200400    9360          21420   \n",
            "\n",
            "   Robbery  Aggravated_assault  Burglary  Larceny_Theft  Vehicle_Theft  \n",
            "0   107840              154320    912100        1855400         328200  \n",
            "1   106670              156760    949600        1913000         336000  \n",
            "2   110860              164570    994300        2089600         366800  \n",
            "3   116470              174210   1086400        2297800         408300  \n",
            "4   130390              203050   1213200        2514400         472800  \n"
          ]
        }
      ]
    },
    {
      "cell_type": "code",
      "source": [
        "# Step 3. Assign it to a variable called crime.\n",
        "\n",
        "crime = pd.read_csv('https://raw.githubusercontent.com/guipsamora/pandas_exercises/master/04_Apply/US_Crime_Rates/US_Crime_Rates_1960_2014.csv')\n",
        "print(crime.head())\n",
        "\n"
      ],
      "metadata": {
        "colab": {
          "base_uri": "https://localhost:8080/"
        },
        "id": "O4pCxKOdrOR_",
        "outputId": "ca949454-987e-4fda-e6dd-bd3519e6e0a2"
      },
      "execution_count": 14,
      "outputs": [
        {
          "output_type": "stream",
          "name": "stdout",
          "text": [
            "   Year  Population    Total  Violent  Property  Murder  Forcible_Rape  \\\n",
            "0  1960   179323175  3384200   288460   3095700    9110          17190   \n",
            "1  1961   182992000  3488000   289390   3198600    8740          17220   \n",
            "2  1962   185771000  3752200   301510   3450700    8530          17550   \n",
            "3  1963   188483000  4109500   316970   3792500    8640          17650   \n",
            "4  1964   191141000  4564600   364220   4200400    9360          21420   \n",
            "\n",
            "   Robbery  Aggravated_assault  Burglary  Larceny_Theft  Vehicle_Theft  \n",
            "0   107840              154320    912100        1855400         328200  \n",
            "1   106670              156760    949600        1913000         336000  \n",
            "2   110860              164570    994300        2089600         366800  \n",
            "3   116470              174210   1086400        2297800         408300  \n",
            "4   130390              203050   1213200        2514400         472800  \n"
          ]
        }
      ]
    },
    {
      "cell_type": "code",
      "source": [
        "# Step 4. What is the type of the columns?\n",
        "\n",
        "print(crime.dtypes)"
      ],
      "metadata": {
        "id": "FClMHW6HruYu"
      },
      "execution_count": null,
      "outputs": []
    },
    {
      "cell_type": "code",
      "source": [
        "# Have you noticed that the type of Year is int64. But pandas has a different type to work with Time Series. Let's see it now.\n",
        "# Step 5. Convert the type of the column Year to datetime64\n",
        "\n",
        "crime['Year'] = pd.to_datetime(crime['Year'], format='%Y')\n"
      ],
      "metadata": {
        "id": "-KGHfajXsA-h"
      },
      "execution_count": 5,
      "outputs": []
    },
    {
      "cell_type": "code",
      "source": [
        "# Step 6. Set the Year column as the index of the dataframe\n",
        "\n",
        "crime.set_index('Year', inplace=True)"
      ],
      "metadata": {
        "id": "TbT2hqdIshHq"
      },
      "execution_count": 6,
      "outputs": []
    },
    {
      "cell_type": "code",
      "source": [
        "# Step 7. Delete the Total column\n",
        "\n",
        "crime.drop('Total', axis=1, inplace=True)"
      ],
      "metadata": {
        "id": "M9dk4TEZsy8k"
      },
      "execution_count": 7,
      "outputs": []
    },
    {
      "cell_type": "code",
      "source": [
        "# Step 8. Group the year by decades and sum the values\n",
        "# Pay attention to the Population column number, summing this column is a mistake\n",
        "\n",
        "# Resample the data by decades and sum the values\n",
        "crime_decades = crime.resample('10Y').sum()\n",
        "\n",
        "# Drop the 'Population' column from the summed dataframe\n",
        "crime_decades.drop('Population', axis=1, inplace=True)\n",
        "\n",
        "print(crime_decades)"
      ],
      "metadata": {
        "id": "LO7cXwPVtLFA"
      },
      "execution_count": null,
      "outputs": []
    },
    {
      "cell_type": "code",
      "source": [
        "# Step 9. What is the most dangerous decade to live in the US?\n",
        "\n",
        "most_dangerous_decade = crime_decades.sum(axis=1).idxmax().year\n",
        "print(\"The most dangerous decade in the US was:\", most_dangerous_decade)"
      ],
      "metadata": {
        "colab": {
          "base_uri": "https://localhost:8080/"
        },
        "id": "ejO9w3mmtwPi",
        "outputId": "f13f13f6-3305-494c-b49a-ffc35feabfc2"
      },
      "execution_count": 17,
      "outputs": [
        {
          "output_type": "stream",
          "name": "stdout",
          "text": [
            "The most dangerous decade in the US was: 2000\n"
          ]
        }
      ]
    }
  ]
}