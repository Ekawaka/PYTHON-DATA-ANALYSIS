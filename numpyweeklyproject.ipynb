{
  "nbformat": 4,
  "nbformat_minor": 0,
  "metadata": {
    "colab": {
      "provenance": [],
      "authorship_tag": "ABX9TyOKuX+sTnVmht1HvTT7FImi",
      "include_colab_link": true
    },
    "kernelspec": {
      "name": "python3",
      "display_name": "Python 3"
    },
    "language_info": {
      "name": "python"
    }
  },
  "cells": [
    {
      "cell_type": "markdown",
      "metadata": {
        "id": "view-in-github",
        "colab_type": "text"
      },
      "source": [
        "<a href=\"https://colab.research.google.com/github/Ekawaka/PYTHON-DATA-ANALYSIS/blob/main/numpyweeklyproject.ipynb\" target=\"_parent\"><img src=\"https://colab.research.google.com/assets/colab-badge.svg\" alt=\"Open In Colab\"/></a>"
      ]
    },
    {
      "cell_type": "code",
      "source": [
        "import numpy as np"
      ],
      "metadata": {
        "id": "mAT7kkyK9tQZ"
      },
      "execution_count": 2,
      "outputs": []
    },
    {
      "cell_type": "code",
      "execution_count": null,
      "metadata": {
        "id": "DfeUQiEE8_Ub"
      },
      "outputs": [],
      "source": [
        "# 61. Find the nearest value from a given value in an array\n",
        "\n",
        "def find_nearest(array, value):\n",
        "    array = np.asarray(array)\n",
        "    idx = (np.abs(array - value)).argmin()\n",
        "    return array[idx]\n",
        "\n",
        "array = np.array([1, 2, 3, 4, 5])\n",
        "value = 4.5\n",
        "\n",
        "nearest_value = find_nearest(array, value)\n",
        "print(\"Nearest value to\", value, \"in the array is:\", nearest_value)"
      ]
    },
    {
      "cell_type": "code",
      "source": [
        "# 62. Considering two arrays with shape (1,3) and (3,1), how to compute their sum using an iterator?\n",
        "\n",
        "# Define the two arrays\n",
        "array1 = np.array([[1, 2, 3]])  # Shape: (1,3)\n",
        "array2 = np.array([[4], [5], [6]])  # Shape: (3,1)\n",
        "\n",
        "# Initialize the sum\n",
        "sum_result = 0\n",
        "\n",
        "# Iterate over the arrays and compute the sum\n",
        "for x, y in zip(array1.flat, array2.flat):\n",
        "    sum_result += x + y\n",
        "\n",
        "print(\"Sum of the two arrays:\", sum_result)"
      ],
      "metadata": {
        "id": "TnQydjzM9oBg"
      },
      "execution_count": null,
      "outputs": []
    },
    {
      "cell_type": "code",
      "source": [
        "# 63. Create an array class that has a name attribute\n",
        "\n",
        "class NamedArray(np.ndarray):\n",
        "    def __new__(cls, input_array, name=None):\n",
        "        obj = np.asarray(input_array).view(cls)\n",
        "        obj.name = name\n",
        "        return obj\n",
        "\n",
        "data = [1, 2, 3, 4, 5]\n",
        "name = \"Example Array\"\n",
        "\n",
        "# Create a NamedArray instance\n",
        "arr = NamedArray(data, name=name)\n",
        "\n",
        "# Access the array and its name attribute\n",
        "print(\"Array:\", arr)\n",
        "print(\"Name:\", arr.name)"
      ],
      "metadata": {
        "colab": {
          "base_uri": "https://localhost:8080/"
        },
        "id": "mrys-UJD-UYd",
        "outputId": "bb5b9b58-bed2-4a04-db09-c96e4567f0c6"
      },
      "execution_count": 5,
      "outputs": [
        {
          "output_type": "stream",
          "name": "stdout",
          "text": [
            "Array: [1 2 3 4 5]\n",
            "Name: Example Array\n"
          ]
        }
      ]
    },
    {
      "cell_type": "code",
      "source": [
        "# 64. Consider a given vector, how to add 1 to each element indexed by a second vector (be careful with repeated indices)?\n",
        "\n",
        "def add_one_to_indices(vector, indices):\n",
        "    # Get unique indices to avoid adding 1 multiple times to the same index\n",
        "    unique_indices = np.unique(indices)\n",
        "\n",
        "    # Create a new array with the same shape as the given vector\n",
        "    result = np.copy(vector)\n",
        "\n",
        "    # Increment elements at the specified indices by 1\n",
        "    result[unique_indices] += 1\n",
        "\n",
        "    return result\n",
        "\n",
        "# Example usage:\n",
        "vector = np.array([1, 2, 3, 4, 5])\n",
        "indices = np.array([0, 1, 2, 2, 3, 3, 4])\n",
        "\n",
        "result = add_one_to_indices(vector, indices)\n",
        "print(\"Result:\", result)"
      ],
      "metadata": {
        "id": "88SlD-Kx_Erm"
      },
      "execution_count": null,
      "outputs": []
    },
    {
      "cell_type": "code",
      "source": [
        "# 65. How to accumulate elements of a vector (X) to an array (F) based on an index list (I)?\n",
        "\n",
        "def accumulate_elements(X, I, F):\n",
        "    # Ensure that F has the same shape as the accumulated array\n",
        "    F = np.zeros_like(F)\n",
        "\n",
        "    # Accumulate elements of X into F based on index list I\n",
        "    np.add.at(F, I, X)\n",
        "\n",
        "    return F\n",
        "\n",
        "# Example usage:\n",
        "X = np.array([1, 2, 3, 4, 5])\n",
        "I = np.array([0, 1, 1, 2, 3])\n",
        "F = np.zeros(4)\n",
        "\n",
        "result = accumulate_elements(X, I, F)\n",
        "print(\"Result:\", result)"
      ],
      "metadata": {
        "id": "fG31Hn5WAHEE"
      },
      "execution_count": null,
      "outputs": []
    },
    {
      "cell_type": "code",
      "source": [
        "# 66. Considering a (w,h,3) image of (dtype=ubyte), compute the number of unique colors\n",
        "\n",
        "def compute_unique_colors(image):\n",
        "    # Reshape the image to a 2D array where each row represents a pixel\n",
        "    flattened_image = image.reshape(-1, 3)\n",
        "\n",
        "    # Compute the unique colors\n",
        "    unique_colors = np.unique(flattened_image, axis=0)\n",
        "\n",
        "    # Return the number of unique colors\n",
        "    return len(unique_colors)\n",
        "\n",
        "# Example usage:\n",
        "# Create a sample image (replace this with your image data)\n",
        "w, h = 10, 10\n",
        "image = np.random.randint(0, 256, size=(w, h, 3), dtype=np.ubyte)\n",
        "\n",
        "# Compute the number of unique colors\n",
        "num_unique_colors = compute_unique_colors(image)\n",
        "print(\"Number of unique colors:\", num_unique_colors)"
      ],
      "metadata": {
        "id": "stOtYHAyApM0"
      },
      "execution_count": null,
      "outputs": []
    },
    {
      "cell_type": "code",
      "source": [
        "# 67. Considering a four dimensions array, how to get sum over the last two axis at once?\n",
        "\n",
        "# Create a sample four-dimensional array (replace this with your array data)\n",
        "arr = np.random.randint(0, 10, size=(3, 4, 2, 2))\n",
        "\n",
        "# Get the sum over the last two axes at once\n",
        "sum_last_two_axes = np.sum(arr, axis=(-2, -1))\n",
        "\n",
        "print(\"Original array:\")\n",
        "print(arr)\n",
        "print(\"\\nSum over the last two axes:\")\n",
        "print(sum_last_two_axes)"
      ],
      "metadata": {
        "id": "3OdRLoMdBEeT"
      },
      "execution_count": null,
      "outputs": []
    },
    {
      "cell_type": "code",
      "source": [
        "# 68. Considering a one-dimensional vector D, how to compute means of subsets of D using a vector S of same size describing subset indices?\n",
        "\n",
        "def compute_subset_means(D, S):\n",
        "    # Get unique subset indices\n",
        "    unique_indices = np.unique(S)\n",
        "\n",
        "    # Initialize an array to store the means of subsets\n",
        "    subset_means = np.zeros(len(unique_indices))\n",
        "\n",
        "    # Compute the mean for each subset\n",
        "    for i, idx in enumerate(unique_indices):\n",
        "        subset = D[S == idx]  # Select elements of D corresponding to the current subset index\n",
        "        subset_means[i] = np.mean(subset)\n",
        "\n",
        "    return subset_means\n",
        "\n",
        "# Example usage:\n",
        "D = np.array([1, 2, 3, 4, 5, 6, 7, 8, 9, 10])\n",
        "S = np.array([0, 1, 0, 1, 2, 2, 3, 3, 3, 3])\n",
        "\n",
        "subset_means = compute_subset_means(D, S)\n",
        "print(\"Subset means:\", subset_means)"
      ],
      "metadata": {
        "colab": {
          "base_uri": "https://localhost:8080/"
        },
        "id": "TtwOhZTyBmLe",
        "outputId": "c43097c1-e272-4a1e-dbad-cb4bf40df9cb"
      },
      "execution_count": 10,
      "outputs": [
        {
          "output_type": "stream",
          "name": "stdout",
          "text": [
            "Subset means: [2.  3.  5.5 8.5]\n"
          ]
        }
      ]
    },
    {
      "cell_type": "code",
      "source": [
        "# 69. How to get the diagonal of a dot product?\n",
        "\n",
        "def diagonal_of_dot_product(A, B):\n",
        "    # Compute the dot product of matrices A and B\n",
        "    dot_product = np.einsum('ij,jk->ik', A, B)\n",
        "\n",
        "    # Get the diagonal elements\n",
        "    diagonal = np.diag(dot_product)\n",
        "\n",
        "    return diagonal\n",
        "\n",
        "# Example usage:\n",
        "A = np.array([[1, 2, 3],\n",
        "              [4, 5, 6]])\n",
        "B = np.array([[2, 0],\n",
        "              [1, 3],\n",
        "              [4, 2]])\n",
        "\n",
        "diagonal = diagonal_of_dot_product(A, B)\n",
        "print(\"Diagonal of the dot product:\", diagonal)"
      ],
      "metadata": {
        "colab": {
          "base_uri": "https://localhost:8080/"
        },
        "id": "9JjAiJdJCQnS",
        "outputId": "ff65af61-8892-40e6-e238-3a2aaf4e9f3e"
      },
      "execution_count": 11,
      "outputs": [
        {
          "output_type": "stream",
          "name": "stdout",
          "text": [
            "Diagonal of the dot product: [16 27]\n"
          ]
        }
      ]
    },
    {
      "cell_type": "code",
      "source": [
        "# 70. Consider the vector [1, 2, 3, 4, 5], how to build a new vector with 3 consecutive zeros interleaved between each value?\n",
        "\n",
        "# Original vector\n",
        "original_vector = np.array([1, 2, 3, 4, 5])\n",
        "\n",
        "# Number of consecutive zeros\n",
        "num_zeros = 3\n",
        "\n",
        "# Build new vector with interleaved zeros\n",
        "new_vector = np.zeros(len(original_vector) + (len(original_vector) - 1) * num_zeros, dtype=original_vector.dtype)\n",
        "new_vector[::num_zeros+1] = original_vector\n",
        "\n",
        "print(\"New vector with interleaved zeros:\")\n",
        "print(new_vector)"
      ],
      "metadata": {
        "colab": {
          "base_uri": "https://localhost:8080/"
        },
        "id": "ikwTEek3C0lP",
        "outputId": "2d3758c9-5275-4620-b527-3fcf8d65ae99"
      },
      "execution_count": 12,
      "outputs": [
        {
          "output_type": "stream",
          "name": "stdout",
          "text": [
            "New vector with interleaved zeros:\n",
            "[1 0 0 0 2 0 0 0 3 0 0 0 4 0 0 0 5]\n"
          ]
        }
      ]
    },
    {
      "cell_type": "code",
      "source": [
        "# 71. Consider an array of dimension (5,5,3), how to mulitply it by an array with dimensions (5,5)?\n",
        "\n",
        "# Create arrays\n",
        "array_3d = np.random.rand(5, 5, 3)  # Dimension (5,5,3)\n",
        "array_2d = np.random.rand(5, 5)      # Dimension (5,5)\n",
        "\n",
        "# Multiply array_3d by array_2d\n",
        "result = array_3d * array_2d[:, :, np.newaxis]\n",
        "\n",
        "print(\"Resulting array shape:\", result.shape)"
      ],
      "metadata": {
        "colab": {
          "base_uri": "https://localhost:8080/"
        },
        "id": "6MQUTdcqDeeb",
        "outputId": "99bdaec6-d17f-4ccc-cb7a-c6ecb6431d08"
      },
      "execution_count": 13,
      "outputs": [
        {
          "output_type": "stream",
          "name": "stdout",
          "text": [
            "Resulting array shape: (5, 5, 3)\n"
          ]
        }
      ]
    },
    {
      "cell_type": "code",
      "source": [
        "# 72. How to swap two rows of an array?\n",
        "# Create a sample array\n",
        "array = np.array([[1, 2, 3],\n",
        "                  [4, 5, 6],\n",
        "                  [7, 8, 9]])\n",
        "\n",
        "# Swap rows 0 and 1\n",
        "array[[0, 1]] = array[[1, 0]]\n",
        "\n",
        "print(\"Array after swapping rows 0 and 1:\")\n",
        "print(array)"
      ],
      "metadata": {
        "id": "dYpphvM4Dz5t"
      },
      "execution_count": null,
      "outputs": []
    },
    {
      "cell_type": "code",
      "source": [
        "# 73. Consider a set of 10 triplets describing 10 triangles (with shared vertices), find the set of unique line segments composing all the triangles\n",
        "\n",
        "# Define a function to extract line segments from a triangle\n",
        "def extract_segments(triangle):\n",
        "    segments = set()\n",
        "    for i in range(3):\n",
        "        for j in range(i+1, 3):\n",
        "            segments.add(tuple(sorted((triangle[i], triangle[j]))))\n",
        "    return segments\n",
        "\n",
        "# Define the set of triplets describing 10 triangles\n",
        "triplets = [(1, 2, 3), (2, 3, 4), (3, 4, 5), (4, 5, 6), (5, 6, 7),\n",
        "            (6, 7, 8), (7, 8, 9), (8, 9, 10), (9, 10, 11), (10, 11, 12)]\n",
        "\n",
        "# Initialize an empty set to store unique line segments\n",
        "unique_segments = set()\n",
        "\n",
        "# Iterate over each triplet and extract line segments\n",
        "for triplet in triplets:\n",
        "    segments = extract_segments(triplet)\n",
        "    unique_segments.update(segments)\n",
        "\n",
        "print(\"Set of unique line segments:\")\n",
        "print(unique_segments)"
      ],
      "metadata": {
        "id": "nznYIB1pEDiv"
      },
      "execution_count": null,
      "outputs": []
    },
    {
      "cell_type": "code",
      "source": [
        "# 74. Given a sorted array C that corresponds to a bincount, how to produce an array A such that np.bincount(A) == C?\n",
        "\n",
        "def reconstruct_array(C):\n",
        "    max_value = len(C) - 1  # Maximum value in array A\n",
        "    A = np.repeat(np.arange(max_value + 1), C)\n",
        "    return A\n",
        "\n",
        "# Example usage:\n",
        "C = np.array([0, 2, 1, 1, 0, 1, 0, 0, 2])  # Example sorted bincount array\n",
        "\n",
        "A = reconstruct_array(C)\n",
        "print(\"Array A:\", A)\n",
        "print(\"Bincount of A:\", np.bincount(A))\n",
        "print(\"Is np.bincount(A) == C?\", np.array_equal(np.bincount(A), C))"
      ],
      "metadata": {
        "id": "-MztxaxXEk14"
      },
      "execution_count": null,
      "outputs": []
    },
    {
      "cell_type": "code",
      "source": [
        "# 75. How to compute averages using a sliding window over an array?\n",
        "\n",
        "def sliding_window_average(arr, window_size):\n",
        "    # Define the window\n",
        "    window = np.ones(window_size) / window_size\n",
        "\n",
        "    # Compute the sliding window average using convolution\n",
        "    averages = np.convolve(arr, window, mode='valid')\n",
        "\n",
        "    return averages\n",
        "\n",
        "# Example usage:\n",
        "arr = np.array([1, 2, 3, 4, 5, 6, 7, 8, 9, 10])\n",
        "window_size = 3\n",
        "\n",
        "averages = sliding_window_average(arr, window_size)\n",
        "print(\"Sliding window averages:\", averages)"
      ],
      "metadata": {
        "id": "BN0618deE6gA"
      },
      "execution_count": null,
      "outputs": []
    },
    {
      "cell_type": "code",
      "source": [
        "# 76. Consider a one-dimensional array Z, build a two-dimensional array whose first row is (Z[0],Z[1],Z[2]) and each subsequent row is shifted by 1 (last row should be (Z[-3],Z[-2],Z[-1])\n",
        "\n",
        "def build_shifted_array(Z):\n",
        "    # Create indices for slicing the array\n",
        "    indices = np.arange(3)[:, np.newaxis] + np.arange(len(Z) - 2)\n",
        "\n",
        "    # Use array slicing to build the shifted array\n",
        "    shifted_array = Z[indices]\n",
        "\n",
        "    return shifted_array\n",
        "\n",
        "# Example usage:\n",
        "Z = np.array([1, 2, 3, 4, 5, 6, 7])\n",
        "\n",
        "result = build_shifted_array(Z)\n",
        "print(\"Result:\")\n",
        "print(result)"
      ],
      "metadata": {
        "id": "BMZowcKhFSVR"
      },
      "execution_count": null,
      "outputs": []
    },
    {
      "cell_type": "code",
      "source": [
        "# 77. How to negate a boolean, or to change the sign of a float inplace?\n",
        "\n",
        "# Original boolean value\n",
        "boolean_value = True\n",
        "\n",
        "# Negate the boolean in-place\n",
        "boolean_value = ~boolean_value\n",
        "\n",
        "print(\"Negated boolean value:\", boolean_value)\n",
        "\n",
        "# Original float value\n",
        "float_value = 3.14\n",
        "\n",
        "# Change the sign of the float in-place\n",
        "float_value *= -1\n",
        "\n",
        "print(\"Float value with changed sign:\", float_value)"
      ],
      "metadata": {
        "id": "0y8v5dVSF4Bd"
      },
      "execution_count": null,
      "outputs": []
    },
    {
      "cell_type": "code",
      "source": [
        "# 78. Consider 2 sets of points P0,P1 describing lines (2d) and a point p, how to compute distance from p to each line i (P0[i],P1[i])?\n",
        "\n",
        "def distance_to_lines(P0, P1, p):\n",
        "    # Convert points to numpy arrays\n",
        "    P0 = np.array(P0)\n",
        "    P1 = np.array(P1)\n",
        "    p = np.array(p)\n",
        "\n",
        "    # Compute direction vectors of the line segments\n",
        "    v = P1 - P0\n",
        "\n",
        "    # Compute vectors from P0 to p\n",
        "    w = p - P0\n",
        "\n",
        "    # Compute projection of w onto v\n",
        "    c = np.dot(w, v) / np.dot(v, v)\n",
        "\n",
        "    # Handle cases where c is outside [0, 1]\n",
        "    c = np.clip(c, 0, 1)\n",
        "\n",
        "    # Compute projected points\n",
        "    projected_points = P0 + c[:, np.newaxis] * v\n",
        "\n",
        "    # Compute distances between p and projected points\n",
        "    distances = np.linalg.norm(projected_points - p, axis=1)\n",
        "\n",
        "    return distances\n",
        "\n",
        "# Example usage:\n",
        "P0 = [(1, 1), (2, 3), (4, 5)]  # Endpoint 1 of line segments\n",
        "P1 = [(4, 5), (6, 7), (8, 9)]  # Endpoint 2 of line segments\n",
        "p = (3, 4)                     # Point p\n",
        "\n",
        "distances = distance_to_lines(P0, P1, p)\n",
        "print(\"Distances to each line segment:\", distances)"
      ],
      "metadata": {
        "id": "D9-dVo1PGUdF"
      },
      "execution_count": null,
      "outputs": []
    },
    {
      "cell_type": "code",
      "source": [
        "# 79. Consider 2 sets of points P0,P1 describing lines (2d) and a set of points P, how to compute distance from each point j (P[j]) to each line i (P0[i],P1[i])?\n",
        "\n",
        "def distance_to_lines(P0, P1, P):\n",
        "    # Convert points to numpy arrays\n",
        "    P0 = np.array(P0)\n",
        "    P1 = np.array(P1)\n",
        "    P = np.array(P)\n",
        "\n",
        "    # Compute direction vectors of the line segments\n",
        "    v = P1 - P0\n",
        "\n",
        "    # Compute vectors from P0 to each point in P\n",
        "    w = P[:, np.newaxis, :] - P0\n",
        "\n",
        "    # Compute projection of w onto v\n",
        "    c = np.einsum('ijk,ik->ij', w, v) / np.linalg.norm(v, axis=1)**2\n",
        "\n",
        "    # Handle cases where c is outside [0, 1]\n",
        "    c = np.clip(c, 0, 1)\n",
        "\n",
        "    # Compute projected points\n",
        "    projected_points = P0 + c[:, :, np.newaxis] * v\n",
        "\n",
        "    # Compute distances between each point and its projected points\n",
        "    distances = np.linalg.norm(projected_points - P[:, np.newaxis, :], axis=2)\n",
        "\n",
        "    return distances\n",
        "\n",
        "# Example usage:\n",
        "P0 = [(1, 1), (2, 3), (4, 5)]  # Endpoint 1 of line segments\n",
        "P1 = [(4, 5), (6, 7), (8, 9)]  # Endpoint 2 of line segments\n",
        "P = [(3, 4), (5, 6)]            # Set of points P\n",
        "\n",
        "distances = distance_to_lines(P0, P1, P)\n",
        "print(\"Distances from each point to each line segment:\")\n",
        "print(distances)"
      ],
      "metadata": {
        "id": "Qeq_MiiYHINp"
      },
      "execution_count": null,
      "outputs": []
    },
    {
      "cell_type": "code",
      "source": [
        "# 80. Consider an arbitrary array, write a function that extract a subpart with a fixed shape and centered on a given element (pad with a fill value when necessary)\n",
        "\n",
        "def extract_subpart(arr, center, shape, fill_value=0):\n",
        "    \"\"\"\n",
        "    Extracts a subpart from the input array centered on a given element\n",
        "    with the specified shape, padding with a fill value when necessary.\n",
        "\n",
        "    Parameters:\n",
        "        arr (ndarray): Input array.\n",
        "        center (tuple or list): Coordinates of the center element.\n",
        "        shape (tuple or list): Shape of the subpart.\n",
        "        fill_value (scalar, optional): Value to use for padding. Default is 0.\n",
        "\n",
        "    Returns:\n",
        "        ndarray: Extracted subpart with the specified shape.\n",
        "    \"\"\"\n",
        "    # Convert center and shape to tuples if not already\n",
        "    center = tuple(center)\n",
        "    shape = tuple(shape)\n",
        "\n",
        "    # Calculate start and end indices for each axis\n",
        "    start_indices = tuple(c - s // 2 for c, s in zip(center, shape))\n",
        "    end_indices = tuple(start + s for start, s in zip(start_indices, shape))\n",
        "\n",
        "    # Pad array if necessary\n",
        "    padded_arr = np.pad(arr, [(max(-start, 0), max(end - arr_size, 0)) for start, end, arr_size in zip(start_indices, end_indices, arr.shape)], constant_values=fill_value)\n",
        "\n",
        "    # Calculate new start and end indices after padding\n",
        "    new_start_indices = tuple(max(start, 0) for start in start_indices)\n",
        "    new_end_indices = tuple(start + s for start, s in zip(new_start_indices, shape))\n",
        "\n",
        "    # Extract subpart from padded array\n",
        "    subpart = padded_arr[new_start_indices[0]:new_end_indices[0], new_start_indices[1]:new_end_indices[1]]\n",
        "\n",
        "    return subpart\n",
        "\n",
        "# Example usage:\n",
        "arr = np.random.randint(0, 10, (10, 10))  # Example input array\n",
        "center = (5, 5)                           # Center element coordinates\n",
        "shape = (3, 3)                            # Shape of the subpart\n",
        "\n",
        "subpart = extract_subpart(arr, center, shape, fill_value=-1)\n",
        "print(\"Extracted subpart:\")\n",
        "print(subpart)"
      ],
      "metadata": {
        "colab": {
          "base_uri": "https://localhost:8080/"
        },
        "id": "yGdH2B-iHc3y",
        "outputId": "6448522f-2a29-4f1e-bfd1-48d2b0459ea3"
      },
      "execution_count": 25,
      "outputs": [
        {
          "output_type": "stream",
          "name": "stdout",
          "text": [
            "Extracted subpart:\n",
            "[[5 7 3]\n",
            " [8 1 7]\n",
            " [2 5 1]]\n"
          ]
        }
      ]
    },
    {
      "cell_type": "code",
      "source": [
        "# 81. Consider an array Z = [1,2,3,4,5,6,7,8,9,10,11,12,13,14], how to generate an array R = [[1,2,3,4], [2,3,4,5], [3,4,5,6], ..., [11,12,13,14]]?\n",
        "\n",
        "Z = np.array([1, 2, 3, 4, 5, 6, 7, 8, 9, 10, 11, 12, 13, 14])\n",
        "\n",
        "# Define the window size\n",
        "window_size = 4\n",
        "\n",
        "# Calculate the number of rows in R\n",
        "num_rows = len(Z) - window_size + 1\n",
        "\n",
        "# Generate the array R using array slicing\n",
        "R = np.array([Z[i:i+window_size] for i in range(num_rows)])\n",
        "\n",
        "print(\"Array R:\")\n",
        "print(R)"
      ],
      "metadata": {
        "id": "PQojAYd-Hs75"
      },
      "execution_count": null,
      "outputs": []
    },
    {
      "cell_type": "code",
      "source": [
        "# 82. Compute a matrix rank\n",
        "# Define the matrix\n",
        "matrix = np.array([[1, 2, 3],\n",
        "                   [4, 5, 6],\n",
        "                   [7, 8, 9]])\n",
        "\n",
        "# Compute the rank of the matrix\n",
        "rank = np.linalg.matrix_rank(matrix)\n",
        "\n",
        "print(\"Rank of the matrix:\", rank)"
      ],
      "metadata": {
        "id": "84KSSJqCUNdv"
      },
      "execution_count": null,
      "outputs": []
    },
    {
      "cell_type": "code",
      "source": [
        "# 83. How to find the most frequent value in an array?\n",
        "\n",
        "# Example array\n",
        "array = np.array([1, 2, 3, 4, 2, 2, 3, 1, 4, 4, 4])\n",
        "\n",
        "# Find the most frequent value\n",
        "most_frequent_value = np.argmax(np.bincount(array))\n",
        "\n",
        "print(\"Most frequent value:\", most_frequent_value)"
      ],
      "metadata": {
        "id": "_GPmyFGjUafp"
      },
      "execution_count": null,
      "outputs": []
    },
    {
      "cell_type": "code",
      "source": [
        "# 84. Extract all the contiguous 3x3 blocks from a random 10x10 matrix\n",
        "# Create a random 10x10 matrix\n",
        "matrix = np.random.randint(0, 10, (10, 10))\n",
        "\n",
        "# Extract all contiguous 3x3 blocks\n",
        "blocks = [matrix[i:i+3, j:j+3] for i in range(8) for j in range(8)]\n",
        "\n",
        "# Print the extracted blocks\n",
        "for idx, block in enumerate(blocks, 1):\n",
        "    print(f\"Block {idx}:\")\n",
        "    print(block)\n",
        "    print()"
      ],
      "metadata": {
        "id": "SnrlN57DU6Hi"
      },
      "execution_count": null,
      "outputs": []
    },
    {
      "cell_type": "code",
      "source": [
        "# 85. Create a 2D array subclass such that Z[i,j] == Z[j,i]\n",
        "class SymmetricArray(np.ndarray):\n",
        "    def __setitem__(self, key, value):\n",
        "        i, j = key\n",
        "        super().__setitem__((i, j), value)\n",
        "        super().__setitem__((j, i), value)\n",
        "\n",
        "# Create a 3x3 SymmetricArray subclass\n",
        "Z = np.zeros((3, 3))\n",
        "Z = Z.view(SymmetricArray)\n",
        "\n",
        "# Assign values to the array\n",
        "Z[0, 1] = 1\n",
        "Z[1, 2] = 2\n",
        "\n",
        "print(\"Symmetric Array Z:\")\n",
        "print(Z)\n"
      ],
      "metadata": {
        "id": "6Bulmy44VQUv"
      },
      "execution_count": null,
      "outputs": []
    },
    {
      "cell_type": "code",
      "source": [
        "# 86. Consider a set of p matrices wich shape (n,n) and a set of p vectors with shape (n,1). How to compute the sum of of the p matrix products at once? (result has shape (n,1))\n",
        "\n",
        "def sum_of_matrix_products(matrices, vectors):\n",
        "    # Assuming matrices is a list of p matrices with shape (n, n)\n",
        "    # Assuming vectors is a list of p vectors with shape (n, 1)\n",
        "    # Convert lists to numpy arrays\n",
        "    matrices = np.array(matrices)\n",
        "    vectors = np.array(vectors)\n",
        "\n",
        "    # Ensure matrices and vectors have compatible shapes\n",
        "    assert matrices.shape[0] == vectors.shape[0], \"Number of matrices and vectors should be the same\"\n",
        "    p = matrices.shape[0]\n",
        "\n",
        "    # Compute the sum of matrix products\n",
        "    result = np.sum(np.matmul(matrices, vectors), axis=0)\n",
        "\n",
        "    return result\n",
        "\n",
        "# Example usage\n",
        "n = 3  # dimension of matrices and vectors\n",
        "p = 5  # number of matrices and vectors\n",
        "\n",
        "# Generating random matrices and vectors for demonstration\n",
        "matrices = [np.random.rand(n, n) for _ in range(p)]\n",
        "vectors = [np.random.rand(n, 1) for _ in range(p)]\n",
        "\n",
        "result = sum_of_matrix_products(matrices, vectors)\n",
        "print(result)"
      ],
      "metadata": {
        "colab": {
          "base_uri": "https://localhost:8080/"
        },
        "id": "gCaQSxLwVl87",
        "outputId": "095a1da1-d642-42b6-e928-57bbe89467b3"
      },
      "execution_count": 3,
      "outputs": [
        {
          "output_type": "stream",
          "name": "stdout",
          "text": [
            "[[3.90050972]\n",
            " [3.95528078]\n",
            " [4.47128308]]\n"
          ]
        }
      ]
    },
    {
      "cell_type": "code",
      "source": [
        "# 87. Consider a 16x16 array, how to get the block-sum (block size is 4x4)?\n",
        "\n",
        "# Create a random 16x16 array for demonstration\n",
        "array_16x16 = np.random.randint(1, 10, size=(16, 16))\n",
        "\n",
        "# Reshape the array to make it a 4D array with shape (4, 4, 4, 4)\n",
        "# This will split the 16x16 array into 4x4 blocks\n",
        "blocks = array_16x16.reshape(4, 4, 4, 4)\n",
        "\n",
        "# Sum along the last two axes to get the block-sum\n",
        "block_sum = np.sum(blocks, axis=(2, 3))\n",
        "\n",
        "print(\"Original 16x16 array:\")\n",
        "print(array_16x16)\n",
        "print(\"\\nBlock-sum (block size 4x4):\")\n",
        "print(block_sum)"
      ],
      "metadata": {
        "id": "CRmdn1VjJ2f0"
      },
      "execution_count": null,
      "outputs": []
    },
    {
      "cell_type": "code",
      "source": [
        "# 88. How to implement the Game of Life using numpy arrays?\n",
        "\n",
        "import numpy as np\n",
        "import matplotlib.pyplot as plt\n",
        "import matplotlib.animation as animation\n",
        "\n",
        "def update(frameNum, img, grid, N):\n",
        "    newGrid = grid.copy()\n",
        "    for i in range(N):\n",
        "        for j in range(N):\n",
        "            # Compute the sum of the eight neighbors\n",
        "            total = int((grid[i, (j-1)%N] + grid[i, (j+1)%N] +\n",
        "                         grid[(i-1)%N, j] + grid[(i+1)%N, j] +\n",
        "                         grid[(i-1)%N, (j-1)%N] + grid[(i-1)%N, (j+1)%N] +\n",
        "                         grid[(i+1)%N, (j-1)%N] + grid[(i+1)%N, (j+1)%N])/255)\n",
        "\n",
        "            # Apply Conway's rules\n",
        "            if grid[i, j] == ON:\n",
        "                if (total < 2) or (total > 3):\n",
        "                    newGrid[i, j] = OFF\n",
        "            else:\n",
        "                if total == 3:\n",
        "                    newGrid[i, j] = ON\n",
        "\n",
        "    img.set_data(newGrid)\n",
        "    grid[:] = newGrid[:]\n",
        "    return img\n",
        "\n",
        "# Define constants\n",
        "ON = 255\n",
        "OFF = 0\n",
        "N = 100\n",
        "updateInterval = 50\n",
        "\n",
        "# Create a random grid\n",
        "grid = np.random.choice([ON, OFF], N*N, p=[0.2, 0.8]).reshape(N, N)\n",
        "\n",
        "# Set up the animation\n",
        "fig, ax = plt.subplots()\n",
        "img = ax.imshow(grid, interpolation='nearest')\n",
        "ani = animation.FuncAnimation(fig, update, fargs=(img, grid, N),\n",
        "                              frames=10,\n",
        "                              interval=updateInterval,\n",
        "                              save_count=50)\n",
        "\n",
        "plt.show()"
      ],
      "metadata": {
        "id": "ei0_kcwAJ4zr"
      },
      "execution_count": null,
      "outputs": []
    },
    {
      "cell_type": "code",
      "source": [
        "# 89. How to get the n largest values of an array\n",
        "\n",
        "def n_largest(arr, n):\n",
        "    indices = np.argpartition(arr, -n)[-n:]\n",
        "    return indices[np.argsort(arr[indices])][::-1]\n",
        "\n",
        "# Example array\n",
        "arr = np.array([1, 6, 3, 8, 5, 2, 7, 4])\n",
        "n = 3  # Number of largest values to find\n",
        "\n",
        "# Get the indices of the n largest values\n",
        "largest_indices = n_largest(arr, n)\n",
        "\n",
        "# Get the n largest values themselves\n",
        "largest_values = arr[largest_indices]\n",
        "\n",
        "print(\"Indices of the {} largest values: {}\".format(n, largest_indices))\n",
        "print(\"The {} largest values: {}\".format(n, largest_values))"
      ],
      "metadata": {
        "id": "KQLrkp8dKAfo"
      },
      "execution_count": null,
      "outputs": []
    },
    {
      "cell_type": "code",
      "source": [
        "# 90. Given an arbitrary number of vectors, build the cartesian product (every combinations of every item)\n",
        "\n",
        "from itertools import product\n",
        "\n",
        "def cartesian_product(*vectors):\n",
        "    return list(product(*vectors))\n",
        "\n",
        "# Example vectors\n",
        "vector1 = [1, 2, 3]\n",
        "vector2 = ['a', 'b']\n",
        "vector3 = [True, False]\n",
        "\n",
        "# Compute the Cartesian product\n",
        "result = cartesian_product(vector1, vector2, vector3)\n",
        "\n",
        "# Print the result\n",
        "print(result)"
      ],
      "metadata": {
        "id": "935fR3-oKJbj"
      },
      "execution_count": null,
      "outputs": []
    },
    {
      "cell_type": "code",
      "source": [
        "# 91. How to create a record array from a regular array?\n",
        "\n",
        "# Regular array\n",
        "regular_array = np.array([(1, 'John', 25), (2, 'Alice', 30), (3, 'Bob', 35)],\n",
        "                         dtype=[('id', int), ('name', 'U10'), ('age', int)])\n",
        "\n",
        "# Convert to record array\n",
        "record_array = np.rec.array(regular_array)\n",
        "\n",
        "# Print the record array\n",
        "print(record_array)"
      ],
      "metadata": {
        "id": "BSvebok0KO1d"
      },
      "execution_count": null,
      "outputs": []
    },
    {
      "cell_type": "code",
      "source": [
        "# 92. Consider a large vector Z, compute Z to the power of 3 using 3 different methods\n",
        "\n",
        "# Generate a large vector Z\n",
        "Z = np.random.rand(1000000)\n",
        "\n",
        "# Method 1: Using NumPy's power function\n",
        "result1 = np.power(Z, 3)\n",
        "\n",
        "# Method 2: Using the ** operator\n",
        "result2 = Z ** 3\n",
        "\n",
        "# Method 3: Using a loop\n",
        "result3 = np.empty_like(Z)\n",
        "for i in range(len(Z)):\n",
        "    result3[i] = Z[i] ** 3"
      ],
      "metadata": {
        "id": "R-v-4GZGKUCA"
      },
      "execution_count": 8,
      "outputs": []
    },
    {
      "cell_type": "code",
      "source": [
        "# 93. Consider two arrays A and B of shape (8,3) and (2,2). How to find rows of A that contain elements of each row of B regardless of the order of the elements in B?\n",
        "\n",
        "# Create arrays A and B\n",
        "A = np.array([[1, 2, 3],\n",
        "              [4, 5, 6],\n",
        "              [7, 8, 9],\n",
        "              [2, 3, 1],\n",
        "              [5, 6, 4],\n",
        "              [8, 9, 7],\n",
        "              [3, 1, 2],\n",
        "              [6, 4, 5]])\n",
        "\n",
        "B = np.array([[1, 2],\n",
        "              [4, 5]])\n",
        "\n",
        "# Convert arrays to sets of tuples for easier comparison\n",
        "A_set = set(map(tuple, A))\n",
        "B_set = set(map(tuple, B))\n",
        "\n",
        "# Find rows of A that contain elements of each row of B\n",
        "result_rows = [idx for idx, row in enumerate(A_set) if B_set.intersection(set(row)) == B_set]\n",
        "\n",
        "# Get the corresponding rows of A\n",
        "result = A[result_rows]\n",
        "\n",
        "print(\"Rows of A that contain elements of each row of B regardless of order:\")\n",
        "print(result)"
      ],
      "metadata": {
        "id": "d998y61-Kaf3"
      },
      "execution_count": null,
      "outputs": []
    },
    {
      "cell_type": "code",
      "source": [
        "# 94. Considering a 10x3 matrix, extract rows with unequal values (e.g. [2,2,3])\n",
        "\n",
        "# Create a 10x3 matrix\n",
        "matrix = np.random.randint(0, 3, size=(10, 3))\n",
        "\n",
        "# Extract rows with unequal values\n",
        "unequal_rows = matrix[np.apply_along_axis(lambda x: len(np.unique(x)) > 1, axis=1, arr=matrix)]\n",
        "\n",
        "print(\"Matrix:\")\n",
        "print(matrix)\n",
        "print(\"\\nRows with unequal values:\")\n",
        "print(unequal_rows)"
      ],
      "metadata": {
        "colab": {
          "base_uri": "https://localhost:8080/"
        },
        "id": "NeR8mA2tKimH",
        "outputId": "6710e1dd-142d-4402-fbb3-66b26dd3adcd"
      },
      "execution_count": 10,
      "outputs": [
        {
          "output_type": "stream",
          "name": "stdout",
          "text": [
            "Matrix:\n",
            "[[1 1 0]\n",
            " [1 0 0]\n",
            " [2 2 0]\n",
            " [0 2 1]\n",
            " [2 0 1]\n",
            " [1 2 0]\n",
            " [0 0 1]\n",
            " [2 0 2]\n",
            " [2 0 1]\n",
            " [2 0 2]]\n",
            "\n",
            "Rows with unequal values:\n",
            "[[1 1 0]\n",
            " [1 0 0]\n",
            " [2 2 0]\n",
            " [0 2 1]\n",
            " [2 0 1]\n",
            " [1 2 0]\n",
            " [0 0 1]\n",
            " [2 0 2]\n",
            " [2 0 1]\n",
            " [2 0 2]]\n"
          ]
        }
      ]
    },
    {
      "cell_type": "code",
      "source": [
        "# 95. Convert a vector of ints into a matrix binary representation\n",
        "\n",
        "# Example vector of integers\n",
        "vector = np.array([1, 2, 3, 4])\n",
        "\n",
        "# Convert integers to their binary representation\n",
        "binary_matrix = np.unpackbits(vector[:, np.newaxis], axis=1)\n",
        "\n",
        "print(\"Binary matrix representation:\")\n",
        "print(binary_matrix)"
      ],
      "metadata": {
        "id": "hEQ2U_FgKnJi"
      },
      "execution_count": null,
      "outputs": []
    },
    {
      "cell_type": "code",
      "source": [
        "# 96. Given a two dimensional array, how to extract unique rows?\n",
        "\n",
        "# Example 2D array\n",
        "array_2d = np.array([[1, 2, 3],\n",
        "                     [4, 5, 6],\n",
        "                     [1, 2, 3],\n",
        "                     [7, 8, 9],\n",
        "                     [4, 5, 6]])\n",
        "\n",
        "# Extract unique rows\n",
        "unique_rows = np.unique(array_2d, axis=0)\n",
        "\n",
        "print(\"Original 2D array:\")\n",
        "print(array_2d)\n",
        "print(\"\\nUnique rows:\")\n",
        "print(unique_rows)"
      ],
      "metadata": {
        "id": "-pKupqqZKx9h"
      },
      "execution_count": null,
      "outputs": []
    },
    {
      "cell_type": "code",
      "source": [
        "# 97. Considering 2 vectors A & B, write the einsum equivalent of inner, outer, sum, and mul function\n",
        "\n",
        "#Inner product (dot product):\n",
        "#Einsum equivalent: np.einsum('i,i->', A, B)\n",
        "#This computes the dot product of vectors A and B.\n",
        "\n",
        "#Outer product:\n",
        "#Einsum equivalent: np.einsum('i,j->ij', A, B)\n",
        "#This computes the outer product of vectors A and B, resulting in a matrix.\n",
        "\n",
        "#Sum:\n",
        "#Einsum equivalent: np.einsum('i->', A)\n",
        "#This computes the sum of all elements in vector A.\n",
        "\n",
        "#Element-wise multiplication:\n",
        "#Einsum equivalent: np.einsum('i,i->i', A, B)\n",
        "#This computes the element-wise multiplication of vectors A and B, resulting in a new vector with the same length as the input vectors."
      ],
      "metadata": {
        "id": "HURIZ63wK3s_"
      },
      "execution_count": null,
      "outputs": []
    },
    {
      "cell_type": "code",
      "source": [
        "# 98. Considering a path described by two vectors (X,Y), how to sample it using equidistant samples\n",
        "\n",
        "def equidistant_samples(X, Y, num_samples):\n",
        "    # Calculate the total length of the path\n",
        "    distances = np.sqrt(np.diff(X)**2 + np.diff(Y)**2)\n",
        "    total_length = np.sum(distances)\n",
        "\n",
        "    # Calculate the distance between samples\n",
        "    sample_distance = total_length / (num_samples - 1)\n",
        "\n",
        "    # Interpolate points along the path at regular intervals\n",
        "    samples = []\n",
        "    cumulative_distance = 0\n",
        "    for i in range(len(X) - 1):\n",
        "      segment_length = np.sqrt((X[i+1] - X[i])**2 + (Y[i+1] - Y[i])**2)\n",
        "      if cumulative_distance + segment_length >= sample_distance:\n",
        "            remaining_distance = sample_distance - cumulative_distance\n",
        "            ratio = remaining_distance / segment_length\n",
        "            sample_x = X[i] + ratio * (X[i+1] - X[i])\n",
        "            sample_y = Y[i] + ratio * (Y[i+1] - Y[i])\n",
        "            samples.append((sample_x, sample_y))\n",
        "            X = X[i+1:]\n",
        "            Y = Y[i+1:]\n",
        "            cumulative_distance = segment_length - remaining_distance\n",
        "        else:\n",
        "            cumulative_distance += segment_length\n",
        "\n",
        "    return np.array(samples)\n",
        "\n",
        "# Example usage:\n",
        "# Define two vectors X and Y describing the path\n",
        "X = np.array([0, 1, 3, 6, 10])\n",
        "Y = np.array([0, 2, 5, 3, 1])\n",
        "\n",
        "# Number of equidistant samples\n",
        "num_samples = 10\n",
        "\n",
        "# Get equidistant samples along the path\n",
        "samples = equidistant_samples(X, Y, num_samples)\n",
        "print(\"Equidistant samples along the path:\")\n",
        "print(samples)"
      ],
      "metadata": {
        "id": "3QIJvrn7K6DA"
      },
      "execution_count": null,
      "outputs": []
    },
    {
      "cell_type": "code",
      "source": [
        "# 99. Given an integer n and a 2D array X, select from X the rows which can be interpreted as draws from a multinomial distribution with n degrees, i.e., the rows which only contain integers and which sum to n.\n",
        "\n",
        "def select_multinomial_rows(X, n):\n",
        "    # Check if each element in X is an integer\n",
        "    is_integer = np.equal(X, np.round(X))\n",
        "\n",
        "    # Check if the sum of each row in X is equal to n\n",
        "    row_sum_equals_n = np.sum(X, axis=1) == n\n",
        "\n",
        "    # Select rows that contain only integers and sum to n\n",
        "    selected_rows = X[np.all(is_integer, axis=1) & row_sum_equals_n]\n",
        "\n",
        "    return selected_rows\n",
        "\n",
        "# Example usage:\n",
        "# Define the integer n and the 2D array X\n",
        "n = 10\n",
        "X = np.array([[1, 2, 3, 4],\n",
        "              [0.5, 0.5, 9, 0],\n",
        "              [3, 5, 2, 0],\n",
        "              [10, 0, 0, 0]])\n",
        "\n",
        "# Select rows from X that can be interpreted as draws from a multinomial distribution with n degrees\n",
        "selected_rows = select_multinomial_rows(X, n)\n",
        "print(\"Rows from X that meet the criteria:\")\n",
        "print(selected_rows)"
      ],
      "metadata": {
        "id": "x9OnqRBcLI5l"
      },
      "execution_count": null,
      "outputs": []
    },
    {
      "cell_type": "code",
      "source": [
        "# 100. Compute bootstrapped 95% confidence intervals for the mean of a 1D array X (i.e., resample the elements of an array with replacement N times, compute the mean of each sample, and then compute percentiles over the means).\n",
        "\n",
        "def bootstrap_confidence_interval(X, num_samples, alpha=0.05):\n",
        "    means = []\n",
        "    for _ in range(num_samples):\n",
        "        resampled_X = np.random.choice(X, size=len(X), replace=True)\n",
        "        resampled_mean = np.mean(resampled_X)\n",
        "        means.append(resampled_mean)\n",
        "\n",
        "    # Compute percentiles\n",
        "    lower_percentile = 100 * alpha / 2\n",
        "    upper_percentile = 100 * (1 - alpha / 2)\n",
        "    lower_bound = np.percentile(means, lower_percentile)\n",
        "    upper_bound = np.percentile(means, upper_percentile)\n",
        "\n",
        "    return lower_bound, upper_bound\n",
        "\n",
        "# Example usage\n",
        "X = np.array([1, 2, 3, 4, 5, 6, 7, 8, 9, 10])  # Example 1D array\n",
        "num_samples = 1000  # Number of bootstrap samples\n",
        "alpha = 0.05  # Significance level for a 95% confidence interval\n",
        "\n",
        "lower_bound, upper_bound = bootstrap_confidence_interval(X, num_samples, alpha)\n",
        "print(\"Bootstrapped 95% Confidence Interval for the mean:\", (lower_bound, upper_bound))\n"
      ],
      "metadata": {
        "colab": {
          "base_uri": "https://localhost:8080/"
        },
        "id": "7pltrf7lLRLk",
        "outputId": "971a565b-1bd0-4b30-c8f3-a4a9940709d5"
      },
      "execution_count": 16,
      "outputs": [
        {
          "output_type": "stream",
          "name": "stdout",
          "text": [
            "Bootstrapped 95% Confidence Interval for the mean: (3.7, 7.3)\n"
          ]
        }
      ]
    }
  ]
}