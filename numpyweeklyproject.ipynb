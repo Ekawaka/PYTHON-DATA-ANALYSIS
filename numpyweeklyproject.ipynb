{
  "nbformat": 4,
  "nbformat_minor": 0,
  "metadata": {
    "colab": {
      "provenance": [],
      "authorship_tag": "ABX9TyPJnonN0/CBR/eTmyOo4gIx",
      "include_colab_link": true
    },
    "kernelspec": {
      "name": "python3",
      "display_name": "Python 3"
    },
    "language_info": {
      "name": "python"
    }
  },
  "cells": [
    {
      "cell_type": "markdown",
      "metadata": {
        "id": "view-in-github",
        "colab_type": "text"
      },
      "source": [
        "<a href=\"https://colab.research.google.com/github/Ekawaka/PYTHON-DATA-ANALYSIS/blob/main/numpyweeklyproject.ipynb\" target=\"_parent\"><img src=\"https://colab.research.google.com/assets/colab-badge.svg\" alt=\"Open In Colab\"/></a>"
      ]
    },
    {
      "cell_type": "code",
      "source": [
        "import numpy as np"
      ],
      "metadata": {
        "id": "mAT7kkyK9tQZ"
      },
      "execution_count": 3,
      "outputs": []
    },
    {
      "cell_type": "code",
      "execution_count": null,
      "metadata": {
        "id": "DfeUQiEE8_Ub"
      },
      "outputs": [],
      "source": [
        "# 61. Find the nearest value from a given value in an array\n",
        "\n",
        "def find_nearest(array, value):\n",
        "    array = np.asarray(array)\n",
        "    idx = (np.abs(array - value)).argmin()\n",
        "    return array[idx]\n",
        "\n",
        "array = np.array([1, 2, 3, 4, 5])\n",
        "value = 4.5\n",
        "\n",
        "nearest_value = find_nearest(array, value)\n",
        "print(\"Nearest value to\", value, \"in the array is:\", nearest_value)"
      ]
    },
    {
      "cell_type": "code",
      "source": [
        "# 62. Considering two arrays with shape (1,3) and (3,1), how to compute their sum using an iterator?\n",
        "\n",
        "# Define the two arrays\n",
        "array1 = np.array([[1, 2, 3]])  # Shape: (1,3)\n",
        "array2 = np.array([[4], [5], [6]])  # Shape: (3,1)\n",
        "\n",
        "# Initialize the sum\n",
        "sum_result = 0\n",
        "\n",
        "# Iterate over the arrays and compute the sum\n",
        "for x, y in zip(array1.flat, array2.flat):\n",
        "    sum_result += x + y\n",
        "\n",
        "print(\"Sum of the two arrays:\", sum_result)"
      ],
      "metadata": {
        "id": "TnQydjzM9oBg"
      },
      "execution_count": null,
      "outputs": []
    },
    {
      "cell_type": "code",
      "source": [
        "# 63. Create an array class that has a name attribute\n",
        "\n",
        "class NamedArray(np.ndarray):\n",
        "    def __new__(cls, input_array, name=None):\n",
        "        obj = np.asarray(input_array).view(cls)\n",
        "        obj.name = name\n",
        "        return obj\n",
        "\n",
        "data = [1, 2, 3, 4, 5]\n",
        "name = \"Example Array\"\n",
        "\n",
        "# Create a NamedArray instance\n",
        "arr = NamedArray(data, name=name)\n",
        "\n",
        "# Access the array and its name attribute\n",
        "print(\"Array:\", arr)\n",
        "print(\"Name:\", arr.name)"
      ],
      "metadata": {
        "colab": {
          "base_uri": "https://localhost:8080/"
        },
        "id": "mrys-UJD-UYd",
        "outputId": "bb5b9b58-bed2-4a04-db09-c96e4567f0c6"
      },
      "execution_count": 5,
      "outputs": [
        {
          "output_type": "stream",
          "name": "stdout",
          "text": [
            "Array: [1 2 3 4 5]\n",
            "Name: Example Array\n"
          ]
        }
      ]
    },
    {
      "cell_type": "code",
      "source": [
        "# 64. Consider a given vector, how to add 1 to each element indexed by a second vector (be careful with repeated indices)?\n",
        "\n",
        "def add_one_to_indices(vector, indices):\n",
        "    # Get unique indices to avoid adding 1 multiple times to the same index\n",
        "    unique_indices = np.unique(indices)\n",
        "\n",
        "    # Create a new array with the same shape as the given vector\n",
        "    result = np.copy(vector)\n",
        "\n",
        "    # Increment elements at the specified indices by 1\n",
        "    result[unique_indices] += 1\n",
        "\n",
        "    return result\n",
        "\n",
        "# Example usage:\n",
        "vector = np.array([1, 2, 3, 4, 5])\n",
        "indices = np.array([0, 1, 2, 2, 3, 3, 4])\n",
        "\n",
        "result = add_one_to_indices(vector, indices)\n",
        "print(\"Result:\", result)"
      ],
      "metadata": {
        "id": "88SlD-Kx_Erm"
      },
      "execution_count": null,
      "outputs": []
    },
    {
      "cell_type": "code",
      "source": [
        "# 65. How to accumulate elements of a vector (X) to an array (F) based on an index list (I)?\n",
        "\n",
        "def accumulate_elements(X, I, F):\n",
        "    # Ensure that F has the same shape as the accumulated array\n",
        "    F = np.zeros_like(F)\n",
        "\n",
        "    # Accumulate elements of X into F based on index list I\n",
        "    np.add.at(F, I, X)\n",
        "\n",
        "    return F\n",
        "\n",
        "# Example usage:\n",
        "X = np.array([1, 2, 3, 4, 5])\n",
        "I = np.array([0, 1, 1, 2, 3])\n",
        "F = np.zeros(4)\n",
        "\n",
        "result = accumulate_elements(X, I, F)\n",
        "print(\"Result:\", result)"
      ],
      "metadata": {
        "id": "fG31Hn5WAHEE"
      },
      "execution_count": null,
      "outputs": []
    },
    {
      "cell_type": "code",
      "source": [
        "# 66. Considering a (w,h,3) image of (dtype=ubyte), compute the number of unique colors\n",
        "\n",
        "def compute_unique_colors(image):\n",
        "    # Reshape the image to a 2D array where each row represents a pixel\n",
        "    flattened_image = image.reshape(-1, 3)\n",
        "\n",
        "    # Compute the unique colors\n",
        "    unique_colors = np.unique(flattened_image, axis=0)\n",
        "\n",
        "    # Return the number of unique colors\n",
        "    return len(unique_colors)\n",
        "\n",
        "# Example usage:\n",
        "# Create a sample image (replace this with your image data)\n",
        "w, h = 10, 10\n",
        "image = np.random.randint(0, 256, size=(w, h, 3), dtype=np.ubyte)\n",
        "\n",
        "# Compute the number of unique colors\n",
        "num_unique_colors = compute_unique_colors(image)\n",
        "print(\"Number of unique colors:\", num_unique_colors)"
      ],
      "metadata": {
        "id": "stOtYHAyApM0"
      },
      "execution_count": null,
      "outputs": []
    },
    {
      "cell_type": "code",
      "source": [
        "# 67. Considering a four dimensions array, how to get sum over the last two axis at once?\n",
        "\n",
        "# Create a sample four-dimensional array (replace this with your array data)\n",
        "arr = np.random.randint(0, 10, size=(3, 4, 2, 2))\n",
        "\n",
        "# Get the sum over the last two axes at once\n",
        "sum_last_two_axes = np.sum(arr, axis=(-2, -1))\n",
        "\n",
        "print(\"Original array:\")\n",
        "print(arr)\n",
        "print(\"\\nSum over the last two axes:\")\n",
        "print(sum_last_two_axes)"
      ],
      "metadata": {
        "id": "3OdRLoMdBEeT"
      },
      "execution_count": null,
      "outputs": []
    },
    {
      "cell_type": "code",
      "source": [
        "# 68. Considering a one-dimensional vector D, how to compute means of subsets of D using a vector S of same size describing subset indices?\n",
        "\n",
        "def compute_subset_means(D, S):\n",
        "    # Get unique subset indices\n",
        "    unique_indices = np.unique(S)\n",
        "\n",
        "    # Initialize an array to store the means of subsets\n",
        "    subset_means = np.zeros(len(unique_indices))\n",
        "\n",
        "    # Compute the mean for each subset\n",
        "    for i, idx in enumerate(unique_indices):\n",
        "        subset = D[S == idx]  # Select elements of D corresponding to the current subset index\n",
        "        subset_means[i] = np.mean(subset)\n",
        "\n",
        "    return subset_means\n",
        "\n",
        "# Example usage:\n",
        "D = np.array([1, 2, 3, 4, 5, 6, 7, 8, 9, 10])\n",
        "S = np.array([0, 1, 0, 1, 2, 2, 3, 3, 3, 3])\n",
        "\n",
        "subset_means = compute_subset_means(D, S)\n",
        "print(\"Subset means:\", subset_means)"
      ],
      "metadata": {
        "colab": {
          "base_uri": "https://localhost:8080/"
        },
        "id": "TtwOhZTyBmLe",
        "outputId": "c43097c1-e272-4a1e-dbad-cb4bf40df9cb"
      },
      "execution_count": 10,
      "outputs": [
        {
          "output_type": "stream",
          "name": "stdout",
          "text": [
            "Subset means: [2.  3.  5.5 8.5]\n"
          ]
        }
      ]
    },
    {
      "cell_type": "code",
      "source": [
        "# 69. How to get the diagonal of a dot product?\n",
        "\n",
        "def diagonal_of_dot_product(A, B):\n",
        "    # Compute the dot product of matrices A and B\n",
        "    dot_product = np.einsum('ij,jk->ik', A, B)\n",
        "\n",
        "    # Get the diagonal elements\n",
        "    diagonal = np.diag(dot_product)\n",
        "\n",
        "    return diagonal\n",
        "\n",
        "# Example usage:\n",
        "A = np.array([[1, 2, 3],\n",
        "              [4, 5, 6]])\n",
        "B = np.array([[2, 0],\n",
        "              [1, 3],\n",
        "              [4, 2]])\n",
        "\n",
        "diagonal = diagonal_of_dot_product(A, B)\n",
        "print(\"Diagonal of the dot product:\", diagonal)"
      ],
      "metadata": {
        "colab": {
          "base_uri": "https://localhost:8080/"
        },
        "id": "9JjAiJdJCQnS",
        "outputId": "ff65af61-8892-40e6-e238-3a2aaf4e9f3e"
      },
      "execution_count": 11,
      "outputs": [
        {
          "output_type": "stream",
          "name": "stdout",
          "text": [
            "Diagonal of the dot product: [16 27]\n"
          ]
        }
      ]
    },
    {
      "cell_type": "code",
      "source": [
        "# 70. Consider the vector [1, 2, 3, 4, 5], how to build a new vector with 3 consecutive zeros interleaved between each value?\n",
        "\n",
        "# Original vector\n",
        "original_vector = np.array([1, 2, 3, 4, 5])\n",
        "\n",
        "# Number of consecutive zeros\n",
        "num_zeros = 3\n",
        "\n",
        "# Build new vector with interleaved zeros\n",
        "new_vector = np.zeros(len(original_vector) + (len(original_vector) - 1) * num_zeros, dtype=original_vector.dtype)\n",
        "new_vector[::num_zeros+1] = original_vector\n",
        "\n",
        "print(\"New vector with interleaved zeros:\")\n",
        "print(new_vector)"
      ],
      "metadata": {
        "colab": {
          "base_uri": "https://localhost:8080/"
        },
        "id": "ikwTEek3C0lP",
        "outputId": "2d3758c9-5275-4620-b527-3fcf8d65ae99"
      },
      "execution_count": 12,
      "outputs": [
        {
          "output_type": "stream",
          "name": "stdout",
          "text": [
            "New vector with interleaved zeros:\n",
            "[1 0 0 0 2 0 0 0 3 0 0 0 4 0 0 0 5]\n"
          ]
        }
      ]
    },
    {
      "cell_type": "code",
      "source": [
        "# 71. Consider an array of dimension (5,5,3), how to mulitply it by an array with dimensions (5,5)?\n",
        "\n",
        "# Create arrays\n",
        "array_3d = np.random.rand(5, 5, 3)  # Dimension (5,5,3)\n",
        "array_2d = np.random.rand(5, 5)      # Dimension (5,5)\n",
        "\n",
        "# Multiply array_3d by array_2d\n",
        "result = array_3d * array_2d[:, :, np.newaxis]\n",
        "\n",
        "print(\"Resulting array shape:\", result.shape)"
      ],
      "metadata": {
        "colab": {
          "base_uri": "https://localhost:8080/"
        },
        "id": "6MQUTdcqDeeb",
        "outputId": "99bdaec6-d17f-4ccc-cb7a-c6ecb6431d08"
      },
      "execution_count": 13,
      "outputs": [
        {
          "output_type": "stream",
          "name": "stdout",
          "text": [
            "Resulting array shape: (5, 5, 3)\n"
          ]
        }
      ]
    },
    {
      "cell_type": "code",
      "source": [
        "# 72. How to swap two rows of an array?\n",
        "# Create a sample array\n",
        "array = np.array([[1, 2, 3],\n",
        "                  [4, 5, 6],\n",
        "                  [7, 8, 9]])\n",
        "\n",
        "# Swap rows 0 and 1\n",
        "array[[0, 1]] = array[[1, 0]]\n",
        "\n",
        "print(\"Array after swapping rows 0 and 1:\")\n",
        "print(array)"
      ],
      "metadata": {
        "id": "dYpphvM4Dz5t"
      },
      "execution_count": null,
      "outputs": []
    },
    {
      "cell_type": "code",
      "source": [
        "# 73. Consider a set of 10 triplets describing 10 triangles (with shared vertices), find the set of unique line segments composing all the triangles\n",
        "\n",
        "# Define a function to extract line segments from a triangle\n",
        "def extract_segments(triangle):\n",
        "    segments = set()\n",
        "    for i in range(3):\n",
        "        for j in range(i+1, 3):\n",
        "            segments.add(tuple(sorted((triangle[i], triangle[j]))))\n",
        "    return segments\n",
        "\n",
        "# Define the set of triplets describing 10 triangles\n",
        "triplets = [(1, 2, 3), (2, 3, 4), (3, 4, 5), (4, 5, 6), (5, 6, 7),\n",
        "            (6, 7, 8), (7, 8, 9), (8, 9, 10), (9, 10, 11), (10, 11, 12)]\n",
        "\n",
        "# Initialize an empty set to store unique line segments\n",
        "unique_segments = set()\n",
        "\n",
        "# Iterate over each triplet and extract line segments\n",
        "for triplet in triplets:\n",
        "    segments = extract_segments(triplet)\n",
        "    unique_segments.update(segments)\n",
        "\n",
        "print(\"Set of unique line segments:\")\n",
        "print(unique_segments)"
      ],
      "metadata": {
        "id": "nznYIB1pEDiv"
      },
      "execution_count": null,
      "outputs": []
    },
    {
      "cell_type": "code",
      "source": [
        "# 74. Given a sorted array C that corresponds to a bincount, how to produce an array A such that np.bincount(A) == C?\n",
        "\n",
        "def reconstruct_array(C):\n",
        "    max_value = len(C) - 1  # Maximum value in array A\n",
        "    A = np.repeat(np.arange(max_value + 1), C)\n",
        "    return A\n",
        "\n",
        "# Example usage:\n",
        "C = np.array([0, 2, 1, 1, 0, 1, 0, 0, 2])  # Example sorted bincount array\n",
        "\n",
        "A = reconstruct_array(C)\n",
        "print(\"Array A:\", A)\n",
        "print(\"Bincount of A:\", np.bincount(A))\n",
        "print(\"Is np.bincount(A) == C?\", np.array_equal(np.bincount(A), C))"
      ],
      "metadata": {
        "id": "-MztxaxXEk14"
      },
      "execution_count": null,
      "outputs": []
    },
    {
      "cell_type": "code",
      "source": [
        "# 75. How to compute averages using a sliding window over an array?\n",
        "\n",
        "def sliding_window_average(arr, window_size):\n",
        "    # Define the window\n",
        "    window = np.ones(window_size) / window_size\n",
        "\n",
        "    # Compute the sliding window average using convolution\n",
        "    averages = np.convolve(arr, window, mode='valid')\n",
        "\n",
        "    return averages\n",
        "\n",
        "# Example usage:\n",
        "arr = np.array([1, 2, 3, 4, 5, 6, 7, 8, 9, 10])\n",
        "window_size = 3\n",
        "\n",
        "averages = sliding_window_average(arr, window_size)\n",
        "print(\"Sliding window averages:\", averages)"
      ],
      "metadata": {
        "id": "BN0618deE6gA"
      },
      "execution_count": null,
      "outputs": []
    },
    {
      "cell_type": "code",
      "source": [
        "# 76. Consider a one-dimensional array Z, build a two-dimensional array whose first row is (Z[0],Z[1],Z[2]) and each subsequent row is shifted by 1 (last row should be (Z[-3],Z[-2],Z[-1])\n",
        "\n",
        "def build_shifted_array(Z):\n",
        "    # Create indices for slicing the array\n",
        "    indices = np.arange(3)[:, np.newaxis] + np.arange(len(Z) - 2)\n",
        "\n",
        "    # Use array slicing to build the shifted array\n",
        "    shifted_array = Z[indices]\n",
        "\n",
        "    return shifted_array\n",
        "\n",
        "# Example usage:\n",
        "Z = np.array([1, 2, 3, 4, 5, 6, 7])\n",
        "\n",
        "result = build_shifted_array(Z)\n",
        "print(\"Result:\")\n",
        "print(result)"
      ],
      "metadata": {
        "id": "BMZowcKhFSVR"
      },
      "execution_count": null,
      "outputs": []
    },
    {
      "cell_type": "code",
      "source": [
        "# 77. How to negate a boolean, or to change the sign of a float inplace?\n",
        "\n",
        "# Original boolean value\n",
        "boolean_value = True\n",
        "\n",
        "# Negate the boolean in-place\n",
        "boolean_value = ~boolean_value\n",
        "\n",
        "print(\"Negated boolean value:\", boolean_value)\n",
        "\n",
        "# Original float value\n",
        "float_value = 3.14\n",
        "\n",
        "# Change the sign of the float in-place\n",
        "float_value *= -1\n",
        "\n",
        "print(\"Float value with changed sign:\", float_value)"
      ],
      "metadata": {
        "id": "0y8v5dVSF4Bd"
      },
      "execution_count": null,
      "outputs": []
    },
    {
      "cell_type": "code",
      "source": [
        "# 78. Consider 2 sets of points P0,P1 describing lines (2d) and a point p, how to compute distance from p to each line i (P0[i],P1[i])?\n",
        "\n",
        "def distance_to_lines(P0, P1, p):\n",
        "    # Convert points to numpy arrays\n",
        "    P0 = np.array(P0)\n",
        "    P1 = np.array(P1)\n",
        "    p = np.array(p)\n",
        "\n",
        "    # Compute direction vectors of the line segments\n",
        "    v = P1 - P0\n",
        "\n",
        "    # Compute vectors from P0 to p\n",
        "    w = p - P0\n",
        "\n",
        "    # Compute projection of w onto v\n",
        "    c = np.dot(w, v) / np.dot(v, v)\n",
        "\n",
        "    # Handle cases where c is outside [0, 1]\n",
        "    c = np.clip(c, 0, 1)\n",
        "\n",
        "    # Compute projected points\n",
        "    projected_points = P0 + c[:, np.newaxis] * v\n",
        "\n",
        "    # Compute distances between p and projected points\n",
        "    distances = np.linalg.norm(projected_points - p, axis=1)\n",
        "\n",
        "    return distances\n",
        "\n",
        "# Example usage:\n",
        "P0 = [(1, 1), (2, 3), (4, 5)]  # Endpoint 1 of line segments\n",
        "P1 = [(4, 5), (6, 7), (8, 9)]  # Endpoint 2 of line segments\n",
        "p = (3, 4)                     # Point p\n",
        "\n",
        "distances = distance_to_lines(P0, P1, p)\n",
        "print(\"Distances to each line segment:\", distances)"
      ],
      "metadata": {
        "id": "D9-dVo1PGUdF"
      },
      "execution_count": null,
      "outputs": []
    },
    {
      "cell_type": "code",
      "source": [
        "# 79. Consider 2 sets of points P0,P1 describing lines (2d) and a set of points P, how to compute distance from each point j (P[j]) to each line i (P0[i],P1[i])?\n",
        "\n",
        "def distance_to_lines(P0, P1, P):\n",
        "    # Convert points to numpy arrays\n",
        "    P0 = np.array(P0)\n",
        "    P1 = np.array(P1)\n",
        "    P = np.array(P)\n",
        "\n",
        "    # Compute direction vectors of the line segments\n",
        "    v = P1 - P0\n",
        "\n",
        "    # Compute vectors from P0 to each point in P\n",
        "    w = P[:, np.newaxis, :] - P0\n",
        "\n",
        "    # Compute projection of w onto v\n",
        "    c = np.einsum('ijk,ik->ij', w, v) / np.linalg.norm(v, axis=1)**2\n",
        "\n",
        "    # Handle cases where c is outside [0, 1]\n",
        "    c = np.clip(c, 0, 1)\n",
        "\n",
        "    # Compute projected points\n",
        "    projected_points = P0 + c[:, :, np.newaxis] * v\n",
        "\n",
        "    # Compute distances between each point and its projected points\n",
        "    distances = np.linalg.norm(projected_points - P[:, np.newaxis, :], axis=2)\n",
        "\n",
        "    return distances\n",
        "\n",
        "# Example usage:\n",
        "P0 = [(1, 1), (2, 3), (4, 5)]  # Endpoint 1 of line segments\n",
        "P1 = [(4, 5), (6, 7), (8, 9)]  # Endpoint 2 of line segments\n",
        "P = [(3, 4), (5, 6)]            # Set of points P\n",
        "\n",
        "distances = distance_to_lines(P0, P1, P)\n",
        "print(\"Distances from each point to each line segment:\")\n",
        "print(distances)"
      ],
      "metadata": {
        "id": "Qeq_MiiYHINp"
      },
      "execution_count": null,
      "outputs": []
    },
    {
      "cell_type": "code",
      "source": [
        "# 80. Consider an arbitrary array, write a function that extract a subpart with a fixed shape and centered on a given element (pad with a fill value when necessary)\n",
        "\n",
        "def extract_subpart(arr, center, shape, fill_value=0):\n",
        "    \"\"\"\n",
        "    Extracts a subpart from the input array centered on a given element\n",
        "    with the specified shape, padding with a fill value when necessary.\n",
        "\n",
        "    Parameters:\n",
        "        arr (ndarray): Input array.\n",
        "        center (tuple or list): Coordinates of the center element.\n",
        "        shape (tuple or list): Shape of the subpart.\n",
        "        fill_value (scalar, optional): Value to use for padding. Default is 0.\n",
        "\n",
        "    Returns:\n",
        "        ndarray: Extracted subpart with the specified shape.\n",
        "    \"\"\"\n",
        "    # Convert center and shape to tuples if not already\n",
        "    center = tuple(center)\n",
        "    shape = tuple(shape)\n",
        "\n",
        "    # Calculate start and end indices for each axis\n",
        "    start_indices = tuple(c - s // 2 for c, s in zip(center, shape))\n",
        "    end_indices = tuple(start + s for start, s in zip(start_indices, shape))\n",
        "\n",
        "    # Pad array if necessary\n",
        "    padded_arr = np.pad(arr, [(max(-start, 0), max(end - arr_size, 0)) for start, end, arr_size in zip(start_indices, end_indices, arr.shape)], constant_values=fill_value)\n",
        "\n",
        "    # Calculate new start and end indices after padding\n",
        "    new_start_indices = tuple(max(start, 0) for start in start_indices)\n",
        "    new_end_indices = tuple(start + s for start, s in zip(new_start_indices, shape))\n",
        "\n",
        "    # Extract subpart from padded array\n",
        "    subpart = padded_arr[new_start_indices[0]:new_end_indices[0], new_start_indices[1]:new_end_indices[1]]\n",
        "\n",
        "    return subpart\n",
        "\n",
        "# Example usage:\n",
        "arr = np.random.randint(0, 10, (10, 10))  # Example input array\n",
        "center = (5, 5)                           # Center element coordinates\n",
        "shape = (3, 3)                            # Shape of the subpart\n",
        "\n",
        "subpart = extract_subpart(arr, center, shape, fill_value=-1)\n",
        "print(\"Extracted subpart:\")\n",
        "print(subpart)"
      ],
      "metadata": {
        "colab": {
          "base_uri": "https://localhost:8080/"
        },
        "id": "yGdH2B-iHc3y",
        "outputId": "6448522f-2a29-4f1e-bfd1-48d2b0459ea3"
      },
      "execution_count": 25,
      "outputs": [
        {
          "output_type": "stream",
          "name": "stdout",
          "text": [
            "Extracted subpart:\n",
            "[[5 7 3]\n",
            " [8 1 7]\n",
            " [2 5 1]]\n"
          ]
        }
      ]
    },
    {
      "cell_type": "code",
      "source": [
        "# 81. Consider an array Z = [1,2,3,4,5,6,7,8,9,10,11,12,13,14], how to generate an array R = [[1,2,3,4], [2,3,4,5], [3,4,5,6], ..., [11,12,13,14]]?\n",
        "\n",
        "Z = np.array([1, 2, 3, 4, 5, 6, 7, 8, 9, 10, 11, 12, 13, 14])\n",
        "\n",
        "# Define the window size\n",
        "window_size = 4\n",
        "\n",
        "# Calculate the number of rows in R\n",
        "num_rows = len(Z) - window_size + 1\n",
        "\n",
        "# Generate the array R using array slicing\n",
        "R = np.array([Z[i:i+window_size] for i in range(num_rows)])\n",
        "\n",
        "print(\"Array R:\")\n",
        "print(R)"
      ],
      "metadata": {
        "id": "PQojAYd-Hs75"
      },
      "execution_count": null,
      "outputs": []
    },
    {
      "cell_type": "code",
      "source": [
        "# 82. Compute a matrix rank\n",
        "# Define the matrix\n",
        "matrix = np.array([[1, 2, 3],\n",
        "                   [4, 5, 6],\n",
        "                   [7, 8, 9]])\n",
        "\n",
        "# Compute the rank of the matrix\n",
        "rank = np.linalg.matrix_rank(matrix)\n",
        "\n",
        "print(\"Rank of the matrix:\", rank)"
      ],
      "metadata": {
        "id": "84KSSJqCUNdv"
      },
      "execution_count": null,
      "outputs": []
    },
    {
      "cell_type": "code",
      "source": [
        "# 83. How to find the most frequent value in an array?\n",
        "\n",
        "# Example array\n",
        "array = np.array([1, 2, 3, 4, 2, 2, 3, 1, 4, 4, 4])\n",
        "\n",
        "# Find the most frequent value\n",
        "most_frequent_value = np.argmax(np.bincount(array))\n",
        "\n",
        "print(\"Most frequent value:\", most_frequent_value)"
      ],
      "metadata": {
        "id": "_GPmyFGjUafp"
      },
      "execution_count": null,
      "outputs": []
    },
    {
      "cell_type": "code",
      "source": [
        "# 84. Extract all the contiguous 3x3 blocks from a random 10x10 matrix\n",
        "# Create a random 10x10 matrix\n",
        "matrix = np.random.randint(0, 10, (10, 10))\n",
        "\n",
        "# Extract all contiguous 3x3 blocks\n",
        "blocks = [matrix[i:i+3, j:j+3] for i in range(8) for j in range(8)]\n",
        "\n",
        "# Print the extracted blocks\n",
        "for idx, block in enumerate(blocks, 1):\n",
        "    print(f\"Block {idx}:\")\n",
        "    print(block)\n",
        "    print()"
      ],
      "metadata": {
        "id": "SnrlN57DU6Hi"
      },
      "execution_count": null,
      "outputs": []
    },
    {
      "cell_type": "code",
      "source": [
        "# 85. Create a 2D array subclass such that Z[i,j] == Z[j,i]\n",
        "class SymmetricArray(np.ndarray):\n",
        "    def __setitem__(self, key, value):\n",
        "        i, j = key\n",
        "        super().__setitem__((i, j), value)\n",
        "        super().__setitem__((j, i), value)\n",
        "\n",
        "# Create a 3x3 SymmetricArray subclass\n",
        "Z = np.zeros((3, 3))\n",
        "Z = Z.view(SymmetricArray)\n",
        "\n",
        "# Assign values to the array\n",
        "Z[0, 1] = 1\n",
        "Z[1, 2] = 2\n",
        "\n",
        "print(\"Symmetric Array Z:\")\n",
        "print(Z)\n"
      ],
      "metadata": {
        "id": "6Bulmy44VQUv"
      },
      "execution_count": null,
      "outputs": []
    },
    {
      "cell_type": "code",
      "source": [],
      "metadata": {
        "id": "gCaQSxLwVl87"
      },
      "execution_count": null,
      "outputs": []
    }
  ]
}