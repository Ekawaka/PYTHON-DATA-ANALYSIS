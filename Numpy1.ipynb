{
  "nbformat": 4,
  "nbformat_minor": 0,
  "metadata": {
    "colab": {
      "provenance": [],
      "authorship_tag": "ABX9TyMei3r5NdCOqbTEX5YGoBrq",
      "include_colab_link": true
    },
    "kernelspec": {
      "name": "python3",
      "display_name": "Python 3"
    },
    "language_info": {
      "name": "python"
    }
  },
  "cells": [
    {
      "cell_type": "markdown",
      "metadata": {
        "id": "view-in-github",
        "colab_type": "text"
      },
      "source": [
        "<a href=\"https://colab.research.google.com/github/Ekawaka/PYTHON-DATA-ANALYSIS/blob/main/Numpy1.ipynb\" target=\"_parent\"><img src=\"https://colab.research.google.com/assets/colab-badge.svg\" alt=\"Open In Colab\"/></a>"
      ]
    },
    {
      "cell_type": "code",
      "source": [
        "# 1. Import the numpy package under the name np\n",
        "import numpy as np"
      ],
      "metadata": {
        "id": "PM4GOB-eHQCu"
      },
      "execution_count": 14,
      "outputs": []
    },
    {
      "cell_type": "code",
      "execution_count": null,
      "metadata": {
        "id": "adQlnwn73UkU"
      },
      "outputs": [],
      "source": [
        "# 2. Print the numpy version and the configuration\n",
        "print(np.__version__)\n",
        "print(np.show_config())"
      ]
    },
    {
      "cell_type": "code",
      "source": [
        "# 3. Create a null vector of size 10\n",
        "null_vector = np.zeros(10)\n",
        "print(null_vector)"
      ],
      "metadata": {
        "id": "EZt0x-T_4qVp"
      },
      "execution_count": null,
      "outputs": []
    },
    {
      "cell_type": "code",
      "source": [
        "# 4. How to find the memory size of any array\n",
        "arr = np.zeros((3,2))\n",
        "# an example of array of shape (3,2) filled with zeros\n",
        "# using the nbytes attribute\n",
        "memory_size = arr.nbytes\n",
        "print(\"memory_size:\", memory_size, \"bytes\")"
      ],
      "metadata": {
        "id": "VuKk1qy_JtI8"
      },
      "execution_count": null,
      "outputs": []
    },
    {
      "cell_type": "code",
      "source": [
        "# 5. How to get the documentation of the numpy add function from the command line?\n",
        "help(np.add)"
      ],
      "metadata": {
        "id": "Q3N1n3r5MPev"
      },
      "execution_count": null,
      "outputs": []
    },
    {
      "cell_type": "code",
      "source": [
        "# 6. Create a null vector of size 10 but the fifth value which is 1\n",
        "# create a null vector of size 10\n",
        "null_vector = np.zeros(10)\n",
        "#assign the 5th value (index 4)to be 1\n",
        "null_vector[4] = 1\n",
        "print(null_vector)"
      ],
      "metadata": {
        "id": "hE0VMl9VM-aw"
      },
      "execution_count": null,
      "outputs": []
    },
    {
      "cell_type": "code",
      "source": [
        "# 7.Create a vector with values ranging from 10 to 49\n",
        "vector = np.arange(10,50)\n",
        "print(vector)"
      ],
      "metadata": {
        "id": "VsuY4zkzOknZ"
      },
      "execution_count": null,
      "outputs": []
    },
    {
      "cell_type": "code",
      "source": [
        "# 8. Reverse a vector (first element becomes last)\n",
        "vector = np.arange(10,50)\n",
        "# reverse the vector\n",
        "reversed_vector = vector[::-1]\n",
        "print(reversed_vector)\n"
      ],
      "metadata": {
        "id": "3TTvB7B6PTfo"
      },
      "execution_count": null,
      "outputs": []
    },
    {
      "cell_type": "code",
      "source": [
        "# 9. Create a 3x3 matrix with values ranging from 0 to 8\n",
        "vector = np.arange(9)\n",
        "#reshape the vector a 3x3 matrix\n",
        "matrix = vector.reshape(3,3)\n",
        "print(matrix)"
      ],
      "metadata": {
        "id": "fHstofLBQaKU"
      },
      "execution_count": null,
      "outputs": []
    },
    {
      "cell_type": "code",
      "source": [
        "# 10. Find indices of non-zero elements from [1,2,0,0,4,0]\n",
        "# create a list\n",
        "my_list = [1,2,0,0,4,0]\n",
        "# convert the list to a numpy array\n",
        "arr = np. array(my_list)\n",
        "# find the indices of non zero elements\n",
        "indices = np.nonzero(arr)\n",
        "print(indices)"
      ],
      "metadata": {
        "id": "avvmo_VURBjx"
      },
      "execution_count": null,
      "outputs": []
    },
    {
      "cell_type": "code",
      "source": [
        "# 11. Create a 3x3 identity matrix\n",
        "identity_matrix = np.identity(3)\n",
        "print(identity_matrix)"
      ],
      "metadata": {
        "id": "SQRzMwGeStwE"
      },
      "execution_count": null,
      "outputs": []
    },
    {
      "cell_type": "code",
      "source": [
        "# 12. Create a 3x3x3 array with random values\n",
        "# random values between 0 and 1\n",
        "random_array = np.random.rand(3,3,3)\n",
        "print(random_array)\n",
        "# random values between 0 and 10\n",
        "random_array = np.random.rand(3,3,3)*10\n",
        "print(random_array)"
      ],
      "metadata": {
        "id": "9JVntlH5ThaZ"
      },
      "execution_count": null,
      "outputs": []
    },
    {
      "cell_type": "code",
      "source": [
        "# 13. Create a 10x10 array with random values and find the minimum and maximum values\n",
        "random_array = np.random.rand(10,10)\n",
        "# find the minimum and maximum values\n",
        "min_value = random_array.min()\n",
        "max_value = random_array.max()\n",
        "print(min_value)\n",
        "print(max_value)"
      ],
      "metadata": {
        "id": "oGTNenULUyu1"
      },
      "execution_count": null,
      "outputs": []
    },
    {
      "cell_type": "code",
      "source": [
        "# 14. Create a random vector of size 30 and find the mean value\n",
        "random_vector = np.random.rand(30)\n",
        "print(random_vector)\n",
        "# find the mean value.\n",
        "mean_value = np.mean(random_vector)\n",
        "print(mean_value)"
      ],
      "metadata": {
        "id": "lpfgm_jTV27C"
      },
      "execution_count": null,
      "outputs": []
    },
    {
      "cell_type": "code",
      "source": [
        "# 15. Create a 2d array with 1 on the border and 0 inside\n",
        "# define the shape of 2D array\n",
        "rows, columns = 4,4\n",
        "# create an array filled with zeros\n",
        "array_2d = np.zeros((rows, columns))\n",
        "# assign 1 to the border elements\n",
        "array_2d[0, :] = 1 # top row\n",
        "array_2d[-1, :] = 1\n",
        "array_2d[:, 0] = 1 # left column\n",
        "array_2d[:, -1] = 1\n",
        "print(array_2d)"
      ],
      "metadata": {
        "colab": {
          "base_uri": "https://localhost:8080/"
        },
        "id": "k99s9OX5W8u4",
        "outputId": "a38d16c1-1a86-41a7-8cc6-d59b9609f226"
      },
      "execution_count": 43,
      "outputs": [
        {
          "output_type": "stream",
          "name": "stdout",
          "text": [
            "[[1. 1. 1. 1.]\n",
            " [1. 0. 0. 1.]\n",
            " [1. 0. 0. 1.]\n",
            " [1. 1. 1. 1.]]\n"
          ]
        }
      ]
    }
  ]
}