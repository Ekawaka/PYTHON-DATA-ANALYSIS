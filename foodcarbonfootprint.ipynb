{
  "nbformat": 4,
  "nbformat_minor": 0,
  "metadata": {
    "colab": {
      "provenance": [],
      "authorship_tag": "ABX9TyPhq0E8rsvmRSMogrl0oEK2",
      "include_colab_link": true
    },
    "kernelspec": {
      "name": "python3",
      "display_name": "Python 3"
    },
    "language_info": {
      "name": "python"
    }
  },
  "cells": [
    {
      "cell_type": "markdown",
      "metadata": {
        "id": "view-in-github",
        "colab_type": "text"
      },
      "source": [
        "<a href=\"https://colab.research.google.com/github/Ekawaka/PYTHON-DATA-ANALYSIS/blob/main/foodcarbonfootprint.ipynb\" target=\"_parent\"><img src=\"https://colab.research.google.com/assets/colab-badge.svg\" alt=\"Open In Colab\"/></a>"
      ]
    },
    {
      "cell_type": "code",
      "execution_count": 1,
      "metadata": {
        "id": "P3JXSbkul4ti"
      },
      "outputs": [],
      "source": [
        "import pandas as pd"
      ]
    },
    {
      "cell_type": "code",
      "source": [
        "data = pd.read_csv('https://raw.githubusercontent.com/rfordatascience/tidytuesday/master/data/2020/2020-02-18/food_consumption.csv')"
      ],
      "metadata": {
        "id": "z9wzvzDnl-8Q"
      },
      "execution_count": 2,
      "outputs": []
    },
    {
      "cell_type": "code",
      "source": [
        "print(data.head())"
      ],
      "metadata": {
        "colab": {
          "base_uri": "https://localhost:8080/"
        },
        "id": "T4MOzQHymT6s",
        "outputId": "31d7e5ba-b8d8-4a3f-bb40-21514e9a4f97"
      },
      "execution_count": 3,
      "outputs": [
        {
          "output_type": "stream",
          "name": "stdout",
          "text": [
            "     country food_category  consumption  co2_emmission\n",
            "0  Argentina          Pork        10.51          37.20\n",
            "1  Argentina       Poultry        38.66          41.53\n",
            "2  Argentina          Beef        55.48        1712.00\n",
            "3  Argentina   Lamb & Goat         1.56          54.63\n",
            "4  Argentina          Fish         4.36           6.96\n"
          ]
        }
      ]
    },
    {
      "cell_type": "code",
      "source": [
        "# The average C02 emission per person by food category among five countries (Kenya, Uganda, Tanzania, Rwanda and Ethiopia) located in East Africa. Use this image\n",
        "\n",
        "# Filter the dataset to include only the five East African countries\n",
        "east_africa_countries = ['Kenya', 'Uganda', 'Tanzania', 'Rwanda', 'Ethiopia']\n",
        "east_africa_data = data[data['Countries'].isin(east_africa_countries)]\n",
        "\n",
        "# Group by food category and calculate the average CO2 emissions per person\n",
        "average_co2_per_food_category = east_africa_data.groupby('Food_Category')['CO2_emission_per_person'].mean()"
      ],
      "metadata": {
        "id": "pdB48QGFmn1N"
      },
      "execution_count": null,
      "outputs": []
    },
    {
      "cell_type": "code",
      "source": [
        "# Highlight the marked difference between consumption and emissions in certain food product of your choice"
      ],
      "metadata": {
        "id": "J94JsLWnmxjI"
      },
      "execution_count": null,
      "outputs": []
    },
    {
      "cell_type": "code",
      "source": [
        "# The food consumption of animal and non-animal products and the impact on carbon footprint. Use this image"
      ],
      "metadata": {
        "id": "0qWhQ5rwm2-a"
      },
      "execution_count": null,
      "outputs": []
    },
    {
      "cell_type": "code",
      "source": [
        "# Beef's contribution to CO2 emissions (kg/person/year) - Map this."
      ],
      "metadata": {
        "id": "j2cQd47Jm7C-"
      },
      "execution_count": null,
      "outputs": []
    },
    {
      "cell_type": "code",
      "source": [
        "# A box plot and interpretation of the CO2 contributions of food levels. Use this image as inspiration"
      ],
      "metadata": {
        "id": "LcN_JF3Lm_at"
      },
      "execution_count": null,
      "outputs": []
    },
    {
      "cell_type": "code",
      "source": [
        "# Top 10 Countries with highest emissions. Choose the appropriate visual type. Get inspiration from this image"
      ],
      "metadata": {
        "id": "wofDo24enFmC"
      },
      "execution_count": null,
      "outputs": []
    },
    {
      "cell_type": "code",
      "source": [
        "# Use all your data to write a 500 words minimum of insights and the story behind your exploration."
      ],
      "metadata": {
        "id": "E696QDZ3nLhe"
      },
      "execution_count": null,
      "outputs": []
    },
    {
      "cell_type": "code",
      "source": [
        "# Alternatively compile a set of slides with your insights."
      ],
      "metadata": {
        "id": "a5mrrzMlnP81"
      },
      "execution_count": null,
      "outputs": []
    }
  ]
}