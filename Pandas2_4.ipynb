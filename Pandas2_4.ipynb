{
  "nbformat": 4,
  "nbformat_minor": 0,
  "metadata": {
    "colab": {
      "provenance": [],
      "authorship_tag": "ABX9TyPdz8du3LNC1bhYQhLwfm7/",
      "include_colab_link": true
    },
    "kernelspec": {
      "name": "python3",
      "display_name": "Python 3"
    },
    "language_info": {
      "name": "python"
    }
  },
  "cells": [
    {
      "cell_type": "markdown",
      "metadata": {
        "id": "view-in-github",
        "colab_type": "text"
      },
      "source": [
        "<a href=\"https://colab.research.google.com/github/Ekawaka/PYTHON-DATA-ANALYSIS/blob/main/Pandas2_4.ipynb\" target=\"_parent\"><img src=\"https://colab.research.google.com/assets/colab-badge.svg\" alt=\"Open In Colab\"/></a>"
      ]
    },
    {
      "cell_type": "markdown",
      "source": [
        "Occupation\n",
        "Introduction:\n",
        "Special thanks to: https://github.com/justmarkham for sharing the dataset and materials."
      ],
      "metadata": {
        "id": "BtIgAAEGQFJW"
      }
    },
    {
      "cell_type": "code",
      "source": [
        "# Step 1. Import the necessary libraries\n",
        "\n",
        "import pandas as pd"
      ],
      "metadata": {
        "id": "Ygi608AdQK_Q"
      },
      "execution_count": 3,
      "outputs": []
    },
    {
      "cell_type": "code",
      "source": [
        "# Step 2. Import the dataset from this address.\n",
        "\n",
        "df = pd.read_csv('https://raw.githubusercontent.com/justmarkham/DAT8/master/data/u.user')\n",
        "\n",
        "# df contains your dataset and you can perform operations on it\n",
        "print(df.head())"
      ],
      "metadata": {
        "colab": {
          "base_uri": "https://localhost:8080/"
        },
        "id": "aKjPPiFMQeI1",
        "outputId": "534bd8e6-a7ea-46c6-e09e-f2e3d7f9a716"
      },
      "execution_count": 2,
      "outputs": [
        {
          "output_type": "stream",
          "name": "stdout",
          "text": [
            "  user_id|age|gender|occupation|zip_code\n",
            "0                1|24|M|technician|85711\n",
            "1                     2|53|F|other|94043\n",
            "2                    3|23|M|writer|32067\n",
            "3                4|24|M|technician|43537\n",
            "4                     5|33|F|other|15213\n"
          ]
        }
      ]
    },
    {
      "cell_type": "code",
      "source": [
        "# Step 3. Assign it to a variable called users.\n",
        "\n",
        "drinks = pd.read_csv('https://raw.githubusercontent.com/justmarkham/DAT8/master/data/u.user')\n",
        "print(drinks.head())"
      ],
      "metadata": {
        "colab": {
          "base_uri": "https://localhost:8080/"
        },
        "id": "CJgNH3zaQito",
        "outputId": "ba508740-7170-498b-9edc-e2dcd133d70c"
      },
      "execution_count": 4,
      "outputs": [
        {
          "output_type": "stream",
          "name": "stdout",
          "text": [
            "  user_id|age|gender|occupation|zip_code\n",
            "0                1|24|M|technician|85711\n",
            "1                     2|53|F|other|94043\n",
            "2                    3|23|M|writer|32067\n",
            "3                4|24|M|technician|43537\n",
            "4                     5|33|F|other|15213\n"
          ]
        }
      ]
    },
    {
      "cell_type": "code",
      "source": [
        "# Step 4. Discover what is the mean age per occupation"
      ],
      "metadata": {
        "id": "HYh0sA_VQoAs"
      },
      "execution_count": null,
      "outputs": []
    },
    {
      "cell_type": "code",
      "source": [
        "# Step 5. Discover the Male ratio per occupation and sort it from the most to the least"
      ],
      "metadata": {
        "id": "Ae8P8WzaQskW"
      },
      "execution_count": null,
      "outputs": []
    },
    {
      "cell_type": "code",
      "source": [
        "# Step 6. For each occupation, calculate the minimum and maximum ages"
      ],
      "metadata": {
        "id": "qVmntiXUQyKR"
      },
      "execution_count": null,
      "outputs": []
    },
    {
      "cell_type": "code",
      "source": [
        "# Step 7. For each combination of occupation and gender, calculate the mean age"
      ],
      "metadata": {
        "id": "oxdF0V1lQ13t"
      },
      "execution_count": null,
      "outputs": []
    },
    {
      "cell_type": "code",
      "source": [
        "# Step 8. For each occupation present the percentage of women and men"
      ],
      "metadata": {
        "id": "DdcQxZyaRKbQ"
      },
      "execution_count": null,
      "outputs": []
    }
  ]
}