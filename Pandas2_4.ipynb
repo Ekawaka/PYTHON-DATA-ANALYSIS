{
  "nbformat": 4,
  "nbformat_minor": 0,
  "metadata": {
    "colab": {
      "provenance": [],
      "authorship_tag": "ABX9TyNex0JkVvmtHKIa9hkJJqD8",
      "include_colab_link": true
    },
    "kernelspec": {
      "name": "python3",
      "display_name": "Python 3"
    },
    "language_info": {
      "name": "python"
    }
  },
  "cells": [
    {
      "cell_type": "markdown",
      "metadata": {
        "id": "view-in-github",
        "colab_type": "text"
      },
      "source": [
        "<a href=\"https://colab.research.google.com/github/Ekawaka/PYTHON-DATA-ANALYSIS/blob/main/Pandas2_4.ipynb\" target=\"_parent\"><img src=\"https://colab.research.google.com/assets/colab-badge.svg\" alt=\"Open In Colab\"/></a>"
      ]
    },
    {
      "cell_type": "markdown",
      "source": [
        "Occupation\n",
        "Introduction:\n",
        "Special thanks to: https://github.com/justmarkham for sharing the dataset and materials."
      ],
      "metadata": {
        "id": "BtIgAAEGQFJW"
      }
    },
    {
      "cell_type": "code",
      "source": [
        "# Step 1. Import the necessary libraries\n",
        "\n",
        "import pandas as pd"
      ],
      "metadata": {
        "id": "Ygi608AdQK_Q"
      },
      "execution_count": 8,
      "outputs": []
    },
    {
      "cell_type": "code",
      "source": [
        "# Step 2. Import the dataset from this address.\n",
        "\n",
        "df = pd.read_table('https://raw.githubusercontent.com/justmarkham/DAT8/master/data/u.user')\n",
        "\n",
        "# df contains your dataset and you can perform operations on it\n",
        "print(df.head())"
      ],
      "metadata": {
        "colab": {
          "base_uri": "https://localhost:8080/"
        },
        "id": "aKjPPiFMQeI1",
        "outputId": "699de832-1ad9-4677-e3e6-6596cefacec5"
      },
      "execution_count": 15,
      "outputs": [
        {
          "output_type": "stream",
          "name": "stdout",
          "text": [
            "  user_id|age|gender|occupation|zip_code\n",
            "0                1|24|M|technician|85711\n",
            "1                     2|53|F|other|94043\n",
            "2                    3|23|M|writer|32067\n",
            "3                4|24|M|technician|43537\n",
            "4                     5|33|F|other|15213\n"
          ]
        }
      ]
    },
    {
      "cell_type": "code",
      "source": [
        "# Step 3. Assign it to a variable called users.\n",
        "\n",
        "users = pd.read_table('https://raw.githubusercontent.com/justmarkham/DAT8/master/data/u.user')\n",
        "print(users.head())"
      ],
      "metadata": {
        "colab": {
          "base_uri": "https://localhost:8080/"
        },
        "id": "CJgNH3zaQito",
        "outputId": "bac022d1-1584-46f6-dfd0-b85785ccf38f"
      },
      "execution_count": 21,
      "outputs": [
        {
          "output_type": "stream",
          "name": "stdout",
          "text": [
            "  user_id|age|gender|occupation|zip_code\n",
            "0                1|24|M|technician|85711\n",
            "1                     2|53|F|other|94043\n",
            "2                    3|23|M|writer|32067\n",
            "3                4|24|M|technician|43537\n",
            "4                     5|33|F|other|15213\n"
          ]
        }
      ]
    },
    {
      "cell_type": "code",
      "source": [
        "# Assign it to a variable called occupation.\n",
        "\n",
        "occupation = pd.read_table('https://raw.githubusercontent.com/justmarkham/DAT8/master/data/u.user')\n",
        "print(occupation.head())\n",
        "\n"
      ],
      "metadata": {
        "colab": {
          "base_uri": "https://localhost:8080/"
        },
        "id": "DZi3qGVgxvwf",
        "outputId": "2a5cc858-ada3-4557-b91b-22b7587c3c0f"
      },
      "execution_count": 19,
      "outputs": [
        {
          "output_type": "stream",
          "name": "stdout",
          "text": [
            "  user_id|age|gender|occupation|zip_code\n",
            "0                1|24|M|technician|85711\n",
            "1                     2|53|F|other|94043\n",
            "2                    3|23|M|writer|32067\n",
            "3                4|24|M|technician|43537\n",
            "4                     5|33|F|other|15213\n"
          ]
        }
      ]
    },
    {
      "cell_type": "code",
      "source": [
        "# Step 4. Discover what is the mean age per occupation\n",
        "\n",
        "# Group the data by occupation and calculate the mean age for each group\n",
        "mean_age_per_occupation = users.groupby('occupation')['age'].mean()\n",
        "\n",
        "# Print the mean age per occupation\n",
        "print(\"Mean age per occupation:\")\n",
        "print(mean_age_per_occupation)"
      ],
      "metadata": {
        "id": "HYh0sA_VQoAs"
      },
      "execution_count": null,
      "outputs": []
    },
    {
      "cell_type": "code",
      "source": [
        "# Step 5. Discover the Male ratio per occupation and sort it from the most to the least\n",
        "\n",
        "# Create a new column 'is_male' indicating whether the user is male (1 for male, 0 for female)\n",
        "users['is_male'] = (users['gender'] == 'M').astype(int)\n",
        "\n",
        "# Group the data by occupation and calculate the male ratio for each group\n",
        "male_ratio_per_occupation = users.groupby('occupation')['is_male'].mean()\n",
        "\n",
        "# Sort the male ratio from the most to the least\n",
        "male_ratio_per_occupation_sorted = male_ratio_per_occupation.sort_values(ascending=False)\n",
        "\n",
        "# Print the male ratio per occupation sorted from the most to the least\n",
        "print(\"Male ratio per occupation (sorted from most to least):\")\n",
        "print(male_ratio_per_occupation_sorted)"
      ],
      "metadata": {
        "id": "Ae8P8WzaQskW"
      },
      "execution_count": null,
      "outputs": []
    },
    {
      "cell_type": "code",
      "source": [
        "# Step 6. For each occupation, calculate the minimum and maximum ages\n",
        "\n",
        "# Group the data by occupation and calculate the minimum and maximum ages for each group\n",
        "min_max_ages_per_occupation = users.groupby('occupation')['age'].agg(['min', 'max'])\n",
        "\n",
        "# Print the minimum and maximum ages for each occupation\n",
        "print(\"Minimum and maximum ages for each occupation:\")\n",
        "print(min_max_ages_per_occupation)"
      ],
      "metadata": {
        "id": "qVmntiXUQyKR"
      },
      "execution_count": null,
      "outputs": []
    },
    {
      "cell_type": "code",
      "source": [
        "# Step 7. For each combination of occupation and gender, calculate the mean age\n",
        "\n",
        "# Group the data by both occupation and gender, and calculate the mean age for each group\n",
        "mean_age_per_occupation_gender = users.groupby(['occupation', 'gender'])['age'].mean()\n",
        "\n",
        "# Print the mean age for each combination of occupation and gender\n",
        "print(\"Mean age for each combination of occupation and gender:\")\n",
        "print(mean_age_per_occupation_gender)"
      ],
      "metadata": {
        "id": "oxdF0V1lQ13t"
      },
      "execution_count": null,
      "outputs": []
    },
    {
      "cell_type": "code",
      "source": [
        "# Step 8. For each occupation present the percentage of women and men\n",
        "\n",
        "# Calculate the total number of users (both men and women) for each occupation\n",
        "total_users_per_occupation = users.groupby('occupation')['gender'].count()\n",
        "\n",
        "# Calculate the total number of women for each occupation\n",
        "women_per_occupation = users[users['gender'] == 'F'].groupby('occupation')['gender'].count()\n",
        "\n",
        "# Calculate the total number of men for each occupation\n",
        "men_per_occupation = users[users['gender'] == 'M'].groupby('occupation')['gender'].count()\n",
        "\n",
        "# Calculate the percentage of women and men for each occupation\n",
        "percentage_women_per_occupation = (women_per_occupation / total_users_per_occupation) * 100\n",
        "percentage_men_per_occupation = (men_per_occupation / total_users_per_occupation) * 100\n",
        "\n",
        "# Create a DataFrame to store the results\n",
        "gender_percentage_per_occupation = pd.DataFrame({\n",
        "    'Percentage Women': percentage_women_per_occupation,\n",
        "    'Percentage Men': percentage_men_per_occupation\n",
        "})\n",
        "\n",
        "# Print the percentage of women and men for each occupation\n",
        "print(\"Percentage of Women and Men for Each Occupation:\")\n",
        "print(gender_percentage_per_occupation)\n",
        "\n"
      ],
      "metadata": {
        "id": "DdcQxZyaRKbQ"
      },
      "execution_count": null,
      "outputs": []
    }
  ]
}