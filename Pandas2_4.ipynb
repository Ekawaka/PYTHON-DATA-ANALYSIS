{
  "nbformat": 4,
  "nbformat_minor": 0,
  "metadata": {
    "colab": {
      "provenance": [],
      "authorship_tag": "ABX9TyMj4PYLvTS/xQMYhaUy7V3P",
      "include_colab_link": true
    },
    "kernelspec": {
      "name": "python3",
      "display_name": "Python 3"
    },
    "language_info": {
      "name": "python"
    }
  },
  "cells": [
    {
      "cell_type": "markdown",
      "metadata": {
        "id": "view-in-github",
        "colab_type": "text"
      },
      "source": [
        "<a href=\"https://colab.research.google.com/github/Ekawaka/PYTHON-DATA-ANALYSIS/blob/main/Pandas2_4.ipynb\" target=\"_parent\"><img src=\"https://colab.research.google.com/assets/colab-badge.svg\" alt=\"Open In Colab\"/></a>"
      ]
    },
    {
      "cell_type": "markdown",
      "source": [
        "Occupation\n",
        "Introduction:\n",
        "Special thanks to: https://github.com/justmarkham for sharing the dataset and materials."
      ],
      "metadata": {
        "id": "BtIgAAEGQFJW"
      }
    },
    {
      "cell_type": "code",
      "source": [
        "# Step 1. Import the necessary libraries\n",
        "\n",
        "import pandas as pd"
      ],
      "metadata": {
        "id": "Ygi608AdQK_Q"
      },
      "execution_count": 2,
      "outputs": []
    },
    {
      "cell_type": "code",
      "source": [
        "# Step 2. Import the dataset from this address.\n",
        "\n",
        "df = pd.read_table('https://raw.githubusercontent.com/justmarkham/DAT8/master/data/u.user')\n",
        "\n",
        "# df contains your dataset and you can perform operations on it\n",
        "print(df.head())"
      ],
      "metadata": {
        "id": "aKjPPiFMQeI1"
      },
      "execution_count": null,
      "outputs": []
    },
    {
      "cell_type": "code",
      "source": [
        "# Step 3. Assign it to a variable called users and use the 'user_id' as index\n",
        "\n",
        "# Import the dataset and set 'user_id' as index\n",
        "users = pd.read_csv('https://raw.githubusercontent.com/justmarkham/DAT8/master/data/u.user', delimiter='|')\n",
        "users = users.set_index('user_id')\n",
        "\n",
        "# Print the first few rows of the DataFrame\n",
        "print(users.head())"
      ],
      "metadata": {
        "id": "CJgNH3zaQito"
      },
      "execution_count": null,
      "outputs": []
    },
    {
      "cell_type": "code",
      "source": [
        "# Assign it to a variable called occupation.\n",
        "\n",
        "occupation = pd.read_table('https://raw.githubusercontent.com/justmarkham/DAT8/master/data/u.user')\n",
        "print(occupation.head())\n",
        "\n"
      ],
      "metadata": {
        "id": "DZi3qGVgxvwf"
      },
      "execution_count": null,
      "outputs": []
    },
    {
      "cell_type": "code",
      "source": [
        "# Step 4. Discover what is the mean age per occupation\n",
        "\n",
        "# Group the data by occupation and calculate the mean age for each group\n",
        "mean_age_per_occupation = users.groupby('occupation')['age'].mean()\n",
        "\n",
        "# Print the mean age per occupation\n",
        "print(\"Mean age per occupation:\")\n",
        "print(mean_age_per_occupation)"
      ],
      "metadata": {
        "id": "HYh0sA_VQoAs"
      },
      "execution_count": null,
      "outputs": []
    },
    {
      "cell_type": "code",
      "source": [
        "# Step 5. Discover the Male ratio per occupation and sort it from the most to the least\n",
        "\n",
        "# Create a new column 'is_male' indicating whether the user is male (1 for male, 0 for female)\n",
        "users['is_male'] = (users['gender'] == 'M').astype(int)\n",
        "\n",
        "# Group the data by occupation and calculate the male ratio for each group\n",
        "male_ratio_per_occupation = users.groupby('occupation')['is_male'].mean()\n",
        "\n",
        "# Sort the male ratio from the most to the least\n",
        "male_ratio_per_occupation_sorted = male_ratio_per_occupation.sort_values(ascending=False)\n",
        "\n",
        "# Print the male ratio per occupation sorted from the most to the least\n",
        "print(\"Male ratio per occupation (sorted from most to least):\")\n",
        "print(male_ratio_per_occupation_sorted)"
      ],
      "metadata": {
        "id": "Ae8P8WzaQskW"
      },
      "execution_count": null,
      "outputs": []
    },
    {
      "cell_type": "code",
      "source": [
        "# Step 6. For each occupation, calculate the minimum and maximum ages\n",
        "\n",
        "# Group the data by occupation and calculate the minimum and maximum ages for each group\n",
        "min_max_ages_per_occupation = users.groupby('occupation')['age'].agg(['min', 'max'])\n",
        "\n",
        "# Print the minimum and maximum ages for each occupation\n",
        "print(\"Minimum and maximum ages for each occupation:\")\n",
        "print(min_max_ages_per_occupation)"
      ],
      "metadata": {
        "id": "qVmntiXUQyKR"
      },
      "execution_count": null,
      "outputs": []
    },
    {
      "cell_type": "code",
      "source": [
        "# Step 7. For each combination of occupation and gender, calculate the mean age\n",
        "\n",
        "# Group the data by both occupation and gender, and calculate the mean age for each group\n",
        "mean_age_per_occupation_gender = users.groupby(['occupation', 'gender'])['age'].mean()\n",
        "\n",
        "# Print the mean age for each combination of occupation and gender\n",
        "print(\"Mean age for each combination of occupation and gender:\")\n",
        "print(mean_age_per_occupation_gender)"
      ],
      "metadata": {
        "id": "oxdF0V1lQ13t"
      },
      "execution_count": null,
      "outputs": []
    },
    {
      "cell_type": "code",
      "source": [
        "# Step 8. For each occupation present the percentage of women and men\n",
        "\n",
        "# Calculate the total number of users (both men and women) for each occupation\n",
        "total_users_per_occupation = users.groupby('occupation')['gender'].count()\n",
        "\n",
        "# Calculate the total number of women for each occupation\n",
        "women_per_occupation = users[users['gender'] == 'F'].groupby('occupation')['gender'].count()\n",
        "\n",
        "# Calculate the total number of men for each occupation\n",
        "men_per_occupation = users[users['gender'] == 'M'].groupby('occupation')['gender'].count()\n",
        "\n",
        "# Calculate the percentage of women and men for each occupation\n",
        "percentage_women_per_occupation = (women_per_occupation / total_users_per_occupation) * 100\n",
        "percentage_men_per_occupation = (men_per_occupation / total_users_per_occupation) * 100\n",
        "\n",
        "# Create a DataFrame to store the results\n",
        "gender_percentage_per_occupation = pd.DataFrame({\n",
        "    'Percentage Women': percentage_women_per_occupation,\n",
        "    'Percentage Men': percentage_men_per_occupation\n",
        "})\n",
        "\n",
        "# Print the percentage of women and men for each occupation\n",
        "print(\"Percentage of Women and Men for Each Occupation:\")\n",
        "print(gender_percentage_per_occupation)\n",
        "\n"
      ],
      "metadata": {
        "id": "DdcQxZyaRKbQ"
      },
      "execution_count": null,
      "outputs": []
    }
  ]
}