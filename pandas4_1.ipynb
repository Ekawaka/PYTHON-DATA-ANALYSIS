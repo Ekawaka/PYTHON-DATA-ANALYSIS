{
  "nbformat": 4,
  "nbformat_minor": 0,
  "metadata": {
    "colab": {
      "provenance": [],
      "authorship_tag": "ABX9TyNc//o+HZ/iy12ChdUDD8El",
      "include_colab_link": true
    },
    "kernelspec": {
      "name": "python3",
      "display_name": "Python 3"
    },
    "language_info": {
      "name": "python"
    }
  },
  "cells": [
    {
      "cell_type": "markdown",
      "metadata": {
        "id": "view-in-github",
        "colab_type": "text"
      },
      "source": [
        "<a href=\"https://colab.research.google.com/github/Ekawaka/PYTHON-DATA-ANALYSIS/blob/main/pandas4_1.ipynb\" target=\"_parent\"><img src=\"https://colab.research.google.com/assets/colab-badge.svg\" alt=\"Open In Colab\"/></a>"
      ]
    },
    {
      "cell_type": "markdown",
      "source": [
        "Ex3 - Getting and Knowing your Data\n",
        "This time we are going to pull data directly from the internet. Special thanks to: https://github.com/justmarkham for sharing the dataset and materials."
      ],
      "metadata": {
        "id": "Nui8Ap7rS-os"
      }
    },
    {
      "cell_type": "code",
      "source": [
        "# Step 1. Import the necessary libraries\n",
        "import pandas as pd\n",
        "import numpy as np\n",
        "import seaborn as sns\n",
        "import matplotlib.pyplot as plt\n"
      ],
      "metadata": {
        "id": "-ZW4qKmSTA0N"
      },
      "execution_count": 6,
      "outputs": []
    },
    {
      "cell_type": "code",
      "source": [
        "# Step 2. Import the dataset from this address.\n",
        "\n",
        "df = pd.read_csv('https://raw.githubusercontent.com/justmarkham/DAT8/master/data/u.user')\n",
        "print(df.head())"
      ],
      "metadata": {
        "colab": {
          "base_uri": "https://localhost:8080/"
        },
        "id": "N60iNm-RTVYO",
        "outputId": "9a7c6cf7-d856-4981-9904-026522b727c4"
      },
      "execution_count": 8,
      "outputs": [
        {
          "output_type": "stream",
          "name": "stdout",
          "text": [
            "  user_id|age|gender|occupation|zip_code\n",
            "0                1|24|M|technician|85711\n",
            "1                     2|53|F|other|94043\n",
            "2                    3|23|M|writer|32067\n",
            "3                4|24|M|technician|43537\n",
            "4                     5|33|F|other|15213\n"
          ]
        }
      ]
    },
    {
      "cell_type": "code",
      "source": [
        "# Step 3. Assign it to a variable called users and use the 'user_id' as index\n",
        "\n",
        "# Import the dataset and set 'user_id' as index\n",
        "users = pd.read_csv('https://raw.githubusercontent.com/justmarkham/DAT8/master/data/u.user', delimiter='|')\n",
        "users = users.set_index('user_id')\n",
        "\n",
        "# Print the first few rows of the DataFrame\n",
        "print(users.head())\n"
      ],
      "metadata": {
        "id": "tlgNleR3U5F1"
      },
      "execution_count": null,
      "outputs": []
    },
    {
      "cell_type": "code",
      "source": [
        "# Step 4. See the first 25 entries\n",
        "\n",
        "print(users.head(25))"
      ],
      "metadata": {
        "id": "3qgcMYU3WIPp"
      },
      "execution_count": null,
      "outputs": []
    },
    {
      "cell_type": "code",
      "source": [
        "# Step 5. See the last 10 entries\n",
        "\n",
        "print(users.tail(10))"
      ],
      "metadata": {
        "id": "eeCxZ7lXWc1u"
      },
      "execution_count": null,
      "outputs": []
    },
    {
      "cell_type": "code",
      "source": [
        "# Step 6. What is the number of observations in the dataset?\n",
        "\n",
        "num_observations = users.shape[0]\n",
        "print(\"Number of observations in the dataset:\", num_observations)"
      ],
      "metadata": {
        "colab": {
          "base_uri": "https://localhost:8080/"
        },
        "id": "R4wumlmYWm26",
        "outputId": "ca38b665-6b71-4a0d-d786-d364138706b5"
      },
      "execution_count": 12,
      "outputs": [
        {
          "output_type": "stream",
          "name": "stdout",
          "text": [
            "Number of observations in the dataset: 943\n"
          ]
        }
      ]
    },
    {
      "cell_type": "code",
      "source": [
        "# Step 7. What is the number of columns in the dataset?\n",
        "\n",
        "num_columns = users.shape[1]\n",
        "print(\"Number of columns in the dataset:\", num_columns)"
      ],
      "metadata": {
        "colab": {
          "base_uri": "https://localhost:8080/"
        },
        "id": "_HAXDeU8WypD",
        "outputId": "fb3f9d3c-0935-4aaf-dc3c-eefeaef0adc4"
      },
      "execution_count": 13,
      "outputs": [
        {
          "output_type": "stream",
          "name": "stdout",
          "text": [
            "Number of columns in the dataset: 4\n"
          ]
        }
      ]
    },
    {
      "cell_type": "code",
      "source": [
        "# Step 8. Print the name of all the columns.\n",
        "\n",
        "print(\"Names of all the columns:\")\n",
        "print(users.columns)"
      ],
      "metadata": {
        "colab": {
          "base_uri": "https://localhost:8080/"
        },
        "id": "j0Cfb0jUW9Jz",
        "outputId": "3928f1d9-5285-4f0f-e1c1-66293959646b"
      },
      "execution_count": 14,
      "outputs": [
        {
          "output_type": "stream",
          "name": "stdout",
          "text": [
            "Names of all the columns:\n",
            "Index(['age', 'gender', 'occupation', 'zip_code'], dtype='object')\n"
          ]
        }
      ]
    },
    {
      "cell_type": "code",
      "source": [
        "# Step 9. How is the dataset indexed?\n",
        "\n",
        "\n",
        "print(\"Index of the dataset:\")\n",
        "print(users.index)"
      ],
      "metadata": {
        "colab": {
          "base_uri": "https://localhost:8080/"
        },
        "id": "rqJ7iNKyXLVq",
        "outputId": "bc000869-98d1-42a7-e7d4-b58d3226a954"
      },
      "execution_count": 15,
      "outputs": [
        {
          "output_type": "stream",
          "name": "stdout",
          "text": [
            "Index of the dataset:\n",
            "Index([  1,   2,   3,   4,   5,   6,   7,   8,   9,  10,\n",
            "       ...\n",
            "       934, 935, 936, 937, 938, 939, 940, 941, 942, 943],\n",
            "      dtype='int64', name='user_id', length=943)\n"
          ]
        }
      ]
    },
    {
      "cell_type": "code",
      "source": [
        "# Step 10. What is the data type of each column?\n",
        "\n",
        "print(\"Data types of each column:\")\n",
        "print(users.dtypes)"
      ],
      "metadata": {
        "id": "Nn-coQkvXZ0y"
      },
      "execution_count": null,
      "outputs": []
    },
    {
      "cell_type": "code",
      "source": [
        "# Step 11. Print only the occupation column\n",
        "\n",
        "print(users.loc[:, 'occupation'])\n",
        "print(users['occupation'])"
      ],
      "metadata": {
        "id": "M4P0azL5XknI"
      },
      "execution_count": null,
      "outputs": []
    },
    {
      "cell_type": "code",
      "source": [
        "# Step 12. How many different occupations are in this dataset?\n",
        "\n",
        "num_unique_occupations = users['occupation'].nunique()\n",
        "print(\"Number of different occupations:\", num_unique_occupations)"
      ],
      "metadata": {
        "id": "xtso5usrYBL4"
      },
      "execution_count": null,
      "outputs": []
    },
    {
      "cell_type": "code",
      "source": [
        "# Step 13. What is the most frequent occupation?\n",
        "\n",
        "most_frequent_occupation = users['occupation'].value_counts().idxmax()\n",
        "print(\"The most frequent occupation is:\", most_frequent_occupation)"
      ],
      "metadata": {
        "colab": {
          "base_uri": "https://localhost:8080/"
        },
        "id": "6taPNN3TYYLt",
        "outputId": "6e3b4f92-0e1c-41c2-dc93-2c4b3469eb8b"
      },
      "execution_count": 21,
      "outputs": [
        {
          "output_type": "stream",
          "name": "stdout",
          "text": [
            "The most frequent occupation is: student\n"
          ]
        }
      ]
    },
    {
      "cell_type": "code",
      "source": [
        "# Step 14. Summarize the DataFrame.\n",
        "\n",
        "summary = users.describe()\n",
        "print(summary)"
      ],
      "metadata": {
        "id": "vMZEPmmSYm3k"
      },
      "execution_count": null,
      "outputs": []
    },
    {
      "cell_type": "code",
      "source": [
        "# Step 15. Summarize all the columns\n",
        "\n",
        "summary_all_columns = users.info()\n",
        "print(summary_all_columns)"
      ],
      "metadata": {
        "id": "r-0UNjAsY2xL"
      },
      "execution_count": null,
      "outputs": []
    },
    {
      "cell_type": "code",
      "source": [
        "# Step 16. Summarize only the occupation column\n",
        "\n",
        "occupation_summary = users['occupation'].value_counts()\n",
        "print(occupation_summary)"
      ],
      "metadata": {
        "id": "yIi6pPOCZHPI"
      },
      "execution_count": null,
      "outputs": []
    },
    {
      "cell_type": "code",
      "source": [
        "# Step 17. What is the mean age of users?\n",
        "\n",
        "mean_age = users['age'].mean()\n",
        "print(\"Mean age of users:\", mean_age)"
      ],
      "metadata": {
        "id": "qa-lsMqUZZFJ"
      },
      "execution_count": null,
      "outputs": []
    },
    {
      "cell_type": "code",
      "source": [
        "#Step 18. What is the age with least occurrence?\n",
        "\n",
        "least_occurred_age = users['age'].value_counts().idxmin()\n",
        "print(\"Age with least occurrence:\", least_occurred_age)"
      ],
      "metadata": {
        "id": "naY3NmjbZm-h"
      },
      "execution_count": null,
      "outputs": []
    }
  ]
}