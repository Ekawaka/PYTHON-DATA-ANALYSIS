{
  "nbformat": 4,
  "nbformat_minor": 0,
  "metadata": {
    "colab": {
      "provenance": [],
      "authorship_tag": "ABX9TyMSMoVEcfKeP55vktJziRoQ",
      "include_colab_link": true
    },
    "kernelspec": {
      "name": "python3",
      "display_name": "Python 3"
    },
    "language_info": {
      "name": "python"
    }
  },
  "cells": [
    {
      "cell_type": "markdown",
      "metadata": {
        "id": "view-in-github",
        "colab_type": "text"
      },
      "source": [
        "<a href=\"https://colab.research.google.com/github/Ekawaka/PYTHON-DATA-ANALYSIS/blob/main/Numpy3.ipynb\" target=\"_parent\"><img src=\"https://colab.research.google.com/assets/colab-badge.svg\" alt=\"Open In Colab\"/></a>"
      ]
    },
    {
      "cell_type": "code",
      "execution_count": 1,
      "metadata": {
        "id": "IOK16ZFdYeOx"
      },
      "outputs": [],
      "source": [
        "import numpy as np"
      ]
    },
    {
      "cell_type": "code",
      "source": [
        "# 31. How to ignore all numpy warnings (not recommended)\n",
        "import warnings\n",
        "\n",
        "# Ignore all NumPy warnings\n",
        "warnings.filterwarnings('ignore', category=np.VisibleDeprecationWarning)\n",
        "\n",
        "# Restore the warning settings to their original state (recommended)\n",
        "warnings.resetwarnings()"
      ],
      "metadata": {
        "id": "RXNIcGXlYgQF"
      },
      "execution_count": 4,
      "outputs": []
    },
    {
      "cell_type": "code",
      "source": [
        "# 32.Is the following expressions true?\n",
        "np.sqrt(-1) == np.emath.sqrt(-1)"
      ],
      "metadata": {
        "colab": {
          "base_uri": "https://localhost:8080/"
        },
        "id": "c2KUIVKVZi8U",
        "outputId": "3fad2bff-b0a6-4a50-b0b3-ba8d2396fccf"
      },
      "execution_count": 5,
      "outputs": [
        {
          "output_type": "stream",
          "name": "stderr",
          "text": [
            "<ipython-input-5-b376743d6cca>:2: RuntimeWarning: invalid value encountered in sqrt\n",
            "  np.sqrt(-1) == np.emath.sqrt(-1)\n"
          ]
        },
        {
          "output_type": "execute_result",
          "data": {
            "text/plain": [
              "False"
            ]
          },
          "metadata": {},
          "execution_count": 5
        }
      ]
    },
    {
      "cell_type": "code",
      "source": [
        "# 33.How to get the dates of yesterday, today and tomorrow?\n",
        "\n",
        "from datetime import datetime, timedelta\n",
        "\n",
        "# Get today's date\n",
        "today = datetime.now().date()\n",
        "\n",
        "# Get yesterday's date\n",
        "yesterday = today - timedelta(days=1)\n",
        "\n",
        "# Get tomorrow's date\n",
        "tomorrow = today + timedelta(days=1)\n",
        "\n",
        "print(\"yesterday:\", yesterday)\n",
        "print(\"Today:\", today)\n",
        "print(\"Tomorrow:\", tomorrow)"
      ],
      "metadata": {
        "colab": {
          "base_uri": "https://localhost:8080/"
        },
        "id": "lKhAT3_6Z7f2",
        "outputId": "95c9e348-fb02-435c-cfc0-93463038a671"
      },
      "execution_count": 7,
      "outputs": [
        {
          "output_type": "stream",
          "name": "stdout",
          "text": [
            "yesterday: 2024-03-26\n",
            "Today: 2024-03-27\n",
            "Tomorrow: 2024-03-28\n"
          ]
        }
      ]
    },
    {
      "cell_type": "code",
      "source": [
        "# 34. How to get all the dates corresponding to the month of July 2016?\n",
        "\n",
        "from datetime import datetime, timedelta\n",
        "\n",
        "# Define the start date and end date of July 2016\n",
        "start_date = datetime(2016, 7, 1)\n",
        "end_date = datetime(2016, 7, 31)\n",
        "\n",
        "# Generate all dates for the month of July 2016\n",
        "dates_in_july_2016 = [start_date + timedelta(days=i) for i in range((end_date - start_date).days + 1)]\n",
        "\n",
        "# Print all dates in the list\n",
        "for date in dates_in_july_2016:\n",
        "    print(date.date())"
      ],
      "metadata": {
        "id": "mHcQv7_Ua4So"
      },
      "execution_count": null,
      "outputs": []
    },
    {
      "cell_type": "code",
      "source": [
        "# 35. How to compute ((A+B)*(-A/2)) in place (without copy)?\n",
        "\n",
        "# Define arrays A and B\n",
        "A = np.array([1, 2, 3], dtype=np.float64)\n",
        "B = np.array([4, 5, 6])\n",
        "\n",
        "\n",
        "# Compute ((A+B)*(-A/2)) in place\n",
        "np.add(A, B, out=A)  # A += B\n",
        "np.negative(A, out=A)  # A = -A\n",
        "np.divide(A, 2, out=A)  # A /= 2\n",
        "np.multiply(A, -1, out=A)  # A *= -1\n",
        "\n",
        "print(A)\n"
      ],
      "metadata": {
        "colab": {
          "base_uri": "https://localhost:8080/"
        },
        "id": "r4h0SinYa4N-",
        "outputId": "57c8cac4-0632-43af-9f0a-2111f55c9e2d"
      },
      "execution_count": 34,
      "outputs": [
        {
          "output_type": "stream",
          "name": "stdout",
          "text": [
            "[2.5 3.5 4.5]\n"
          ]
        }
      ]
    },
    {
      "cell_type": "code",
      "source": [
        "# 36. Extract the integer part of a random array of positive numbers using 4 different methods\n",
        "\n",
        "# Generate a random array of positive numbers\n",
        "random_array = np.random.rand(5) * 10  # Generating random positive numbers scaled by 10\n",
        "\n",
        "# Method 1: Using astype to convert to integers\n",
        "integers_method1 = random_array.astype(int)\n",
        "\n",
        "# Method 2: Using floor to round down\n",
        "integers_method2 = np.floor(random_array).astype(int)\n",
        "\n",
        "# Method 3: Using list comprehension with int function\n",
        "integers_method3 = np.array([int(x) for x in random_array])\n",
        "\n",
        "# Method 4: Using trunc to truncate decimal part\n",
        "integers_method4 = np.trunc(random_array).astype(int)\n",
        "\n",
        "# Print the results\n",
        "print(\"Original array:\", random_array)\n",
        "print(\"Method 1 (astype):\", integers_method1)\n",
        "print(\"Method 2 (floor):\", integers_method2)\n",
        "print(\"Method 3 (list comprehension):\", integers_method3)\n",
        "print(\"Method 4 (trunc):\", integers_method4)"
      ],
      "metadata": {
        "id": "qqud2WNbbP7F"
      },
      "execution_count": null,
      "outputs": []
    },
    {
      "cell_type": "code",
      "source": [
        "# 37.  Create a 5x5 matrix with row values ranging from 0 to 4\n",
        "# Create the matrix using broadcasting\n",
        "matrix = np.arange(5).reshape(1, -1) + np.arange(5).reshape(-1, 1)\n",
        "\n",
        "print(matrix)"
      ],
      "metadata": {
        "id": "6eGi2N-ldrNf"
      },
      "execution_count": null,
      "outputs": []
    },
    {
      "cell_type": "code",
      "source": [
        "# 38. Consider a generator function that generates 10 integers and use it to build an array\n",
        "def generate_integers():\n",
        "    for i in range(10):\n",
        "        yield i\n",
        "\n",
        "# Create an array from the generator function\n",
        "array_from_generator = np.fromiter(generate_integers(), dtype=int)\n",
        "\n",
        "print(array_from_generator)"
      ],
      "metadata": {
        "colab": {
          "base_uri": "https://localhost:8080/"
        },
        "id": "QHmaJr4FeOkG",
        "outputId": "62cc5b57-c799-47e0-ac6b-1e207253306e"
      },
      "execution_count": 20,
      "outputs": [
        {
          "output_type": "stream",
          "name": "stdout",
          "text": [
            "[0 1 2 3 4 5 6 7 8 9]\n"
          ]
        }
      ]
    },
    {
      "cell_type": "code",
      "source": [
        "# 39. Create a vector of size 10 with values ranging from 0 to 1, both excluded\n",
        "\n",
        "# Create a vector of size 10 with values ranging from 0 to 1 (both excluded)\n",
        "vector = np.linspace(0, 1, num=12, endpoint=False)[1:-1] #using the linspace function, and then excluding the endpoints\n",
        "\n",
        "print(vector)"
      ],
      "metadata": {
        "id": "8ZnHHNBPe7nH"
      },
      "execution_count": null,
      "outputs": []
    },
    {
      "cell_type": "code",
      "source": [
        "# 40. Create a random vector of size 10 and sort it\n",
        "\n",
        "# Create a random vector of size 10\n",
        "random_vector = np.random.rand(10)\n",
        "\n",
        "# Sort the vector\n",
        "sorted_vector = np.sort(random_vector)\n",
        "\n",
        "print(\"Random vector:\")\n",
        "print(random_vector)\n",
        "print(\"\\nSorted vector:\")\n",
        "print(sorted_vector)"
      ],
      "metadata": {
        "id": "4gKtAquZfrbV"
      },
      "execution_count": null,
      "outputs": []
    },
    {
      "cell_type": "code",
      "source": [
        "# 41. How to sum a small array faster than np.sum?\n",
        "\n",
        "# Create a small array\n",
        "small_array = np.array([1, 2, 3, 4, 5])\n",
        "\n",
        "# Sum the array using np.sum()\n",
        "sum_np = np.sum(small_array)\n",
        "\n",
        "# Sum the array using Python's built-in sum() function\n",
        "sum_builtin = sum(small_array)\n",
        "\n",
        "print(\"Sum using np.sum():\", sum_np)\n",
        "print(\"Sum using built-in sum():\", sum_builtin)"
      ],
      "metadata": {
        "id": "yzq8zqtvgb-C"
      },
      "execution_count": null,
      "outputs": []
    },
    {
      "cell_type": "code",
      "source": [
        "# 42. Consider two random array A and B, check if they are equal\n",
        "\n",
        "# Generate two random arrays A and B\n",
        "A = np.random.rand(5)\n",
        "B = np.random.rand(5)\n",
        "\n",
        "# Check if the arrays are equal element-wise\n",
        "are_equal = np.array_equal(A, B)\n",
        "\n",
        "# Print the result\n",
        "if are_equal:\n",
        "    print(\"Arrays A and B are equal.\")\n",
        "else:\n",
        "    print(\"Arrays A and B are not equal.\")"
      ],
      "metadata": {
        "id": "zdQP_T3VhLae"
      },
      "execution_count": null,
      "outputs": []
    },
    {
      "cell_type": "code",
      "source": [
        "# 43. Make an array immutable (read-only)\n",
        "\n",
        "# Create a NumPy array\n",
        "my_array = np.array([1, 2, 3, 4, 5])\n",
        "\n",
        "# Make the array immutable (read-only)\n",
        "my_array.flags.writeable = False\n",
        "\n",
        "# Try to modify the array (this will raise an error)\n",
        "try:\n",
        "    my_array[0] = 10\n",
        "except ValueError as e:\n",
        "    print(\"Error:\", e)\n",
        "\n",
        "# Check if the array is read-only\n",
        "print(\"Is the array read-only?\", not my_array.flags.writeable)"
      ],
      "metadata": {
        "colab": {
          "base_uri": "https://localhost:8080/"
        },
        "id": "g4yG2WMDh_jv",
        "outputId": "b386717e-4714-4747-af1b-2bdcca06c202"
      },
      "execution_count": 28,
      "outputs": [
        {
          "output_type": "stream",
          "name": "stdout",
          "text": [
            "Error: assignment destination is read-only\n",
            "Is the array read-only? True\n"
          ]
        }
      ]
    },
    {
      "cell_type": "code",
      "source": [
        "# 44. Consider a random 10x2 matrix representing cartesian coordinates, convert them to polar coordinates\n",
        "# Generate a random 10x2 matrix representing Cartesian coordinates\n",
        "cartesian_coordinates = np.random.rand(10, 2)\n",
        "\n",
        "# Extract x and y coordinates\n",
        "x = cartesian_coordinates[:, 0]\n",
        "y = cartesian_coordinates[:, 1]\n",
        "\n",
        "# Convert to polar coordinates\n",
        "r = np.sqrt(x**2 + y**2)\n",
        "theta = np.arctan2(y, x)\n",
        "\n",
        "# Combine r and theta into polar coordinates\n",
        "polar_coordinates = np.column_stack((r, theta))\n",
        "\n",
        "print(\"Cartesian coordinates:\")\n",
        "print(cartesian_coordinates)\n",
        "print(\"\\nPolar coordinates:\")\n",
        "print(polar_coordinates)"
      ],
      "metadata": {
        "id": "RdjQ1E4Fiejq"
      },
      "execution_count": null,
      "outputs": []
    },
    {
      "cell_type": "code",
      "source": [
        "# 45. Create random vector of size 10 and replace the maximum value by 0\n",
        "\n",
        "# Create a random vector of size 10\n",
        "random_vector = np.random.rand(10)\n",
        "\n",
        "# Find the index of the maximum value in the vector\n",
        "max_index = np.argmax(random_vector)\n",
        "\n",
        "# Replace the maximum value with 0\n",
        "random_vector[max_index] = 0\n",
        "\n",
        "print(\"Random vector with maximum value replaced by 0:\")\n",
        "print(random_vector)"
      ],
      "metadata": {
        "id": "2Q7v4DjDjZaf"
      },
      "execution_count": null,
      "outputs": []
    }
  ]
}