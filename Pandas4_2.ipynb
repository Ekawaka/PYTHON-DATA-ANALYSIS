{
  "nbformat": 4,
  "nbformat_minor": 0,
  "metadata": {
    "colab": {
      "provenance": [],
      "authorship_tag": "ABX9TyM3qhv5d7TOuKkFQ6RzexK1",
      "include_colab_link": true
    },
    "kernelspec": {
      "name": "python3",
      "display_name": "Python 3"
    },
    "language_info": {
      "name": "python"
    }
  },
  "cells": [
    {
      "cell_type": "markdown",
      "metadata": {
        "id": "view-in-github",
        "colab_type": "text"
      },
      "source": [
        "<a href=\"https://colab.research.google.com/github/Ekawaka/PYTHON-DATA-ANALYSIS/blob/main/Pandas4_2.ipynb\" target=\"_parent\"><img src=\"https://colab.research.google.com/assets/colab-badge.svg\" alt=\"Open In Colab\"/></a>"
      ]
    },
    {
      "cell_type": "markdown",
      "source": [
        "Exercise 1 World Food Facts"
      ],
      "metadata": {
        "id": "kGxG8jyoc-S2"
      }
    },
    {
      "cell_type": "code",
      "source": [
        "import pandas as pd\n",
        "import numpy as np"
      ],
      "metadata": {
        "id": "B0WyQ1tYdTyv"
      },
      "execution_count": 4,
      "outputs": []
    },
    {
      "cell_type": "code",
      "source": [
        "# Step 1. Go to https://www.kaggle.com/openfoodfacts/world-food-facts/data\n",
        "\n",
        "food = pd.read_csv(\"en.openfoodfacts.org.products.tsv\",sep='\\t')"
      ],
      "metadata": {
        "id": "CvmATVJCdBsk"
      },
      "execution_count": null,
      "outputs": []
    },
    {
      "cell_type": "code",
      "source": [
        "# Step 2. Download the dataset to your computer and unzip it."
      ],
      "metadata": {
        "id": "9J40v0G4f5WN"
      },
      "execution_count": null,
      "outputs": []
    },
    {
      "cell_type": "code",
      "source": [
        "# Step 3. Use the tsv file and assign it to a dataframe called food\n"
      ],
      "metadata": {
        "id": "T9fjhXDagAiZ"
      },
      "execution_count": null,
      "outputs": []
    },
    {
      "cell_type": "code",
      "source": [
        "# Step 4. See the first 5 entries\n",
        "\n",
        "food.head(5)"
      ],
      "metadata": {
        "id": "mA6B4PR-gI8-"
      },
      "execution_count": null,
      "outputs": []
    },
    {
      "cell_type": "code",
      "source": [
        "# Step 5. What is the number of observations in the dataset?\n",
        "\n",
        "food.shape[0]"
      ],
      "metadata": {
        "id": "uMyLhTnxgLgj"
      },
      "execution_count": null,
      "outputs": []
    },
    {
      "cell_type": "code",
      "source": [
        "# Step 6. What is the number of columns in the dataset?\n",
        "\n",
        "food.shape[1]"
      ],
      "metadata": {
        "id": "k3eCk_nzgOS8"
      },
      "execution_count": null,
      "outputs": []
    },
    {
      "cell_type": "code",
      "source": [
        "# Step 7. Print the name of all the columns.\n",
        "\n",
        "food.columns"
      ],
      "metadata": {
        "id": "XHJiYEyagR-I"
      },
      "execution_count": null,
      "outputs": []
    },
    {
      "cell_type": "code",
      "source": [
        "# Step 8. What is the name of 105th column?\n",
        "\n",
        "food.columns[104]"
      ],
      "metadata": {
        "id": "9tmxKbxrgU8u"
      },
      "execution_count": null,
      "outputs": []
    },
    {
      "cell_type": "code",
      "source": [
        "# Step 9. What is the type of the observations of the 105th column?\n",
        "\n",
        "type(food.columns[104])"
      ],
      "metadata": {
        "id": "SKdgM3sGgXyQ"
      },
      "execution_count": null,
      "outputs": []
    },
    {
      "cell_type": "code",
      "source": [
        "# Step 10. How is the dataset indexed?\n",
        "\n",
        "food.index"
      ],
      "metadata": {
        "id": "V1pddiLTgcIo"
      },
      "execution_count": null,
      "outputs": []
    },
    {
      "cell_type": "code",
      "source": [
        "# Step 11. What is the product name of the 19th observation?\n",
        "\n",
        "food.product_name[18]"
      ],
      "metadata": {
        "id": "K_6z3egogfia"
      },
      "execution_count": null,
      "outputs": []
    }
  ]
}