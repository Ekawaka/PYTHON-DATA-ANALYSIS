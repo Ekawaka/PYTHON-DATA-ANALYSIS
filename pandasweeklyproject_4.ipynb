{
  "nbformat": 4,
  "nbformat_minor": 0,
  "metadata": {
    "colab": {
      "provenance": [],
      "authorship_tag": "ABX9TyOt0655Djl94+FTwuOFzHgt",
      "include_colab_link": true
    },
    "kernelspec": {
      "name": "python3",
      "display_name": "Python 3"
    },
    "language_info": {
      "name": "python"
    }
  },
  "cells": [
    {
      "cell_type": "markdown",
      "metadata": {
        "id": "view-in-github",
        "colab_type": "text"
      },
      "source": [
        "<a href=\"https://colab.research.google.com/github/Ekawaka/PYTHON-DATA-ANALYSIS/blob/main/pandasweeklyproject_4.ipynb\" target=\"_parent\"><img src=\"https://colab.research.google.com/assets/colab-badge.svg\" alt=\"Open In Colab\"/></a>"
      ]
    },
    {
      "cell_type": "markdown",
      "source": [
        "Iris\n",
        "Introduction:\n",
        "This exercise may seem a little bit strange, but keep doing it."
      ],
      "metadata": {
        "id": "s25vnEn9HAMH"
      }
    },
    {
      "cell_type": "code",
      "source": [
        "# Step 1. Import the necessary libraries\n",
        "\n",
        "import pandas as pd"
      ],
      "metadata": {
        "id": "-5WvYKyNHH5u"
      },
      "execution_count": 2,
      "outputs": []
    },
    {
      "cell_type": "code",
      "source": [
        "# Step 2. Import the dataset from this address.\n",
        "\n",
        "data = pd.read_csv('https://archive.ics.uci.edu/ml/machine-learning-databases/iris/iris.data')"
      ],
      "metadata": {
        "id": "Kx6hFdBhH7Z5"
      },
      "execution_count": 3,
      "outputs": []
    },
    {
      "cell_type": "code",
      "source": [
        "# Step 3. Assign it to a variable called iris\n",
        "\n",
        "iris = pd.read_csv('https://archive.ics.uci.edu/ml/machine-learning-databases/iris/iris.data')"
      ],
      "metadata": {
        "id": "RzrVJhtiH7I6"
      },
      "execution_count": 4,
      "outputs": []
    },
    {
      "cell_type": "code",
      "source": [
        "# Step 4. Create columns for the dataset\n",
        "# 1. sepal_length (in cm)\n",
        "# 2. sepal_width (in cm)\n",
        "# 3. petal_length (in cm)\n",
        "# 4. petal_width (in cm)\n",
        "# 5. class\n",
        "\n",
        "# Creating columns for the dataset\n",
        "iris.columns = ['sepal_length (cm)', 'sepal_width (cm)', 'petal_length (cm)', 'petal_width (cm)', 'class']\n",
        "print(iris.columns)"
      ],
      "metadata": {
        "id": "-XUGBwdLIsOd"
      },
      "execution_count": null,
      "outputs": []
    },
    {
      "cell_type": "code",
      "source": [
        "#Step 5. Is there any missing value in the dataframe?\n",
        "\n",
        "# Checking for missing values\n",
        "missing_values = iris.isnull().any().any()\n",
        "\n",
        "if missing_values:\n",
        "    print(\"Yes, there are missing values in the dataframe.\")\n",
        "else:\n",
        "    print(\"No, there are no missing values in the dataframe.\")"
      ],
      "metadata": {
        "id": "LdriGc5kJJD_"
      },
      "execution_count": null,
      "outputs": []
    },
    {
      "cell_type": "code",
      "source": [
        "# Step 6. Lets set the values of the rows 10 to 29 of the column 'petal_length' to NaN\n",
        "\n",
        "# Setting the values of rows 10 to 29 of the column 'petal_length' to NaN\n",
        "iris.loc[10:29, 'petal_length (cm)'] = float('nan')"
      ],
      "metadata": {
        "id": "VY_AFcMQJlOu"
      },
      "execution_count": 8,
      "outputs": []
    },
    {
      "cell_type": "code",
      "source": [
        "# Step 7. Good, now lets substitute the NaN values to 1.0\n",
        "\n",
        "# Substituting NaN values with 1.0\n",
        "iris.fillna(1.0, inplace=True)"
      ],
      "metadata": {
        "id": "t9sVpzxNJy0V"
      },
      "execution_count": 9,
      "outputs": []
    },
    {
      "cell_type": "code",
      "source": [
        "# Step 8. Now let's delete the column class\n",
        "\n",
        "# Deleting the column 'class'\n",
        "iris.drop('class', axis=1, inplace=True)"
      ],
      "metadata": {
        "id": "5U1jxGQeJ_7z"
      },
      "execution_count": 10,
      "outputs": []
    },
    {
      "cell_type": "code",
      "source": [
        "# Step 9. Set the first 3 rows as NaN\n",
        "\n",
        "# Setting the first 3 rows of the DataFrame to NaN\n",
        "iris.iloc[:3, :] = float('nan')"
      ],
      "metadata": {
        "id": "DZXZHssFKMih"
      },
      "execution_count": 11,
      "outputs": []
    },
    {
      "cell_type": "code",
      "source": [
        "# Step 10. Delete the rows that have NaN\n",
        "\n",
        "# Deleting rows with NaN values\n",
        "iris.dropna(inplace=True)"
      ],
      "metadata": {
        "id": "F16PLQJVKoY4"
      },
      "execution_count": 12,
      "outputs": []
    },
    {
      "cell_type": "code",
      "source": [
        "# Step 11. Reset the index so it begins with 0 again\n",
        "\n",
        "# Resetting the index\n",
        "iris.reset_index(drop=True, inplace=True)"
      ],
      "metadata": {
        "id": "YCcD67SPK7sM"
      },
      "execution_count": 13,
      "outputs": []
    }
  ]
}