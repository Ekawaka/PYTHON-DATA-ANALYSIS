{
  "nbformat": 4,
  "nbformat_minor": 0,
  "metadata": {
    "colab": {
      "provenance": [],
      "authorship_tag": "ABX9TyO3Tp01jkkJGO3R16g2S/KB",
      "include_colab_link": true
    },
    "kernelspec": {
      "name": "python3",
      "display_name": "Python 3"
    },
    "language_info": {
      "name": "python"
    }
  },
  "cells": [
    {
      "cell_type": "markdown",
      "metadata": {
        "id": "view-in-github",
        "colab_type": "text"
      },
      "source": [
        "<a href=\"https://colab.research.google.com/github/Ekawaka/PYTHON-DATA-ANALYSIS/blob/main/pandasweeklyproject_3.ipynb\" target=\"_parent\"><img src=\"https://colab.research.google.com/assets/colab-badge.svg\" alt=\"Open In Colab\"/></a>"
      ]
    },
    {
      "cell_type": "markdown",
      "source": [
        "Investor - Flow of Funds - US\n",
        "Introduction:\n",
        "Special thanks to: https://github.com/rgrp for sharing the dataset."
      ],
      "metadata": {
        "id": "KYjqbVgs--p3"
      }
    },
    {
      "cell_type": "code",
      "source": [
        "# Step 1. Import the necessary libraries\n",
        "import pandas as pd"
      ],
      "metadata": {
        "id": "zy9MDHlF_BKr"
      },
      "execution_count": 3,
      "outputs": []
    },
    {
      "cell_type": "code",
      "source": [
        "# Step 2. Import the dataset from this address.\n",
        "\n",
        "data = pd.read_csv('https://raw.githubusercontent.com/datasets/investor-flow-of-funds-us/master/data/weekly.csv')\n",
        "\n",
        "print(data.head())"
      ],
      "metadata": {
        "id": "u2I52i4a_OPR"
      },
      "execution_count": null,
      "outputs": []
    },
    {
      "cell_type": "code",
      "source": [
        "# Step 3. Assign it to a variable called\n",
        "\n",
        "# Importing the dataset from the provided URL and assigning it to a variable called investor_flow_data\n",
        "investor_flow_data = pd.read_csv('https://raw.githubusercontent.com/datasets/investor-flow-of-funds-us/master/data/weekly.csv')\n",
        "\n",
        "print(investor_flow_data.head())"
      ],
      "metadata": {
        "id": "Vyu_wAxH_l9S"
      },
      "execution_count": null,
      "outputs": []
    },
    {
      "cell_type": "code",
      "source": [
        "# Step 4. What is the frequency of the dataset?\n",
        "\n",
        "# Assuming 'Date' is the time column\n",
        "# Converting 'Date' column to datetime datatype if it's not already\n",
        "investor_flow_data['Date'] = pd.to_datetime(investor_flow_data['Date'])\n",
        "\n",
        "# Calculating the time interval between consecutive dates\n",
        "time_diff = investor_flow_data['Date'].diff().dropna()\n",
        "\n",
        "# Finding the most common time interval\n",
        "frequency = time_diff.mode().iloc[0]\n",
        "\n",
        "print(\"Frequency of the dataset:\", frequency)"
      ],
      "metadata": {
        "colab": {
          "base_uri": "https://localhost:8080/"
        },
        "id": "1RSfJo-7AZEG",
        "outputId": "4f8bf49a-f5ff-4a2e-c66d-f62b2859c96c"
      },
      "execution_count": 6,
      "outputs": [
        {
          "output_type": "stream",
          "name": "stdout",
          "text": [
            "Frequency of the dataset: 7 days 00:00:00\n"
          ]
        }
      ]
    },
    {
      "cell_type": "code",
      "source": [
        "# Step 5. Set the column Date as the index.\n",
        "\n",
        "# Assuming 'Date' is the name of the column containing date information\n",
        "investor_flow_data.set_index('Date', inplace=True)"
      ],
      "metadata": {
        "id": "yOlY4Y-HE3hI"
      },
      "execution_count": 7,
      "outputs": []
    },
    {
      "cell_type": "code",
      "source": [
        "# Step 6. What is the type of the index?\n",
        "\n",
        "index_type = investor_flow_data.index.dtype\n",
        "print(\"Type of the index:\", index_type)"
      ],
      "metadata": {
        "id": "i5NcFGb3FLCJ"
      },
      "execution_count": null,
      "outputs": []
    },
    {
      "cell_type": "code",
      "source": [
        "# Step 7. Set the index to a DatetimeIndex type\n",
        "\n",
        "# Assuming 'Date' is the name of the column containing date information\n",
        "investor_flow_data.index = pd.to_datetime(investor_flow_data.index)"
      ],
      "metadata": {
        "id": "BJ8VVOlCFauG"
      },
      "execution_count": 9,
      "outputs": []
    },
    {
      "cell_type": "code",
      "source": [
        "# Step 8. Change the frequency to monthly, sum the values and assign it to monthly.\n",
        "\n",
        "# Resampling the data to monthly frequency and summing the values\n",
        "monthly = investor_flow_data.resample('M').sum()\n",
        "print(monthly)"
      ],
      "metadata": {
        "id": "qaSyOwr_Fr-p"
      },
      "execution_count": null,
      "outputs": []
    },
    {
      "cell_type": "code",
      "source": [
        "# Step 9. You will notice that it filled the dataFrame with months that don't have any data with NaN. Let's drop these rows.\n",
        "\n",
        "# Dropping rows with NaN values\n",
        "monthly.dropna(inplace=True)"
      ],
      "metadata": {
        "id": "mcBz2tzzF__r"
      },
      "execution_count": 11,
      "outputs": []
    },
    {
      "cell_type": "code",
      "source": [
        "# Step 10. Good, now we have the monthly data. Now change the frequency to year.\n",
        "\n",
        "# Changing the frequency to yearly and summing the values\n",
        "yearly = monthly.resample('Y').sum()\n",
        "print(yearly)"
      ],
      "metadata": {
        "id": "TR1wtBfFGNxu"
      },
      "execution_count": null,
      "outputs": []
    }
  ]
}